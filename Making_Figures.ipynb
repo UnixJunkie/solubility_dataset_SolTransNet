{
 "cells": [
  {
   "cell_type": "code",
   "execution_count": 1,
   "metadata": {},
   "outputs": [],
   "source": [
    "import pickle\n",
    "import matplotlib.pyplot as plt\n",
    "%matplotlib inline"
   ]
  },
  {
   "cell_type": "code",
   "execution_count": 2,
   "metadata": {},
   "outputs": [
    {
     "name": "stderr",
     "output_type": "stream",
     "text": [
      "RDKit WARNING: [15:51:23] Enabling RDKit 2020.03.1dev1 jupyter extensions\n"
     ]
    }
   ],
   "source": [
    "import numpy as np\n",
    "import glob\n",
    "import re\n",
    "import pandas as pd\n",
    "import seaborn as sns\n",
    "import math\n",
    "from rdkit.Chem import AllChem as Chem\n",
    "from rdkit import DataStructs\n",
    "from scipy.stats import ttest_ind\n",
    "from io import StringIO\n",
    "import os\n",
    "import torch"
   ]
  },
  {
   "cell_type": "markdown",
   "metadata": {},
   "source": [
    "# Helper functions to be used throughout the analysis"
   ]
  },
  {
   "cell_type": "code",
   "execution_count": 3,
   "metadata": {},
   "outputs": [],
   "source": [
    "def get_stats(pred, gold):\n",
    "    rmse=np.sqrt(np.mean((pred-gold)**2))\n",
    "    r2=np.corrcoef(pred,gold)[0][1]**2\n",
    "    return(rmse,r2)"
   ]
  },
  {
   "cell_type": "code",
   "execution_count": 4,
   "metadata": {},
   "outputs": [],
   "source": [
    "plt.rc('axes',labelsize=13)\n",
    "plt.rc('axes',titlesize=13)"
   ]
  },
  {
   "cell_type": "markdown",
   "metadata": {},
   "source": [
    "## Generating LaTeX for Table 1 and STable1"
   ]
  },
  {
   "cell_type": "code",
   "execution_count": 5,
   "metadata": {},
   "outputs": [],
   "source": [
    "data=pd.read_csv('data/soltrannet_sweep_table.csv')"
   ]
  },
  {
   "cell_type": "code",
   "execution_count": 6,
   "metadata": {
    "scrolled": false
   },
   "outputs": [
    {
     "name": "stdout",
     "output_type": "stream",
     "text": [
      "\\begin{tabular}{llrrrrrr}\n",
      "\\toprule\n",
      "{} &    Model &  Parameters &  CCV RMSE &  Fold0 RMSE &  Fold1 RMSE &  Fold2 RMSE &  Ind RMSE \\\\\n",
      "\\midrule\n",
      "0  &      MAT &    42049537 &     2.007 &       1.231 &       3.075 &       1.058 &     2.113 \\\\\n",
      "1  &        0 &    21061633 &     1.449 &       1.161 &       1.959 &       1.054 &     1.914 \\\\\n",
      "2  &        1 &      502529 &     1.467 &       1.231 &       1.972 &       1.028 &     1.946 \\\\\n",
      "3  &        2 &      336385 &     1.377 &       1.260 &       1.682 &       1.126 &     1.870 \\\\\n",
      "4  &        3 &      336385 &     1.454 &       1.239 &       1.857 &       1.165 &     1.949 \\\\\n",
      "5  &        4 &       22657 &     1.297 &       1.187 &       1.582 &       1.066 &     1.903 \\\\\n",
      "6  &        5 &       11905 &     1.271 &       1.130 &       1.605 &       0.998 &     1.923 \\\\\n",
      "7  &        6 &       11905 &     1.350 &       1.272 &       1.680 &       1.012 &     1.903 \\\\\n",
      "8  &        7 &        3393 &     1.459 &       1.172 &       1.916 &       1.159 &     1.779 \\\\\n",
      "9  &        8 &        2609 &     1.376 &       1.169 &       1.788 &       1.055 &     1.973 \\\\\n",
      "10 &        9 &        2609 &     1.454 &       1.252 &       1.919 &       1.043 &     1.973 \\\\\n",
      "11 &  Elastic &        1463 &     1.835 &       1.843 &       1.965 &       1.687 &     2.090 \\\\\n",
      "12 &    Lasso &        1077 &     1.876 &       1.914 &       1.984 &       1.719 &     2.136 \\\\\n",
      "13 &      PLS &        2048 &     2.413 &       3.085 &       2.082 &       1.902 &     2.081 \\\\\n",
      "14 &    Ridge &        2048 &     2.239 &       2.503 &       2.032 &       2.155 &     2.312 \\\\\n",
      "\\bottomrule\n",
      "\\end{tabular}\n",
      "\n"
     ]
    }
   ],
   "source": [
    "print(data.to_latex(columns=['Model','Parameters']+[x for x in data.columns.tolist() if 'RMSE' in x]))"
   ]
  },
  {
   "cell_type": "code",
   "execution_count": 7,
   "metadata": {},
   "outputs": [
    {
     "name": "stdout",
     "output_type": "stream",
     "text": [
      "\\begin{tabular}{llrlrrrrrr}\n",
      "\\toprule\n",
      "{} &    Model &  Parameters &    Model &  Parameters &  CCV \\$R\\textasciicircum 2\\$ &  Fold0 \\$R\\textasciicircum 2\\$ &  Fold1 \\$R\\textasciicircum 2\\$ &  Fold2 \\$R\\textasciicircum 2\\$ &  Ind \\$R\\textasciicircum 2\\$ \\\\\n",
      "\\midrule\n",
      "0  &      MAT &    42049537 &      MAT &    42049537 &     0.5320 &       0.7510 &       0.3320 &       0.7150 &     0.3750 \\\\\n",
      "1  &        0 &    21061633 &        0 &    21061633 &     0.6700 &       0.7780 &       0.5200 &       0.7270 &     0.4718 \\\\\n",
      "2  &        1 &      502529 &        1 &      502529 &     0.6620 &       0.7690 &       0.4650 &       0.7330 &     0.4576 \\\\\n",
      "3  &        2 &      336385 &        2 &      336385 &     0.6930 &       0.7640 &       0.5630 &       0.7060 &     0.4890 \\\\\n",
      "4  &        3 &      336385 &        3 &      336385 &     0.6720 &       0.7640 &       0.5390 &       0.6850 &     0.4461 \\\\\n",
      "5  &        4 &       22657 &        4 &       22657 &     0.7240 &       0.7800 &       0.6260 &       0.7160 &     0.4831 \\\\\n",
      "6  &        5 &       11905 &        5 &       11905 &     0.7230 &       0.7930 &       0.5950 &       0.7440 &     0.4628 \\\\\n",
      "7  &        6 &       11905 &        6 &       11905 &     0.7130 &       0.7860 &       0.5820 &       0.7560 &     0.4517 \\\\\n",
      "8  &        7 &        3393 &        7 &        3393 &     0.6764 &       0.7914 &       0.5243 &       0.7424 &     0.5528 \\\\\n",
      "9  &        8 &        2609 &        8 &        2609 &     0.6950 &       0.7790 &       0.5450 &       0.7370 &     0.4580 \\\\\n",
      "10 &        9 &        2609 &        9 &        2609 &     0.6770 &       0.7670 &       0.5520 &       0.7200 &     0.4670 \\\\\n",
      "11 &  Elastic &        1463 &  Elastic &        1463 &     0.4140 &       0.4410 &       0.3940 &       0.4080 &     0.3770 \\\\\n",
      "12 &    Lasso &        1077 &    Lasso &        1077 &     0.3950 &       0.4090 &       0.3780 &       0.3920 &     0.3510 \\\\\n",
      "13 &      PLS &        2048 &      PLS &        2048 &     0.2280 &       0.2120 &       0.3330 &       0.0747 &     0.6760 \\\\\n",
      "14 &    Ridge &        2048 &    Ridge &        2048 &     0.3190 &       0.2890 &       0.3540 &       0.2910 &     0.2610 \\\\\n",
      "\\bottomrule\n",
      "\\end{tabular}\n",
      "\n"
     ]
    }
   ],
   "source": [
    "print(data.to_latex(columns=['Model','Parameters']+[x for x in data.columns.tolist() if 'RMSE' not in x]))"
   ]
  },
  {
   "cell_type": "markdown",
   "metadata": {},
   "source": [
    "## Generating the data for Table 2 and Figure S2"
   ]
  },
  {
   "cell_type": "code",
   "execution_count": 8,
   "metadata": {},
   "outputs": [],
   "source": [
    "#step 1 -- Generating the dictionary for the things\n",
    "data={}\n",
    "for dyn in range(1,21):\n",
    "    data[dyn]={'R2':[],'RMSE':[],'ensR2':0,'ensRMSE':0}\n",
    "    predfiles=glob.glob(f'data/predictions/final_model_ind_dyn{dyn}_*.predictions')\n",
    "    \n",
    "    preds=[]\n",
    "    \n",
    "    for f in predfiles:\n",
    "        tmp=pd.read_csv(f)\n",
    "        preds.append(tmp['pred'].to_list())\n",
    "        g=np.array(tmp['true'].to_list())\n",
    "        p=np.array(tmp['pred'].to_list())\n",
    "        ccvRMSE,ccvR2=get_stats(g,p)\n",
    "        data[dyn]['R2'].append(ccvR2)\n",
    "        data[dyn]['RMSE'].append(ccvRMSE)\n",
    "    \n",
    "    ensemble_preds=np.array([np.mean([a,b,c,d,e]) for a,b,c,d,e in zip(*preds)])\n",
    "    ensRMSE,ensR2=get_stats(g,ensemble_preds)\n",
    "    data[dyn]['ensR2']=ensR2\n",
    "    data[dyn]['ensRMSE']=ensRMSE"
   ]
  },
  {
   "cell_type": "code",
   "execution_count": 9,
   "metadata": {},
   "outputs": [
    {
     "data": {
      "image/png": "[encoded data removed]",
      "text/plain": [
       "<Figure size 432x288 with 1 Axes>"
      ]
     },
     "metadata": {
      "needs_background": "light"
     },
     "output_type": "display_data"
    },
    {
     "data": {
      "image/png": "[encoded data removed]",
      "text/plain": [
       "<Figure size 432x288 with 1 Axes>"
      ]
     },
     "metadata": {
      "needs_background": "light"
     },
     "output_type": "display_data"
    }
   ],
   "source": [
    "#step 2 -- Generating the Supplemental Figure\n",
    "for thing in ['R2','RMSE']:\n",
    "    xs=list(range(1,21))\n",
    "    toplot=[]\n",
    "    for x in xs:\n",
    "        toplot.append(data[x][thing])\n",
    "    \n",
    "    counter=1\n",
    "    xs2=[]\n",
    "    for item in toplot:\n",
    "        xs2.append([counter,counter,counter,counter,counter])\n",
    "        counter+=1\n",
    "    \n",
    "    ens_toplot=[]\n",
    "    for x in xs:\n",
    "        ens_toplot.append(data[x]['ens'+thing])\n",
    "    \n",
    "    fig=plt.figure()\n",
    "    plt.boxplot(toplot)\n",
    "    plt.scatter(xs,ens_toplot,s=15,label='Ensemble')\n",
    "    #plt.scatter(xs2,toplot,s=10,label='Individual',color='green')\n",
    "    plt.legend()\n",
    "    plt.ylabel(thing)\n",
    "    plt.xlabel('Dynamic Stopping')\n",
    "    plt.rc('axes',labelsize=13)\n",
    "    plt.rc('axes',titlesize=13)\n",
    "    plt.savefig(f'figures/final_model_ind_dyn_{thing}.pdf')"
   ]
  },
  {
   "cell_type": "code",
   "execution_count": 10,
   "metadata": {},
   "outputs": [
    {
     "name": "stdout",
     "output_type": "stream",
     "text": [
      "1.8778042721844361 8\n"
     ]
    }
   ],
   "source": [
    "#determining the min Average RMSE\n",
    "mRMSE=99999999\n",
    "mdyn=0\n",
    "for dyn in data:\n",
    "    ave=np.mean(data[dyn]['RMSE'])\n",
    "    if ave < mRMSE:\n",
    "        mRMSE=ave\n",
    "        mdyn=dyn\n",
    "print(mRMSE,mdyn)"
   ]
  },
  {
   "cell_type": "code",
   "execution_count": 11,
   "metadata": {},
   "outputs": [
    {
     "name": "stdout",
     "output_type": "stream",
     "text": [
      "1.710710001150879 data/predictions/final_model_ind_dyn8_s3.predictions\n",
      "0.5768538649308053 data/predictions/final_model_ind_dyn8_s3.predictions\n"
     ]
    }
   ],
   "source": [
    "#step 3 -- Generating the mean and standard deviation of the deployed model on the independent test set\n",
    "predfiles=glob.glob(\"data/predictions/final_model_ind_dyn8_*.predictions\")\n",
    "bestRMSEmodel=\"\"\n",
    "bestR2model=\"\"\n",
    "bRMSE=99999\n",
    "bR2=-1\n",
    "rmses=[]\n",
    "r2s=[]\n",
    "for f in predfiles:\n",
    "    tmp=pd.read_csv(f)\n",
    "    preds.append(tmp['pred'].to_list())\n",
    "    g=np.array(tmp['true'].to_list())\n",
    "    p=np.array(tmp['pred'].to_list())\n",
    "    ccvRMSE,ccvR2=get_stats(g,p)\n",
    "    rmses.append(ccvRMSE)\n",
    "    r2s.append(ccvR2)\n",
    "    if ccvRMSE < bRMSE:\n",
    "        bRMSE=ccvRMSE\n",
    "        bestRMSEmodel=f\n",
    "    if ccvR2 > bR2:\n",
    "        bR2=ccvR2\n",
    "        bestR2model=f\n",
    "print(bRMSE,bestRMSEmodel)\n",
    "print(bR2,bestR2model)"
   ]
  },
  {
   "cell_type": "code",
   "execution_count": 12,
   "metadata": {},
   "outputs": [
    {
     "name": "stdout",
     "output_type": "stream",
     "text": [
      "1.8778042721844361 0.09250513883450179\n",
      "0.5091304692377083 0.04449225019642136\n"
     ]
    }
   ],
   "source": [
    "print(np.mean(rmses),np.std(rmses))\n",
    "print(np.mean(r2s),np.std(r2s))"
   ]
  },
  {
   "cell_type": "code",
   "execution_count": 13,
   "metadata": {},
   "outputs": [
    {
     "data": {
      "text/plain": [
       "{'R2': [0.48587103661398673,\n",
       "  0.5395078064304927,\n",
       "  0.494589388378514,\n",
       "  0.5768538649308053,\n",
       "  0.4488302498347425],\n",
       " 'RMSE': [1.8618233762985488,\n",
       "  1.9648817263389258,\n",
       "  1.8910191117034012,\n",
       "  1.710710001150879,\n",
       "  1.9605871454304256],\n",
       " 'ensR2': 0.5174486206148375,\n",
       " 'ensRMSE': 1.8137960146982184}"
      ]
     },
     "execution_count": 13,
     "metadata": {},
     "output_type": "execute_result"
    }
   ],
   "source": [
    "data[8]"
   ]
  },
  {
   "cell_type": "code",
   "execution_count": 14,
   "metadata": {},
   "outputs": [
    {
     "name": "stdout",
     "output_type": "stream",
     "text": [
      "1.14423482786716 0.7766111073887221\n"
     ]
    }
   ],
   "source": [
    "#step 4 -- Generating the data for the training set\n",
    "todo=glob.glob('data/training_data/final_model/*dyn8*testdic.pi')\n",
    "rmses=[]\n",
    "r2s=[]\n",
    "for fname in todo:\n",
    "    dic=pickle.load(open(fname,'rb'))\n",
    "    rmses.append(dic['RMSE'])\n",
    "    r2s.append(dic['R2'])\n",
    "    if 'seed3' in fname:\n",
    "        print(dic['RMSE'],dic['R2'])"
   ]
  },
  {
   "cell_type": "code",
   "execution_count": 15,
   "metadata": {},
   "outputs": [
    {
     "name": "stdout",
     "output_type": "stream",
     "text": [
      "1.170649141893826 0.05043465715814216\n",
      "0.7843932174479028 0.0064311381188713055\n"
     ]
    }
   ],
   "source": [
    "print(np.mean(rmses),np.std(rmses))\n",
    "print(np.mean(r2s),np.std(r2s))"
   ]
  },
  {
   "cell_type": "code",
   "execution_count": 16,
   "metadata": {},
   "outputs": [
    {
     "name": "stdout",
     "output_type": "stream",
     "text": [
      "1.0676152969384596 0.7983174792699118\n"
     ]
    }
   ],
   "source": [
    "#step 5 -- Generating the data for the Ensemble on the Training set\n",
    "todo=glob.glob('data/training_data/final_model/ind*.predictions')\n",
    "preds=[]\n",
    "    \n",
    "for f in todo:\n",
    "    tmp=pd.read_csv(f)\n",
    "    preds.append(tmp['pred'].to_list())\n",
    "    g=np.array(tmp['true'].to_list())\n",
    "    p=np.array(tmp['pred'].to_list())\n",
    "    #ccvRMSE,ccvR2=get_stats(g,p)\n",
    "    #data[dyn]['R2'].append(ccvR2)\n",
    "    #data[dyn]['RMSE'].append(ccvRMSE)\n",
    "\n",
    "ensemble_preds=np.array([np.mean([a,b,c,d,e]) for a,b,c,d,e in zip(*preds)])\n",
    "ensRMSE,ensR2=get_stats(g,ensemble_preds)\n",
    "print(ensRMSE,ensR2)"
   ]
  },
  {
   "cell_type": "markdown",
   "metadata": {},
   "source": [
    "## Generating the figures for 2D vs 3D embeddings of the molecule"
   ]
  },
  {
   "cell_type": "code",
   "execution_count": 17,
   "metadata": {},
   "outputs": [],
   "source": [
    "# need 2D vs 3D plots & t-test for significance for the first 10 models.\n",
    "def plotter(xlabel,ylabel,hue,dataframe,savename):\n",
    "    fig=plt.figure()\n",
    "    sns.boxplot(xlabel,ylabel,data=dataframe,color='w')\n",
    "    a=sns.swarmplot(xlabel,ylabel,hue=hue,data=df)\n",
    "    plt.legend(bbox_to_anchor=(1.05,1),loc=2)\n",
    "    plt.xlabel('')\n",
    "    plt.tight_layout()\n",
    "    plt.savefig(savename)"
   ]
  },
  {
   "cell_type": "code",
   "execution_count": 18,
   "metadata": {},
   "outputs": [],
   "source": [
    "df=pd.read_csv('data/model_selection.csv')"
   ]
  },
  {
   "cell_type": "code",
   "execution_count": 19,
   "metadata": {},
   "outputs": [
    {
     "data": {
      "image/png": "[encoded data removed]",
      "text/plain": [
       "<Figure size 432x288 with 1 Axes>"
      ]
     },
     "metadata": {
      "needs_background": "light"
     },
     "output_type": "display_data"
    }
   ],
   "source": [
    "plotter('Conformer Dimension','R2','model',df,'figures/2dv3d_r2.pdf')"
   ]
  },
  {
   "cell_type": "code",
   "execution_count": 20,
   "metadata": {},
   "outputs": [
    {
     "data": {
      "text/plain": [
       "Ttest_indResult(statistic=-1.6514130654734087, pvalue=0.11599231168237253)"
      ]
     },
     "execution_count": 20,
     "metadata": {},
     "output_type": "execute_result"
    }
   ],
   "source": [
    "#T-Test for the above plot\n",
    "ttest_ind(df[df['Conformer Dimension']=='2D']['R2'],df[df['Conformer Dimension']=='3D']['R2'])"
   ]
  },
  {
   "cell_type": "code",
   "execution_count": 21,
   "metadata": {},
   "outputs": [
    {
     "data": {
      "text/plain": [
       "(0.6144788299970487, 0.6456377198756293)"
      ]
     },
     "execution_count": 21,
     "metadata": {},
     "output_type": "execute_result"
    }
   ],
   "source": [
    "np.mean(df[df['Conformer Dimension']=='2D']['R2']), np.mean(df[df['Conformer Dimension']=='3D']['R2'])"
   ]
  },
  {
   "cell_type": "code",
   "execution_count": 22,
   "metadata": {},
   "outputs": [
    {
     "data": {
      "image/png": "[encoded data removed]",
      "text/plain": [
       "<Figure size 432x288 with 1 Axes>"
      ]
     },
     "metadata": {
      "needs_background": "light"
     },
     "output_type": "display_data"
    }
   ],
   "source": [
    "plotter('Conformer Dimension','RMSE','model',df,'figures/2dv3d_rmse.pdf')"
   ]
  },
  {
   "cell_type": "code",
   "execution_count": 23,
   "metadata": {},
   "outputs": [
    {
     "data": {
      "text/plain": [
       "Ttest_indResult(statistic=1.528668871470288, pvalue=0.14372944251741623)"
      ]
     },
     "execution_count": 23,
     "metadata": {},
     "output_type": "execute_result"
    }
   ],
   "source": [
    "#T-Test for the above plot\n",
    "ttest_ind(df[df['Conformer Dimension']=='2D']['RMSE'],df[df['Conformer Dimension']=='3D']['RMSE'])"
   ]
  },
  {
   "cell_type": "code",
   "execution_count": 24,
   "metadata": {},
   "outputs": [
    {
     "data": {
      "text/plain": [
       "(1.6080328292596349, 1.5219235692578992)"
      ]
     },
     "execution_count": 24,
     "metadata": {},
     "output_type": "execute_result"
    }
   ],
   "source": [
    "np.mean(df[df['Conformer Dimension']=='2D']['RMSE']), np.mean(df[df['Conformer Dimension']=='3D']['RMSE'])"
   ]
  },
  {
   "cell_type": "markdown",
   "metadata": {},
   "source": [
    "## Generating the figures for Fragmenting Salt analysis"
   ]
  },
  {
   "cell_type": "code",
   "execution_count": 25,
   "metadata": {},
   "outputs": [],
   "source": [
    "basedirs=['final_model_full_saltfragafter','final_model_noothers_saltfragafter','final_model_others2plus_saltfragafter','final_model_othersMW_saltfragafter']\n",
    "saltfrag_data={}\n",
    "for d in basedirs:\n",
    "    saltfrag_data[d]={}\n",
    "    for thing in ['train_test','trainsalt_test','train_testsalt','trainsalt_testsalt']:\n",
    "        saltfrag_data[d][thing]={'RMSEs':[],'R2s':[]}\n",
    "        for seed in ['0','1','2','3','4']:\n",
    "            preds=np.array([])\n",
    "            golds=np.array([])\n",
    "\n",
    "            #we are working with full ccv for training to predict the removed test set\n",
    "            predfiles=glob.glob(f'data/predictions/{d}/*{thing}_s{seed}f*.predictions')\n",
    "            for f in predfiles:\n",
    "                tmp=pd.read_csv(f)\n",
    "                g=np.array(tmp['true'].to_list())\n",
    "                p=np.array(tmp['pred'].to_list())\n",
    "                golds=np.append(golds,g)\n",
    "                preds=np.append(preds,p)\n",
    "            #now that we have the full preds and golds arrays we can calculate the R2 and RMSE\n",
    "            ccvRMSE,ccvR2=get_stats(preds,golds)\n",
    "            saltfrag_data[d][thing]['RMSEs'].append(ccvRMSE)\n",
    "            saltfrag_data[d][thing]['R2s'].append(ccvR2) "
   ]
  },
  {
   "cell_type": "code",
   "execution_count": 26,
   "metadata": {
    "scrolled": false
   },
   "outputs": [
    {
     "name": "stdout",
     "output_type": "stream",
     "text": [
      "Full AqSol Data R2s Ttest_indResult(statistic=2.1934859709055674, pvalue=0.059596186794829656)\n",
      "Full AqSol Data R2s Ttest_indResult(statistic=-1.4496020124670712, pvalue=0.1852121098547752)\n",
      "Full AqSol Data RMSEs Ttest_indResult(statistic=0.39843371673204203, pvalue=0.7007329710106283)\n",
      "Full AqSol Data RMSEs Ttest_indResult(statistic=1.0367278229758814, pvalue=0.3301805727392053)\n",
      "AqSol Without Other typed molecules R2s Ttest_indResult(statistic=1.5682761197747412, pvalue=0.15545399812278501)\n",
      "AqSol Without Other typed molecules R2s Ttest_indResult(statistic=-3.2559355988055563, pvalue=0.011597594438226016)\n",
      "AqSol Without Other typed molecules RMSEs Ttest_indResult(statistic=-0.945887667575338, pvalue=0.371895084315655)\n",
      "AqSol Without Other typed molecules RMSEs Ttest_indResult(statistic=1.9676839728315874, pvalue=0.08464632784846401)\n",
      "AqSol Without 1 atom Other typed molecules R2s Ttest_indResult(statistic=2.7779296914994833, pvalue=0.02400111699633856)\n",
      "AqSol Without 1 atom Other typed molecules R2s Ttest_indResult(statistic=-2.526138892389215, pvalue=0.035468051815582824)\n",
      "AqSol Without 1 atom Other typed molecules RMSEs Ttest_indResult(statistic=-2.1644353901546602, pvalue=0.06235693598947449)\n",
      "AqSol Without 1 atom Other typed molecules RMSEs Ttest_indResult(statistic=1.3135628828907588, pvalue=0.2254118120305322)\n",
      "AqSol Without Other typed molecules < mean(MW) R2s Ttest_indResult(statistic=0.7494238367657104, pvalue=0.4750594687862971)\n",
      "AqSol Without Other typed molecules < mean(MW) R2s Ttest_indResult(statistic=-1.793951157862187, pvalue=0.11057025335519352)\n",
      "AqSol Without Other typed molecules < mean(MW) RMSEs Ttest_indResult(statistic=-1.1642345090672754, pvalue=0.27787162722027625)\n",
      "AqSol Without Other typed molecules < mean(MW) RMSEs Ttest_indResult(statistic=-0.03706364869486496, pvalue=0.9713424278532778)\n"
     ]
    },
    {
     "data": {
      "image/png": "[encoded data removed]",
      "text/plain": [
       "<Figure size 432x288 with 1 Axes>"
      ]
     },
     "metadata": {
      "needs_background": "light"
     },
     "output_type": "display_data"
    },
    {
     "data": {
      "image/png": "[encoded data removed]",
      "text/plain": [
       "<Figure size 432x288 with 1 Axes>"
      ]
     },
     "metadata": {
      "needs_background": "light"
     },
     "output_type": "display_data"
    },
    {
     "data": {
      "image/png": "[encoded data removed]",
      "text/plain": [
       "<Figure size 432x288 with 1 Axes>"
      ]
     },
     "metadata": {
      "needs_background": "light"
     },
     "output_type": "display_data"
    },
    {
     "data": {
      "image/png": "[encoded data removed]",
      "text/plain": [
       "<Figure size 432x288 with 1 Axes>"
      ]
     },
     "metadata": {
      "needs_background": "light"
     },
     "output_type": "display_data"
    },
    {
     "data": {
      "image/png": "[encoded data removed]",
      "text/plain": [
       "<Figure size 432x288 with 1 Axes>"
      ]
     },
     "metadata": {
      "needs_background": "light"
     },
     "output_type": "display_data"
    },
    {
     "data": {
      "image/png": "[encoded data removed]",
      "text/plain": [
       "<Figure size 432x288 with 1 Axes>"
      ]
     },
     "metadata": {
      "needs_background": "light"
     },
     "output_type": "display_data"
    },
    {
     "data": {
      "image/png": "[encoded data removed]",
      "text/plain": [
       "<Figure size 432x288 with 1 Axes>"
      ]
     },
     "metadata": {
      "needs_background": "light"
     },
     "output_type": "display_data"
    },
    {
     "data": {
      "image/png": "[encoded data removed]",
      "text/plain": [
       "<Figure size 432x288 with 1 Axes>"
      ]
     },
     "metadata": {
      "needs_background": "light"
     },
     "output_type": "display_data"
    }
   ],
   "source": [
    "lookup_titles={\n",
    "    'final_model_full_saltfragafter':'Full AqSol Data',\n",
    "    'final_model_noothers_saltfragafter':'AqSol Without Other typed molecules',\n",
    "    'final_model_others2plus_saltfragafter':'AqSol Without 1 atom Other typed molecules',\n",
    "    'final_model_othersMW_saltfragafter':'AqSol Without Other typed molecules < mean(MW)'\n",
    "}\n",
    "\n",
    "color_lookup={0:'purple',1:'green'}\n",
    "label_lookup={\n",
    "    0:'Train: Fragment Salt',\n",
    "    1:'Train: Normal',\n",
    "}\n",
    "for d in basedirs:\n",
    "    for thing in ['R2s','RMSEs']:\n",
    "        fig,ax=plt.subplots()\n",
    "        toplot=[]\n",
    "        labels=['train_test','trainSF_test','train_testSF','trainSF_testSF']\n",
    "        for x in labels:\n",
    "            toplot.append(saltfrag_data[d][x.replace('SF','salt')][thing])\n",
    "        ax.boxplot(toplot)\n",
    "        \n",
    "        x=1\n",
    "        for item in [[toplot[0],toplot[2]],[toplot[1],toplot[3]]]:\n",
    "            ax.scatter([[x,x,x,x,x],[x+2,x+2,x+2,x+2,x+2]],item,label=label_lookup[x%2],color=color_lookup[x%2])\n",
    "            x+=1\n",
    "        #plt.scatter([[1,1,1,1,1],[2,2,2,2,2],[3,3,3,3,3],[4,4,4,4,4]],toplot,label=['Train: Salts','Train: Fragmented Salt','Train: Salts','Train: Fragmented Salt'],color=plot_colors)\n",
    "        plt.xticks([1,2,3,4],['Normal','Normal','Fragment','Fragment'])\n",
    "        plt.title(lookup_titles[d])\n",
    "        if thing=='RMSEs':\n",
    "            plt.ylim((1.0,1.72))\n",
    "        else:\n",
    "            plt.ylim((0.55,0.80))\n",
    "        plt.ylabel(thing.replace('s',''))\n",
    "        plt.legend()\n",
    "        plt.xlabel('Test Set')\n",
    "        plt.savefig(f'figures/{d.split(\"_\")[-2]}_saltfragfirst_{thing}_boxplots.pdf')\n",
    "        \n",
    "        print(f'{lookup_titles[d]} {thing} {ttest_ind(toplot[0],toplot[1])}')\n",
    "        print(f'{lookup_titles[d]} {thing} {ttest_ind(toplot[2],toplot[3])}')"
   ]
  },
  {
   "cell_type": "markdown",
   "metadata": {},
   "source": [
    "## Generating the timing analysis here"
   ]
  },
  {
   "cell_type": "markdown",
   "metadata": {},
   "source": [
    "### This is for the initial version of SolTranNet -- i.e. the version that we used in our sweeps.\n",
    "### Note: This code will take a fair amount of time to run"
   ]
  },
  {
   "cell_type": "code",
   "execution_count": 28,
   "metadata": {},
   "outputs": [],
   "source": [
    "os.chdir('src')\n",
    "from data_utils import load_data_from_df as load_df_gpu\n",
    "from data_utils import construct_loader as construct_loader_gpu\n",
    "from data_utils import load_data_from_smiles as load_smiles_gpu\n",
    "\n",
    "from cpu_data_utils import load_data_from_df as load_df_cpu\n",
    "from cpu_data_utils import construct_loader as construct_loader_cpu\n",
    "from cpu_data_utils import load_data_from_smiles as load_smiles_cpu\n",
    "\n",
    "from transformer import make_model\n",
    "import time"
   ]
  },
  {
   "cell_type": "code",
   "execution_count": 29,
   "metadata": {},
   "outputs": [],
   "source": [
    "def complex_measure(model,list_of_smiles,two_d=False,model_cpu=False,batch_size=1):\n",
    "    '''\n",
    "    A more complicated measure of the forward-pass.\n",
    "    \n",
    "    This function takes in a list of smile strings, then will create the needed molecular graphs & run the forward-pass\n",
    "    \n",
    "    Assumes the model is in evaluate mode\n",
    "    '''\n",
    "    t0=time.time()\n",
    "    ls=[0.0 for x in list_of_smiles]\n",
    "    t1=time.time()\n",
    "    if model_cpu:\n",
    "        X,y=load_smiles_cpu(list_of_smiles,ls,add_dummy_node=True,one_hot_formal_charge=True,two_d_only=two_d)\n",
    "    else:\n",
    "        X,y=load_smiles_gpu(list_of_smiles,ls,add_dummy_node=True,one_hot_formal_charge=True,two_d_only=two_d)\n",
    "    tload=time.time()-t1\n",
    "    if model_cpu:\n",
    "        data_loader=construct_loader_cpu(X,y,batch_size)\n",
    "    else:\n",
    "        data_loader=construct_loader_gpu(X,y,batch_size)\n",
    "    for batch in data_loader:\n",
    "        adjacency_matrix, node_features, distance_matrix, y = batch\n",
    "        batch_mask = torch.sum(torch.abs(node_features), dim=-1) != 0\n",
    "        y_pred = model(node_features, batch_mask, adjacency_matrix, distance_matrix, None)\n",
    "    elapsed_fp=time.time()-t0\n",
    "    return elapsed_fp,tload"
   ]
  },
  {
   "cell_type": "code",
   "execution_count": 30,
   "metadata": {},
   "outputs": [],
   "source": [
    "#making the original MAT implementation -- GPU\n",
    "d_atom=28\n",
    "mat_model_params = {\n",
    "    'd_atom': d_atom,\n",
    "    'd_model': 1024,\n",
    "    'N': 8,\n",
    "    'h': 16,\n",
    "    'N_dense': 1,\n",
    "    'lambda_attention': 0.33, \n",
    "    'lambda_distance': 0.33,\n",
    "    'leaky_relu_slope': 0.1, \n",
    "    'dense_output_nonlinearity': 'relu', \n",
    "    'distance_matrix_kernel': 'exp', \n",
    "    'dropout': 0.0,\n",
    "    'aggregation_type': 'mean'\n",
    "}"
   ]
  },
  {
   "cell_type": "code",
   "execution_count": 31,
   "metadata": {},
   "outputs": [
    {
     "data": {
      "text/plain": [
       "GraphTransformer(\n",
       "  (encoder): Encoder(\n",
       "    (layers): ModuleList(\n",
       "      (0): EncoderLayer(\n",
       "        (self_attn): MultiHeadedAttention(\n",
       "          (linears): ModuleList(\n",
       "            (0): Linear(in_features=1024, out_features=1024, bias=True)\n",
       "            (1): Linear(in_features=1024, out_features=1024, bias=True)\n",
       "            (2): Linear(in_features=1024, out_features=1024, bias=True)\n",
       "            (3): Linear(in_features=1024, out_features=1024, bias=True)\n",
       "          )\n",
       "          (dropout): Dropout(p=0.0, inplace=False)\n",
       "        )\n",
       "        (feed_forward): PositionwiseFeedForward(\n",
       "          (linears): ModuleList(\n",
       "            (0): Linear(in_features=1024, out_features=1024, bias=True)\n",
       "          )\n",
       "          (dropout): ModuleList(\n",
       "            (0): Dropout(p=0.0, inplace=False)\n",
       "          )\n",
       "        )\n",
       "        (sublayer): ModuleList(\n",
       "          (0): SublayerConnection(\n",
       "            (norm): LayerNorm()\n",
       "            (dropout): Dropout(p=0.0, inplace=False)\n",
       "          )\n",
       "          (1): SublayerConnection(\n",
       "            (norm): LayerNorm()\n",
       "            (dropout): Dropout(p=0.0, inplace=False)\n",
       "          )\n",
       "        )\n",
       "      )\n",
       "      (1): EncoderLayer(\n",
       "        (self_attn): MultiHeadedAttention(\n",
       "          (linears): ModuleList(\n",
       "            (0): Linear(in_features=1024, out_features=1024, bias=True)\n",
       "            (1): Linear(in_features=1024, out_features=1024, bias=True)\n",
       "            (2): Linear(in_features=1024, out_features=1024, bias=True)\n",
       "            (3): Linear(in_features=1024, out_features=1024, bias=True)\n",
       "          )\n",
       "          (dropout): Dropout(p=0.0, inplace=False)\n",
       "        )\n",
       "        (feed_forward): PositionwiseFeedForward(\n",
       "          (linears): ModuleList(\n",
       "            (0): Linear(in_features=1024, out_features=1024, bias=True)\n",
       "          )\n",
       "          (dropout): ModuleList(\n",
       "            (0): Dropout(p=0.0, inplace=False)\n",
       "          )\n",
       "        )\n",
       "        (sublayer): ModuleList(\n",
       "          (0): SublayerConnection(\n",
       "            (norm): LayerNorm()\n",
       "            (dropout): Dropout(p=0.0, inplace=False)\n",
       "          )\n",
       "          (1): SublayerConnection(\n",
       "            (norm): LayerNorm()\n",
       "            (dropout): Dropout(p=0.0, inplace=False)\n",
       "          )\n",
       "        )\n",
       "      )\n",
       "      (2): EncoderLayer(\n",
       "        (self_attn): MultiHeadedAttention(\n",
       "          (linears): ModuleList(\n",
       "            (0): Linear(in_features=1024, out_features=1024, bias=True)\n",
       "            (1): Linear(in_features=1024, out_features=1024, bias=True)\n",
       "            (2): Linear(in_features=1024, out_features=1024, bias=True)\n",
       "            (3): Linear(in_features=1024, out_features=1024, bias=True)\n",
       "          )\n",
       "          (dropout): Dropout(p=0.0, inplace=False)\n",
       "        )\n",
       "        (feed_forward): PositionwiseFeedForward(\n",
       "          (linears): ModuleList(\n",
       "            (0): Linear(in_features=1024, out_features=1024, bias=True)\n",
       "          )\n",
       "          (dropout): ModuleList(\n",
       "            (0): Dropout(p=0.0, inplace=False)\n",
       "          )\n",
       "        )\n",
       "        (sublayer): ModuleList(\n",
       "          (0): SublayerConnection(\n",
       "            (norm): LayerNorm()\n",
       "            (dropout): Dropout(p=0.0, inplace=False)\n",
       "          )\n",
       "          (1): SublayerConnection(\n",
       "            (norm): LayerNorm()\n",
       "            (dropout): Dropout(p=0.0, inplace=False)\n",
       "          )\n",
       "        )\n",
       "      )\n",
       "      (3): EncoderLayer(\n",
       "        (self_attn): MultiHeadedAttention(\n",
       "          (linears): ModuleList(\n",
       "            (0): Linear(in_features=1024, out_features=1024, bias=True)\n",
       "            (1): Linear(in_features=1024, out_features=1024, bias=True)\n",
       "            (2): Linear(in_features=1024, out_features=1024, bias=True)\n",
       "            (3): Linear(in_features=1024, out_features=1024, bias=True)\n",
       "          )\n",
       "          (dropout): Dropout(p=0.0, inplace=False)\n",
       "        )\n",
       "        (feed_forward): PositionwiseFeedForward(\n",
       "          (linears): ModuleList(\n",
       "            (0): Linear(in_features=1024, out_features=1024, bias=True)\n",
       "          )\n",
       "          (dropout): ModuleList(\n",
       "            (0): Dropout(p=0.0, inplace=False)\n",
       "          )\n",
       "        )\n",
       "        (sublayer): ModuleList(\n",
       "          (0): SublayerConnection(\n",
       "            (norm): LayerNorm()\n",
       "            (dropout): Dropout(p=0.0, inplace=False)\n",
       "          )\n",
       "          (1): SublayerConnection(\n",
       "            (norm): LayerNorm()\n",
       "            (dropout): Dropout(p=0.0, inplace=False)\n",
       "          )\n",
       "        )\n",
       "      )\n",
       "      (4): EncoderLayer(\n",
       "        (self_attn): MultiHeadedAttention(\n",
       "          (linears): ModuleList(\n",
       "            (0): Linear(in_features=1024, out_features=1024, bias=True)\n",
       "            (1): Linear(in_features=1024, out_features=1024, bias=True)\n",
       "            (2): Linear(in_features=1024, out_features=1024, bias=True)\n",
       "            (3): Linear(in_features=1024, out_features=1024, bias=True)\n",
       "          )\n",
       "          (dropout): Dropout(p=0.0, inplace=False)\n",
       "        )\n",
       "        (feed_forward): PositionwiseFeedForward(\n",
       "          (linears): ModuleList(\n",
       "            (0): Linear(in_features=1024, out_features=1024, bias=True)\n",
       "          )\n",
       "          (dropout): ModuleList(\n",
       "            (0): Dropout(p=0.0, inplace=False)\n",
       "          )\n",
       "        )\n",
       "        (sublayer): ModuleList(\n",
       "          (0): SublayerConnection(\n",
       "            (norm): LayerNorm()\n",
       "            (dropout): Dropout(p=0.0, inplace=False)\n",
       "          )\n",
       "          (1): SublayerConnection(\n",
       "            (norm): LayerNorm()\n",
       "            (dropout): Dropout(p=0.0, inplace=False)\n",
       "          )\n",
       "        )\n",
       "      )\n",
       "      (5): EncoderLayer(\n",
       "        (self_attn): MultiHeadedAttention(\n",
       "          (linears): ModuleList(\n",
       "            (0): Linear(in_features=1024, out_features=1024, bias=True)\n",
       "            (1): Linear(in_features=1024, out_features=1024, bias=True)\n",
       "            (2): Linear(in_features=1024, out_features=1024, bias=True)\n",
       "            (3): Linear(in_features=1024, out_features=1024, bias=True)\n",
       "          )\n",
       "          (dropout): Dropout(p=0.0, inplace=False)\n",
       "        )\n",
       "        (feed_forward): PositionwiseFeedForward(\n",
       "          (linears): ModuleList(\n",
       "            (0): Linear(in_features=1024, out_features=1024, bias=True)\n",
       "          )\n",
       "          (dropout): ModuleList(\n",
       "            (0): Dropout(p=0.0, inplace=False)\n",
       "          )\n",
       "        )\n",
       "        (sublayer): ModuleList(\n",
       "          (0): SublayerConnection(\n",
       "            (norm): LayerNorm()\n",
       "            (dropout): Dropout(p=0.0, inplace=False)\n",
       "          )\n",
       "          (1): SublayerConnection(\n",
       "            (norm): LayerNorm()\n",
       "            (dropout): Dropout(p=0.0, inplace=False)\n",
       "          )\n",
       "        )\n",
       "      )\n",
       "      (6): EncoderLayer(\n",
       "        (self_attn): MultiHeadedAttention(\n",
       "          (linears): ModuleList(\n",
       "            (0): Linear(in_features=1024, out_features=1024, bias=True)\n",
       "            (1): Linear(in_features=1024, out_features=1024, bias=True)\n",
       "            (2): Linear(in_features=1024, out_features=1024, bias=True)\n",
       "            (3): Linear(in_features=1024, out_features=1024, bias=True)\n",
       "          )\n",
       "          (dropout): Dropout(p=0.0, inplace=False)\n",
       "        )\n",
       "        (feed_forward): PositionwiseFeedForward(\n",
       "          (linears): ModuleList(\n",
       "            (0): Linear(in_features=1024, out_features=1024, bias=True)\n",
       "          )\n",
       "          (dropout): ModuleList(\n",
       "            (0): Dropout(p=0.0, inplace=False)\n",
       "          )\n",
       "        )\n",
       "        (sublayer): ModuleList(\n",
       "          (0): SublayerConnection(\n",
       "            (norm): LayerNorm()\n",
       "            (dropout): Dropout(p=0.0, inplace=False)\n",
       "          )\n",
       "          (1): SublayerConnection(\n",
       "            (norm): LayerNorm()\n",
       "            (dropout): Dropout(p=0.0, inplace=False)\n",
       "          )\n",
       "        )\n",
       "      )\n",
       "      (7): EncoderLayer(\n",
       "        (self_attn): MultiHeadedAttention(\n",
       "          (linears): ModuleList(\n",
       "            (0): Linear(in_features=1024, out_features=1024, bias=True)\n",
       "            (1): Linear(in_features=1024, out_features=1024, bias=True)\n",
       "            (2): Linear(in_features=1024, out_features=1024, bias=True)\n",
       "            (3): Linear(in_features=1024, out_features=1024, bias=True)\n",
       "          )\n",
       "          (dropout): Dropout(p=0.0, inplace=False)\n",
       "        )\n",
       "        (feed_forward): PositionwiseFeedForward(\n",
       "          (linears): ModuleList(\n",
       "            (0): Linear(in_features=1024, out_features=1024, bias=True)\n",
       "          )\n",
       "          (dropout): ModuleList(\n",
       "            (0): Dropout(p=0.0, inplace=False)\n",
       "          )\n",
       "        )\n",
       "        (sublayer): ModuleList(\n",
       "          (0): SublayerConnection(\n",
       "            (norm): LayerNorm()\n",
       "            (dropout): Dropout(p=0.0, inplace=False)\n",
       "          )\n",
       "          (1): SublayerConnection(\n",
       "            (norm): LayerNorm()\n",
       "            (dropout): Dropout(p=0.0, inplace=False)\n",
       "          )\n",
       "        )\n",
       "      )\n",
       "    )\n",
       "    (norm): LayerNorm()\n",
       "  )\n",
       "  (src_embed): Embeddings(\n",
       "    (lut): Linear(in_features=28, out_features=1024, bias=True)\n",
       "    (dropout): Dropout(p=0.0, inplace=False)\n",
       "  )\n",
       "  (generator): Generator(\n",
       "    (proj): Linear(in_features=1024, out_features=1, bias=True)\n",
       "  )\n",
       ")"
      ]
     },
     "execution_count": 31,
     "metadata": {},
     "output_type": "execute_result"
    }
   ],
   "source": [
    "mat_gpu=make_model(**mat_model_params)\n",
    "\n",
    "mat_gpu.to('cuda')"
   ]
  },
  {
   "cell_type": "code",
   "execution_count": 34,
   "metadata": {},
   "outputs": [],
   "source": [
    "smis=open('../data/llinas2020/llinas2020_raw.csv').readlines()\n",
    "smis=[x.split(',')[-1].rstrip() for x in smis[1:]]"
   ]
  },
  {
   "cell_type": "code",
   "execution_count": 37,
   "metadata": {
    "scrolled": true
   },
   "outputs": [
    {
     "name": "stdout",
     "output_type": "stream",
     "text": [
      "--------------- 1 -----------------\n",
      "MAT GPU - 2D 0.021030796838529184  0.0006150383786503566\n",
      "MAT GPU - 3D 0.14457468878139149  0.003034750850102478\n",
      "--------------- 8 -----------------\n",
      "MAT GPU - 2D 0.004644437992211544  4.477712879492095e-05\n",
      "MAT GPU - 3D 0.12646850510077043  0.004810894287332894\n",
      "--------------- 16 -----------------\n",
      "MAT GPU - 2D 0.0036604070302211876  4.488038635910208e-05\n",
      "MAT GPU - 3D 0.12516471273971327  0.0017830054983316507\n",
      "--------------- 32 -----------------\n",
      "MAT GPU - 2D 0.003483802080154419  0.00013084201113937183\n",
      "MAT GPU - 3D 0.12759385813366284  0.00600500746198522\n",
      "--------------- 64 -----------------\n",
      "MAT GPU - 2D 0.0038301247538942277  9.29755942377797e-05\n",
      "MAT GPU - 3D 0.12579218420115384  0.003708472863576227\n"
     ]
    }
   ],
   "source": [
    "for size in [1,8,16,32,64]:\n",
    "    print('---------------',size,'-----------------')\n",
    "    mgpu_2d=[]\n",
    "    mgpu_3d=[]\n",
    "    for run in range(10):\n",
    "        mat_gpu_times_2d=[]\n",
    "        mat_gpu_times_3d=[]\n",
    "        mat_gpu_times_2d.append(complex_measure(mat_gpu,smis,two_d=True,batch_size=size))\n",
    "        mat_gpu_times_3d.append(complex_measure(mat_gpu,smis,two_d=False,batch_size=size))\n",
    "        mgpu_2d.append(np.mean([x[0] for x in mat_gpu_times_2d]))\n",
    "        mgpu_3d.append(np.mean([x[0] for x in mat_gpu_times_3d]))\n",
    "        \n",
    "    print(f'MAT GPU - 2D {np.mean(mgpu_2d)/len(smis)}  {np.std(mgpu_2d)/len(smis)}')\n",
    "    print(f'MAT GPU - 3D {np.mean(mgpu_3d)/len(smis)}  {np.std(mgpu_3d)/len(smis)}')"
   ]
  },
  {
   "cell_type": "code",
   "execution_count": 38,
   "metadata": {},
   "outputs": [
    {
     "data": {
      "text/plain": [
       "GraphTransformer(\n",
       "  (encoder): Encoder(\n",
       "    (layers): ModuleList(\n",
       "      (0): EncoderLayer(\n",
       "        (self_attn): MultiHeadedAttention(\n",
       "          (linears): ModuleList(\n",
       "            (0): Linear(in_features=1024, out_features=1024, bias=True)\n",
       "            (1): Linear(in_features=1024, out_features=1024, bias=True)\n",
       "            (2): Linear(in_features=1024, out_features=1024, bias=True)\n",
       "            (3): Linear(in_features=1024, out_features=1024, bias=True)\n",
       "          )\n",
       "          (dropout): Dropout(p=0.0, inplace=False)\n",
       "        )\n",
       "        (feed_forward): PositionwiseFeedForward(\n",
       "          (linears): ModuleList(\n",
       "            (0): Linear(in_features=1024, out_features=1024, bias=True)\n",
       "          )\n",
       "          (dropout): ModuleList(\n",
       "            (0): Dropout(p=0.0, inplace=False)\n",
       "          )\n",
       "        )\n",
       "        (sublayer): ModuleList(\n",
       "          (0): SublayerConnection(\n",
       "            (norm): LayerNorm()\n",
       "            (dropout): Dropout(p=0.0, inplace=False)\n",
       "          )\n",
       "          (1): SublayerConnection(\n",
       "            (norm): LayerNorm()\n",
       "            (dropout): Dropout(p=0.0, inplace=False)\n",
       "          )\n",
       "        )\n",
       "      )\n",
       "      (1): EncoderLayer(\n",
       "        (self_attn): MultiHeadedAttention(\n",
       "          (linears): ModuleList(\n",
       "            (0): Linear(in_features=1024, out_features=1024, bias=True)\n",
       "            (1): Linear(in_features=1024, out_features=1024, bias=True)\n",
       "            (2): Linear(in_features=1024, out_features=1024, bias=True)\n",
       "            (3): Linear(in_features=1024, out_features=1024, bias=True)\n",
       "          )\n",
       "          (dropout): Dropout(p=0.0, inplace=False)\n",
       "        )\n",
       "        (feed_forward): PositionwiseFeedForward(\n",
       "          (linears): ModuleList(\n",
       "            (0): Linear(in_features=1024, out_features=1024, bias=True)\n",
       "          )\n",
       "          (dropout): ModuleList(\n",
       "            (0): Dropout(p=0.0, inplace=False)\n",
       "          )\n",
       "        )\n",
       "        (sublayer): ModuleList(\n",
       "          (0): SublayerConnection(\n",
       "            (norm): LayerNorm()\n",
       "            (dropout): Dropout(p=0.0, inplace=False)\n",
       "          )\n",
       "          (1): SublayerConnection(\n",
       "            (norm): LayerNorm()\n",
       "            (dropout): Dropout(p=0.0, inplace=False)\n",
       "          )\n",
       "        )\n",
       "      )\n",
       "      (2): EncoderLayer(\n",
       "        (self_attn): MultiHeadedAttention(\n",
       "          (linears): ModuleList(\n",
       "            (0): Linear(in_features=1024, out_features=1024, bias=True)\n",
       "            (1): Linear(in_features=1024, out_features=1024, bias=True)\n",
       "            (2): Linear(in_features=1024, out_features=1024, bias=True)\n",
       "            (3): Linear(in_features=1024, out_features=1024, bias=True)\n",
       "          )\n",
       "          (dropout): Dropout(p=0.0, inplace=False)\n",
       "        )\n",
       "        (feed_forward): PositionwiseFeedForward(\n",
       "          (linears): ModuleList(\n",
       "            (0): Linear(in_features=1024, out_features=1024, bias=True)\n",
       "          )\n",
       "          (dropout): ModuleList(\n",
       "            (0): Dropout(p=0.0, inplace=False)\n",
       "          )\n",
       "        )\n",
       "        (sublayer): ModuleList(\n",
       "          (0): SublayerConnection(\n",
       "            (norm): LayerNorm()\n",
       "            (dropout): Dropout(p=0.0, inplace=False)\n",
       "          )\n",
       "          (1): SublayerConnection(\n",
       "            (norm): LayerNorm()\n",
       "            (dropout): Dropout(p=0.0, inplace=False)\n",
       "          )\n",
       "        )\n",
       "      )\n",
       "      (3): EncoderLayer(\n",
       "        (self_attn): MultiHeadedAttention(\n",
       "          (linears): ModuleList(\n",
       "            (0): Linear(in_features=1024, out_features=1024, bias=True)\n",
       "            (1): Linear(in_features=1024, out_features=1024, bias=True)\n",
       "            (2): Linear(in_features=1024, out_features=1024, bias=True)\n",
       "            (3): Linear(in_features=1024, out_features=1024, bias=True)\n",
       "          )\n",
       "          (dropout): Dropout(p=0.0, inplace=False)\n",
       "        )\n",
       "        (feed_forward): PositionwiseFeedForward(\n",
       "          (linears): ModuleList(\n",
       "            (0): Linear(in_features=1024, out_features=1024, bias=True)\n",
       "          )\n",
       "          (dropout): ModuleList(\n",
       "            (0): Dropout(p=0.0, inplace=False)\n",
       "          )\n",
       "        )\n",
       "        (sublayer): ModuleList(\n",
       "          (0): SublayerConnection(\n",
       "            (norm): LayerNorm()\n",
       "            (dropout): Dropout(p=0.0, inplace=False)\n",
       "          )\n",
       "          (1): SublayerConnection(\n",
       "            (norm): LayerNorm()\n",
       "            (dropout): Dropout(p=0.0, inplace=False)\n",
       "          )\n",
       "        )\n",
       "      )\n",
       "      (4): EncoderLayer(\n",
       "        (self_attn): MultiHeadedAttention(\n",
       "          (linears): ModuleList(\n",
       "            (0): Linear(in_features=1024, out_features=1024, bias=True)\n",
       "            (1): Linear(in_features=1024, out_features=1024, bias=True)\n",
       "            (2): Linear(in_features=1024, out_features=1024, bias=True)\n",
       "            (3): Linear(in_features=1024, out_features=1024, bias=True)\n",
       "          )\n",
       "          (dropout): Dropout(p=0.0, inplace=False)\n",
       "        )\n",
       "        (feed_forward): PositionwiseFeedForward(\n",
       "          (linears): ModuleList(\n",
       "            (0): Linear(in_features=1024, out_features=1024, bias=True)\n",
       "          )\n",
       "          (dropout): ModuleList(\n",
       "            (0): Dropout(p=0.0, inplace=False)\n",
       "          )\n",
       "        )\n",
       "        (sublayer): ModuleList(\n",
       "          (0): SublayerConnection(\n",
       "            (norm): LayerNorm()\n",
       "            (dropout): Dropout(p=0.0, inplace=False)\n",
       "          )\n",
       "          (1): SublayerConnection(\n",
       "            (norm): LayerNorm()\n",
       "            (dropout): Dropout(p=0.0, inplace=False)\n",
       "          )\n",
       "        )\n",
       "      )\n",
       "      (5): EncoderLayer(\n",
       "        (self_attn): MultiHeadedAttention(\n",
       "          (linears): ModuleList(\n",
       "            (0): Linear(in_features=1024, out_features=1024, bias=True)\n",
       "            (1): Linear(in_features=1024, out_features=1024, bias=True)\n",
       "            (2): Linear(in_features=1024, out_features=1024, bias=True)\n",
       "            (3): Linear(in_features=1024, out_features=1024, bias=True)\n",
       "          )\n",
       "          (dropout): Dropout(p=0.0, inplace=False)\n",
       "        )\n",
       "        (feed_forward): PositionwiseFeedForward(\n",
       "          (linears): ModuleList(\n",
       "            (0): Linear(in_features=1024, out_features=1024, bias=True)\n",
       "          )\n",
       "          (dropout): ModuleList(\n",
       "            (0): Dropout(p=0.0, inplace=False)\n",
       "          )\n",
       "        )\n",
       "        (sublayer): ModuleList(\n",
       "          (0): SublayerConnection(\n",
       "            (norm): LayerNorm()\n",
       "            (dropout): Dropout(p=0.0, inplace=False)\n",
       "          )\n",
       "          (1): SublayerConnection(\n",
       "            (norm): LayerNorm()\n",
       "            (dropout): Dropout(p=0.0, inplace=False)\n",
       "          )\n",
       "        )\n",
       "      )\n",
       "      (6): EncoderLayer(\n",
       "        (self_attn): MultiHeadedAttention(\n",
       "          (linears): ModuleList(\n",
       "            (0): Linear(in_features=1024, out_features=1024, bias=True)\n",
       "            (1): Linear(in_features=1024, out_features=1024, bias=True)\n",
       "            (2): Linear(in_features=1024, out_features=1024, bias=True)\n",
       "            (3): Linear(in_features=1024, out_features=1024, bias=True)\n",
       "          )\n",
       "          (dropout): Dropout(p=0.0, inplace=False)\n",
       "        )\n",
       "        (feed_forward): PositionwiseFeedForward(\n",
       "          (linears): ModuleList(\n",
       "            (0): Linear(in_features=1024, out_features=1024, bias=True)\n",
       "          )\n",
       "          (dropout): ModuleList(\n",
       "            (0): Dropout(p=0.0, inplace=False)\n",
       "          )\n",
       "        )\n",
       "        (sublayer): ModuleList(\n",
       "          (0): SublayerConnection(\n",
       "            (norm): LayerNorm()\n",
       "            (dropout): Dropout(p=0.0, inplace=False)\n",
       "          )\n",
       "          (1): SublayerConnection(\n",
       "            (norm): LayerNorm()\n",
       "            (dropout): Dropout(p=0.0, inplace=False)\n",
       "          )\n",
       "        )\n",
       "      )\n",
       "      (7): EncoderLayer(\n",
       "        (self_attn): MultiHeadedAttention(\n",
       "          (linears): ModuleList(\n",
       "            (0): Linear(in_features=1024, out_features=1024, bias=True)\n",
       "            (1): Linear(in_features=1024, out_features=1024, bias=True)\n",
       "            (2): Linear(in_features=1024, out_features=1024, bias=True)\n",
       "            (3): Linear(in_features=1024, out_features=1024, bias=True)\n",
       "          )\n",
       "          (dropout): Dropout(p=0.0, inplace=False)\n",
       "        )\n",
       "        (feed_forward): PositionwiseFeedForward(\n",
       "          (linears): ModuleList(\n",
       "            (0): Linear(in_features=1024, out_features=1024, bias=True)\n",
       "          )\n",
       "          (dropout): ModuleList(\n",
       "            (0): Dropout(p=0.0, inplace=False)\n",
       "          )\n",
       "        )\n",
       "        (sublayer): ModuleList(\n",
       "          (0): SublayerConnection(\n",
       "            (norm): LayerNorm()\n",
       "            (dropout): Dropout(p=0.0, inplace=False)\n",
       "          )\n",
       "          (1): SublayerConnection(\n",
       "            (norm): LayerNorm()\n",
       "            (dropout): Dropout(p=0.0, inplace=False)\n",
       "          )\n",
       "        )\n",
       "      )\n",
       "    )\n",
       "    (norm): LayerNorm()\n",
       "  )\n",
       "  (src_embed): Embeddings(\n",
       "    (lut): Linear(in_features=28, out_features=1024, bias=True)\n",
       "    (dropout): Dropout(p=0.0, inplace=False)\n",
       "  )\n",
       "  (generator): Generator(\n",
       "    (proj): Linear(in_features=1024, out_features=1, bias=True)\n",
       "  )\n",
       ")"
      ]
     },
     "execution_count": 38,
     "metadata": {},
     "output_type": "execute_result"
    }
   ],
   "source": [
    "#doing the same analysis as above, but on CPU\n",
    "mat_cpu=make_model(**mat_model_params)\n",
    "mat_cpu.to('cpu')"
   ]
  },
  {
   "cell_type": "code",
   "execution_count": 39,
   "metadata": {
    "scrolled": true
   },
   "outputs": [
    {
     "name": "stdout",
     "output_type": "stream",
     "text": [
      "--------------- 1 -----------------\n",
      "MAT CPU - 2D 0.03870748136982773  0.0002540162402961693\n",
      "MAT CPU - 3D 0.16035449811906527  0.0029694794775658893\n",
      "--------------- 8 -----------------\n",
      "MAT CPU - 2D 0.023654645681381228  0.001207345628239431\n",
      "MAT CPU - 3D 0.14568089102253767  0.0037442121353101253\n",
      "--------------- 16 -----------------\n",
      "MAT CPU - 2D 0.02506009087418065  0.0015835453232911304\n",
      "MAT CPU - 3D 0.14760175690506444  0.003217568372115887\n",
      "--------------- 32 -----------------\n",
      "MAT CPU - 2D 0.028485690644293123  0.0024546811395427287\n",
      "MAT CPU - 3D 0.15021801753477618  0.003455153942147226\n",
      "--------------- 64 -----------------\n",
      "MAT CPU - 2D 0.03436281988115021  0.004738437151056888\n",
      "MAT CPU - 3D 0.15709714257355895  0.004007531437141321\n"
     ]
    }
   ],
   "source": [
    "for size in [1,8,16,32,64]:\n",
    "    print('---------------',size,'-----------------')\n",
    "    mcpu_2d=[]\n",
    "    mcpu_3d=[]\n",
    "    for run in range(10):\n",
    "        mat_cpu_times_2d=[]\n",
    "        mat_cpu_times_3d=[]\n",
    "        mat_cpu_times_2d.append(complex_measure(mat_cpu,smis,two_d=True,model_cpu=True,batch_size=size))\n",
    "        mat_cpu_times_3d.append(complex_measure(mat_cpu,smis,two_d=False,model_cpu=True,batch_size=size))\n",
    "        mcpu_2d.append(np.mean([x[0] for x in mat_cpu_times_2d]))\n",
    "        mcpu_3d.append(np.mean([x[0] for x in mat_cpu_times_3d]))\n",
    "    print(f'MAT CPU - 2D {np.mean(mcpu_2d)/len(smis)}  {np.std(mcpu_2d)/len(smis)}')\n",
    "    print(f'MAT CPU - 3D {np.mean(mcpu_3d)/len(smis)}  {np.std(mcpu_3d)/len(smis)}')"
   ]
  },
  {
   "cell_type": "code",
   "execution_count": 40,
   "metadata": {},
   "outputs": [],
   "source": [
    "os.chdir('..')"
   ]
  },
  {
   "cell_type": "markdown",
   "metadata": {},
   "source": [
    "## Now for the deployed version of SolTranNet"
   ]
  },
  {
   "cell_type": "markdown",
   "metadata": {},
   "source": [
    "### Note that this version is only 2D, and automatically detects and uses a GPU if available."
   ]
  },
  {
   "cell_type": "code",
   "execution_count": 27,
   "metadata": {},
   "outputs": [],
   "source": [
    "#doing the analysis as above but with the deployed verion.\n",
    "# \n",
    "#NOTE: This was performed utilizing the soltrannet_benchmark.py script running from the optim_src directory!\n",
    "\n",
    "#I used the following commands (from within that directory) to generate the files (given times are in seconds)"
   ]
  },
  {
   "cell_type": "code",
   "execution_count": 28,
   "metadata": {},
   "outputs": [
    {
     "name": "stdout",
     "output_type": "stream",
     "text": [
      "--------------- Batch Size: 1  -----------------\r\n",
      "STN  time:0.019889647310430355  std:0.000755387041715959\r\n",
      "--------------- Batch Size: 8  -----------------\r\n",
      "STN  time:0.0037280265128973758  std:0.00011798365463399014\r\n",
      "--------------- Batch Size: 16  -----------------\r\n",
      "STN  time:0.002674855427308516  std:5.14802136143816e-05\r\n",
      "--------------- Batch Size: 32  -----------------\r\n",
      "STN  time:0.0022253509723778927  std:4.145642538265789e-05\r\n",
      "--------------- Batch Size: 64  -----------------\r\n",
      "STN  time:0.002109179532889164  std:8.390332973168637e-05\r\n"
     ]
    }
   ],
   "source": [
    "#python3 soltrannet_benchmark.py -i test --permolecule > stn_batches_gpu_time.out\n",
    "!cat optim_src/stn_batches_gpu_time.out"
   ]
  },
  {
   "cell_type": "code",
   "execution_count": 29,
   "metadata": {},
   "outputs": [
    {
     "name": "stdout",
     "output_type": "stream",
     "text": [
      "--------------- Batch Size: 1  -----------------\r\n",
      "STN  time:0.01518600005092043  std:0.0009849858998327557\r\n",
      "--------------- Batch Size: 8  -----------------\r\n",
      "STN  time:0.0038277225060896437  std:0.00035211870892168454\r\n",
      "--------------- Batch Size: 16  -----------------\r\n",
      "STN  time:0.003113202253977458  std:0.000276535176248518\r\n",
      "--------------- Batch Size: 32  -----------------\r\n",
      "STN  time:0.002827778548905344  std:9.01450800872483e-05\r\n",
      "--------------- Batch Size: 64  -----------------\r\n",
      "STN  time:0.0029501436334667783  std:0.00017619582186137415\r\n"
     ]
    }
   ],
   "source": [
    "#python3 soltrannet_benchmark.py -i test --permolecule --cpu > stn_batches_cpu_time.out\n",
    "!cat optim_src/stn_batches_cpu_time.out"
   ]
  },
  {
   "cell_type": "code",
   "execution_count": 30,
   "metadata": {},
   "outputs": [
    {
     "name": "stdout",
     "output_type": "stream",
     "text": [
      "--------------- Batch Size: 32  -----------------\r\n",
      "STN  time 2161.3525054454803  std:0.00\r\n"
     ]
    }
   ],
   "source": [
    "#python3 soltrannet_benchmark.py -i test1million.gz --batchsize 32 --numruns 1 > 1million_time.out\n",
    "!cat optim_src/1million_time.out"
   ]
  },
  {
   "cell_type": "markdown",
   "metadata": {},
   "source": [
    "## Generating the Latex for the performance on multiple test sets"
   ]
  },
  {
   "cell_type": "code",
   "execution_count": 40,
   "metadata": {},
   "outputs": [
    {
     "name": "stdout",
     "output_type": "stream",
     "text": [
      "Cui2020 Training R2:0.5886204221886455,0.024413513767568156  RMSE:0.8600285893941907,0.21482372703860816\n",
      "Cui2020 Best R2:0.6113130081035003   RMSE:0.6241022870681117\n",
      "Cui2020 Deployed: (0.6563802388698684, 0.8127053399347246)\n",
      "----------------------------------------\n",
      "Boobier2017 R2:0.5432285946421288,0.1424843888425703  RMSE:1.2739101709030884,0.1775665240747097\n",
      "Boobier2017 Best R2:0.7241077367030688   RMSE:1.010038294428349\n",
      "Boobier2017 Deployed: (0.7728606218442503, 0.8453452132656011)\n",
      "----------------------------------------\n",
      "Louvric2020 Training seed*1000epochs Training R2:0.709438949167738,0.05365680996818616  RMSE:0.8979027406547612,0.10091079505030429\n",
      "Louvric2020 seed*1000epochs Best R2:0.7830056219910293   RMSE:0.720145631344509\n",
      "Louvric2020 Training final_aq_model Training R2:0.7443717125492011,0.03452115943712588  RMSE:0.853905298269586,0.06719889461724718\n",
      "Louvric2020 final_aq_model Best R2:0.7942262979370159   RMSE:0.7334127415387698\n",
      "----------------------------------------\n",
      "LLinas2020 llinas_set1 Training R2:0.4958479055334107,0.026780378489864327  RMSE:1.119313743636613,0.16326403421191002\n",
      "LLinas2020 llinas_set1 Training Best R2:0.5273428393095032   RMSE:0.9518944456821194\n",
      "Llinas2020 llinas_set1 Deployed: (0.5143982134343317, 1.0044607364650937)\n",
      "LLinas2020 llinas_set2 Training R2:0.7693519199840354,0.03464946078056648  RMSE:1.8109991821258007,0.3276106955401967\n",
      "LLinas2020 llinas_set2 Training Best R2:0.8243804606337766   RMSE:1.2430182864337076\n",
      "Llinas2020 llinas_set2 Deployed: (0.7256783125335072, 1.2945356941918433)\n"
     ]
    }
   ],
   "source": [
    "#calculating the means and standard deviations for the table\n",
    "def helper(filename):\n",
    "    tmp=pickle.load(open(filename,'rb'))\n",
    "    return tmp['R2'],tmp['RMSE']\n",
    "\n",
    "def helper2(filename):\n",
    "    tmp=pd.read_csv(filename)\n",
    "    gold=np.array(tmp['true'].to_list())\n",
    "    pred=np.array(tmp['pred'].to_list())\n",
    "    ccvRMSE,ccvR2=get_stats(gold,pred)\n",
    "    return ccvR2, ccvRMSE\n",
    "\n",
    "#Cui et all 2020\n",
    "todo=glob.glob('data/cui2020/*testdic.pi')\n",
    "r2s=[]\n",
    "rmses=[]\n",
    "for fname in todo:\n",
    "    r2,rmse=helper(fname)\n",
    "    r2s.append(r2)\n",
    "    rmses.append(rmse)\n",
    "print(f'Cui2020 Training R2:{np.mean(r2s)},{np.std(r2s)}  RMSE:{np.mean(rmses)},{np.std(rmses)}')\n",
    "print(f'Cui2020 Best R2:{np.max(r2s)}   RMSE:{np.min(rmses)}')\n",
    "print(f'Cui2020 Deployed: {helper2(\"data/cui2020/final_aq_model.predictions\")}')\n",
    "print('----------------------------------------')\n",
    "\n",
    "#Boobier et al 2017\n",
    "todo=glob.glob('data/boobier2017/*testdic.pi')\n",
    "\n",
    "r2s=[]\n",
    "rmses=[]\n",
    "for fname in [x for x in todo if '_2d_' not in x]:\n",
    "    r2,rmse=helper(fname)\n",
    "    r2s.append(r2)\n",
    "    rmses.append(rmse)\n",
    "print(f'Boobier2017 R2:{np.mean(r2s)},{np.std(r2s)}  RMSE:{np.mean(rmses)},{np.std(rmses)}')\n",
    "print(f'Boobier2017 Best R2:{np.max(r2s)}   RMSE:{np.min(rmses)}')\n",
    "print(f'Boobier2017 Deployed: {helper2(\"data/boobier2017/final_aq_model.predictions\")}')\n",
    "print('----------------------------------------')\n",
    "\n",
    "#Louvric et al 2020\n",
    "for key in ['seed*1000epochs','final_aq_model']:\n",
    "    todo=glob.glob('data/louvric2020/'+key+'*.predictions')\n",
    "    r2s=[]\n",
    "    rmses=[]\n",
    "    for fname in todo:\n",
    "        r2,rmse=helper2(fname)\n",
    "        r2s.append(r2)\n",
    "        rmses.append(rmse)\n",
    "    print(f'Louvric2020 Training {key} Training R2:{np.mean(r2s)},{np.std(r2s)}  RMSE:{np.mean(rmses)},{np.std(rmses)}')\n",
    "    print(f'Louvric2020 {key} Best R2:{np.max(r2s)}   RMSE:{np.min(rmses)}')\n",
    "print('----------------------------------------')\n",
    "#LLinas et al 2020\n",
    "for key in ['llinas_set1','llinas_set2']:\n",
    "    todo=glob.glob(f'data/llinas2020/soltrannet/{key}*testdic.pi')\n",
    "    r2s=[]\n",
    "    rmses=[]\n",
    "    for fname in todo:\n",
    "        r2,rmse=helper(fname)\n",
    "        r2s.append(r2)\n",
    "        rmses.append(rmse)\n",
    "    print(f'LLinas2020 {key} Training R2:{np.mean(r2s)},{np.std(r2s)}  RMSE:{np.mean(rmses)},{np.std(rmses)}')\n",
    "    print(f'LLinas2020 {key} Training Best R2:{np.max(r2s)}   RMSE:{np.min(rmses)}')\n",
    "    print(f'Llinas2020 {key} Deployed: {helper2(f\"data/llinas2020/soltrannet/{key}_final_aq_model.predictions\")}')"
   ]
  },
  {
   "cell_type": "code",
   "execution_count": 41,
   "metadata": {},
   "outputs": [],
   "source": [
    "def count_overlap(list_o_smiles):\n",
    "    '''\n",
    "    counts the number of identical molecules in list_o_smiles to AqSolDB\n",
    "    '''\n",
    "    \n",
    "    aqsol_smiles=pd.read_csv('data/training_data/aqsol_2d.csv')['smiles'].tolist()\n",
    "    aqsol_fps=[Chem.RDKFingerprint(Chem.MolFromSmiles(x)) for x in aqsol_smiles]\n",
    "    \n",
    "    input_fps=[Chem.RDKFingerprint(Chem.MolFromSmiles(x)) for x in list_o_smiles]\n",
    "    \n",
    "    counter=0\n",
    "    for fp1 in input_fps:\n",
    "        for fp2 in aqsol_fps:\n",
    "            if DataStructs.FingerprintSimilarity(fp1, fp2)==1:\n",
    "                counter+=1\n",
    "                break\n",
    "    return counter"
   ]
  },
  {
   "cell_type": "code",
   "execution_count": 42,
   "metadata": {
    "scrolled": true
   },
   "outputs": [
    {
     "name": "stderr",
     "output_type": "stream",
     "text": [
      "RDKit WARNING: [15:54:13] WARNING: not removing hydrogen atom without neighbors\n",
      "RDKit WARNING: [15:54:13] WARNING: not removing hydrogen atom without neighbors\n",
      "RDKit WARNING: [15:54:13] WARNING: not removing hydrogen atom without neighbors\n",
      "RDKit WARNING: [15:54:14] WARNING: not removing hydrogen atom without neighbors\n",
      "RDKit WARNING: [15:54:14] WARNING: not removing hydrogen atom without neighbors\n",
      "RDKit WARNING: [15:54:14] WARNING: not removing hydrogen atom without neighbors\n",
      "RDKit WARNING: [15:54:14] WARNING: not removing hydrogen atom without neighbors\n",
      "RDKit WARNING: [15:54:14] WARNING: not removing hydrogen atom without neighbors\n",
      "RDKit WARNING: [15:54:14] WARNING: not removing hydrogen atom without neighbors\n",
      "RDKit WARNING: [15:54:14] WARNING: not removing hydrogen atom without neighbors\n",
      "RDKit WARNING: [15:54:14] WARNING: not removing hydrogen atom without neighbors\n",
      "RDKit WARNING: [15:54:14] WARNING: not removing hydrogen atom without neighbors\n",
      "RDKit WARNING: [15:54:14] WARNING: not removing hydrogen atom without neighbors\n",
      "RDKit WARNING: [15:54:14] WARNING: not removing hydrogen atom without neighbors\n",
      "RDKit WARNING: [15:54:14] WARNING: not removing hydrogen atom without neighbors\n",
      "RDKit WARNING: [15:54:14] WARNING: not removing hydrogen atom without neighbors\n",
      "RDKit WARNING: [15:54:14] WARNING: not removing hydrogen atom without neighbors\n",
      "RDKit WARNING: [15:54:14] WARNING: not removing hydrogen atom without neighbors\n",
      "RDKit WARNING: [15:54:14] WARNING: not removing hydrogen atom without neighbors\n",
      "RDKit WARNING: [15:54:14] WARNING: not removing hydrogen atom without neighbors\n",
      "RDKit WARNING: [15:54:14] WARNING: not removing hydrogen atom without neighbors\n",
      "RDKit WARNING: [15:54:14] WARNING: not removing hydrogen atom without neighbors\n",
      "RDKit WARNING: [15:54:14] WARNING: not removing hydrogen atom without neighbors\n",
      "RDKit WARNING: [15:54:14] WARNING: not removing hydrogen atom without neighbors\n",
      "RDKit WARNING: [15:54:14] WARNING: not removing hydrogen atom without neighbors\n",
      "RDKit WARNING: [15:54:14] WARNING: not removing hydrogen atom without neighbors\n",
      "RDKit WARNING: [15:54:14] WARNING: not removing hydrogen atom without neighbors\n",
      "RDKit WARNING: [15:54:14] WARNING: not removing hydrogen atom without neighbors\n",
      "RDKit WARNING: [15:54:14] WARNING: not removing hydrogen atom without neighbors\n",
      "RDKit WARNING: [15:54:14] WARNING: not removing hydrogen atom without neighbors\n",
      "RDKit WARNING: [15:54:14] WARNING: not removing hydrogen atom without neighbors\n",
      "RDKit WARNING: [15:54:14] WARNING: not removing hydrogen atom without neighbors\n",
      "RDKit WARNING: [15:54:14] WARNING: not removing hydrogen atom without neighbors\n",
      "RDKit WARNING: [15:54:15] WARNING: not removing hydrogen atom without neighbors\n",
      "RDKit WARNING: [15:54:15] WARNING: not removing hydrogen atom without neighbors\n",
      "RDKit WARNING: [15:54:15] WARNING: not removing hydrogen atom without neighbors\n",
      "RDKit WARNING: [15:54:15] WARNING: not removing hydrogen atom without neighbors\n",
      "RDKit WARNING: [15:54:15] WARNING: not removing hydrogen atom without neighbors\n",
      "RDKit WARNING: [15:54:15] WARNING: not removing hydrogen atom without neighbors\n",
      "RDKit WARNING: [15:54:15] WARNING: not removing hydrogen atom without neighbors\n",
      "RDKit WARNING: [15:54:15] WARNING: not removing hydrogen atom without neighbors\n",
      "RDKit WARNING: [15:54:15] WARNING: not removing hydrogen atom without neighbors\n",
      "RDKit WARNING: [15:54:15] WARNING: not removing hydrogen atom without neighbors\n",
      "RDKit WARNING: [15:54:15] WARNING: not removing hydrogen atom without neighbors\n",
      "RDKit WARNING: [15:54:15] WARNING: not removing hydrogen atom without neighbors\n",
      "RDKit WARNING: [15:54:15] WARNING: not removing hydrogen atom without neighbors\n",
      "RDKit WARNING: [15:54:15] WARNING: not removing hydrogen atom without neighbors\n",
      "RDKit WARNING: [15:54:15] WARNING: not removing hydrogen atom without neighbors\n",
      "RDKit WARNING: [15:54:15] WARNING: not removing hydrogen atom without neighbors\n",
      "RDKit WARNING: [15:54:15] WARNING: not removing hydrogen atom without neighbors\n",
      "RDKit WARNING: [15:54:15] WARNING: not removing hydrogen atom without neighbors\n",
      "RDKit WARNING: [15:54:15] WARNING: not removing hydrogen atom without neighbors\n",
      "RDKit WARNING: [15:54:15] WARNING: not removing hydrogen atom without neighbors\n",
      "RDKit WARNING: [15:54:15] WARNING: not removing hydrogen atom without neighbors\n",
      "RDKit WARNING: [15:54:15] WARNING: not removing hydrogen atom without neighbors\n",
      "RDKit WARNING: [15:54:15] WARNING: not removing hydrogen atom without neighbors\n",
      "RDKit WARNING: [15:54:16] WARNING: not removing hydrogen atom without neighbors\n",
      "RDKit WARNING: [15:54:16] WARNING: not removing hydrogen atom without neighbors\n",
      "RDKit WARNING: [15:54:16] WARNING: not removing hydrogen atom without neighbors\n",
      "RDKit WARNING: [15:54:16] WARNING: not removing hydrogen atom without neighbors\n",
      "RDKit WARNING: [15:54:16] WARNING: not removing hydrogen atom without neighbors\n",
      "RDKit WARNING: [15:54:16] WARNING: not removing hydrogen atom without neighbors\n",
      "RDKit WARNING: [15:54:16] WARNING: not removing hydrogen atom without neighbors\n",
      "RDKit WARNING: [15:54:17] WARNING: not removing hydrogen atom without neighbors\n",
      "RDKit WARNING: [15:54:17] WARNING: not removing hydrogen atom without neighbors\n"
     ]
    },
    {
     "name": "stdout",
     "output_type": "stream",
     "text": [
      "Cui Overlap: 0/62\n"
     ]
    }
   ],
   "source": [
    "#Cui2020 overlap\n",
    "cui_smis=pd.read_csv('data/cui2020/cui_et_all_sol_2d_testing.csv')['smiles'].tolist()\n",
    "print(f'Cui Overlap: {count_overlap(cui_smis)}/{len(cui_smis)}')"
   ]
  },
  {
   "cell_type": "code",
   "execution_count": 43,
   "metadata": {
    "scrolled": true
   },
   "outputs": [
    {
     "name": "stderr",
     "output_type": "stream",
     "text": [
      "RDKit WARNING: [15:54:21] WARNING: not removing hydrogen atom without neighbors\n",
      "RDKit WARNING: [15:54:21] WARNING: not removing hydrogen atom without neighbors\n",
      "RDKit WARNING: [15:54:21] WARNING: not removing hydrogen atom without neighbors\n",
      "RDKit WARNING: [15:54:21] WARNING: not removing hydrogen atom without neighbors\n",
      "RDKit WARNING: [15:54:21] WARNING: not removing hydrogen atom without neighbors\n",
      "RDKit WARNING: [15:54:21] WARNING: not removing hydrogen atom without neighbors\n",
      "RDKit WARNING: [15:54:21] WARNING: not removing hydrogen atom without neighbors\n",
      "RDKit WARNING: [15:54:21] WARNING: not removing hydrogen atom without neighbors\n",
      "RDKit WARNING: [15:54:21] WARNING: not removing hydrogen atom without neighbors\n",
      "RDKit WARNING: [15:54:21] WARNING: not removing hydrogen atom without neighbors\n",
      "RDKit WARNING: [15:54:21] WARNING: not removing hydrogen atom without neighbors\n",
      "RDKit WARNING: [15:54:21] WARNING: not removing hydrogen atom without neighbors\n",
      "RDKit WARNING: [15:54:22] WARNING: not removing hydrogen atom without neighbors\n",
      "RDKit WARNING: [15:54:22] WARNING: not removing hydrogen atom without neighbors\n",
      "RDKit WARNING: [15:54:22] WARNING: not removing hydrogen atom without neighbors\n",
      "RDKit WARNING: [15:54:22] WARNING: not removing hydrogen atom without neighbors\n",
      "RDKit WARNING: [15:54:22] WARNING: not removing hydrogen atom without neighbors\n",
      "RDKit WARNING: [15:54:22] WARNING: not removing hydrogen atom without neighbors\n",
      "RDKit WARNING: [15:54:22] WARNING: not removing hydrogen atom without neighbors\n",
      "RDKit WARNING: [15:54:22] WARNING: not removing hydrogen atom without neighbors\n",
      "RDKit WARNING: [15:54:22] WARNING: not removing hydrogen atom without neighbors\n",
      "RDKit WARNING: [15:54:22] WARNING: not removing hydrogen atom without neighbors\n",
      "RDKit WARNING: [15:54:22] WARNING: not removing hydrogen atom without neighbors\n",
      "RDKit WARNING: [15:54:22] WARNING: not removing hydrogen atom without neighbors\n",
      "RDKit WARNING: [15:54:22] WARNING: not removing hydrogen atom without neighbors\n",
      "RDKit WARNING: [15:54:22] WARNING: not removing hydrogen atom without neighbors\n",
      "RDKit WARNING: [15:54:22] WARNING: not removing hydrogen atom without neighbors\n",
      "RDKit WARNING: [15:54:22] WARNING: not removing hydrogen atom without neighbors\n",
      "RDKit WARNING: [15:54:22] WARNING: not removing hydrogen atom without neighbors\n",
      "RDKit WARNING: [15:54:22] WARNING: not removing hydrogen atom without neighbors\n",
      "RDKit WARNING: [15:54:22] WARNING: not removing hydrogen atom without neighbors\n",
      "RDKit WARNING: [15:54:22] WARNING: not removing hydrogen atom without neighbors\n",
      "RDKit WARNING: [15:54:22] WARNING: not removing hydrogen atom without neighbors\n",
      "RDKit WARNING: [15:54:22] WARNING: not removing hydrogen atom without neighbors\n",
      "RDKit WARNING: [15:54:22] WARNING: not removing hydrogen atom without neighbors\n",
      "RDKit WARNING: [15:54:22] WARNING: not removing hydrogen atom without neighbors\n",
      "RDKit WARNING: [15:54:22] WARNING: not removing hydrogen atom without neighbors\n",
      "RDKit WARNING: [15:54:22] WARNING: not removing hydrogen atom without neighbors\n",
      "RDKit WARNING: [15:54:22] WARNING: not removing hydrogen atom without neighbors\n",
      "RDKit WARNING: [15:54:22] WARNING: not removing hydrogen atom without neighbors\n",
      "RDKit WARNING: [15:54:22] WARNING: not removing hydrogen atom without neighbors\n",
      "RDKit WARNING: [15:54:22] WARNING: not removing hydrogen atom without neighbors\n",
      "RDKit WARNING: [15:54:22] WARNING: not removing hydrogen atom without neighbors\n",
      "RDKit WARNING: [15:54:22] WARNING: not removing hydrogen atom without neighbors\n",
      "RDKit WARNING: [15:54:22] WARNING: not removing hydrogen atom without neighbors\n",
      "RDKit WARNING: [15:54:22] WARNING: not removing hydrogen atom without neighbors\n",
      "RDKit WARNING: [15:54:22] WARNING: not removing hydrogen atom without neighbors\n",
      "RDKit WARNING: [15:54:22] WARNING: not removing hydrogen atom without neighbors\n",
      "RDKit WARNING: [15:54:22] WARNING: not removing hydrogen atom without neighbors\n",
      "RDKit WARNING: [15:54:22] WARNING: not removing hydrogen atom without neighbors\n",
      "RDKit WARNING: [15:54:23] WARNING: not removing hydrogen atom without neighbors\n",
      "RDKit WARNING: [15:54:23] WARNING: not removing hydrogen atom without neighbors\n",
      "RDKit WARNING: [15:54:23] WARNING: not removing hydrogen atom without neighbors\n",
      "RDKit WARNING: [15:54:23] WARNING: not removing hydrogen atom without neighbors\n",
      "RDKit WARNING: [15:54:23] WARNING: not removing hydrogen atom without neighbors\n",
      "RDKit WARNING: [15:54:23] WARNING: not removing hydrogen atom without neighbors\n",
      "RDKit WARNING: [15:54:23] WARNING: not removing hydrogen atom without neighbors\n",
      "RDKit WARNING: [15:54:23] WARNING: not removing hydrogen atom without neighbors\n",
      "RDKit WARNING: [15:54:23] WARNING: not removing hydrogen atom without neighbors\n",
      "RDKit WARNING: [15:54:23] WARNING: not removing hydrogen atom without neighbors\n",
      "RDKit WARNING: [15:54:23] WARNING: not removing hydrogen atom without neighbors\n",
      "RDKit WARNING: [15:54:24] WARNING: not removing hydrogen atom without neighbors\n",
      "RDKit WARNING: [15:54:24] WARNING: not removing hydrogen atom without neighbors\n",
      "RDKit WARNING: [15:54:24] WARNING: not removing hydrogen atom without neighbors\n",
      "RDKit WARNING: [15:54:24] WARNING: not removing hydrogen atom without neighbors\n"
     ]
    },
    {
     "name": "stdout",
     "output_type": "stream",
     "text": [
      "Boobier Overlap: 23/25\n"
     ]
    }
   ],
   "source": [
    "#boobier2017 overlap\n",
    "boob_smis=pd.read_csv('data/boobier2017/dls100_test.csv')['smiles'].tolist()\n",
    "print(f'Boobier Overlap: {count_overlap(boob_smis)}/{len(boob_smis)}')"
   ]
  },
  {
   "cell_type": "code",
   "execution_count": 44,
   "metadata": {
    "scrolled": true
   },
   "outputs": [
    {
     "name": "stderr",
     "output_type": "stream",
     "text": [
      "RDKit WARNING: [15:54:27] WARNING: not removing hydrogen atom without neighbors\n",
      "RDKit WARNING: [15:54:27] WARNING: not removing hydrogen atom without neighbors\n",
      "RDKit WARNING: [15:54:27] WARNING: not removing hydrogen atom without neighbors\n",
      "RDKit WARNING: [15:54:27] WARNING: not removing hydrogen atom without neighbors\n",
      "RDKit WARNING: [15:54:27] WARNING: not removing hydrogen atom without neighbors\n",
      "RDKit WARNING: [15:54:27] WARNING: not removing hydrogen atom without neighbors\n",
      "RDKit WARNING: [15:54:27] WARNING: not removing hydrogen atom without neighbors\n",
      "RDKit WARNING: [15:54:27] WARNING: not removing hydrogen atom without neighbors\n",
      "RDKit WARNING: [15:54:27] WARNING: not removing hydrogen atom without neighbors\n",
      "RDKit WARNING: [15:54:27] WARNING: not removing hydrogen atom without neighbors\n",
      "RDKit WARNING: [15:54:27] WARNING: not removing hydrogen atom without neighbors\n",
      "RDKit WARNING: [15:54:27] WARNING: not removing hydrogen atom without neighbors\n",
      "RDKit WARNING: [15:54:27] WARNING: not removing hydrogen atom without neighbors\n",
      "RDKit WARNING: [15:54:27] WARNING: not removing hydrogen atom without neighbors\n",
      "RDKit WARNING: [15:54:27] WARNING: not removing hydrogen atom without neighbors\n",
      "RDKit WARNING: [15:54:27] WARNING: not removing hydrogen atom without neighbors\n",
      "RDKit WARNING: [15:54:27] WARNING: not removing hydrogen atom without neighbors\n",
      "RDKit WARNING: [15:54:28] WARNING: not removing hydrogen atom without neighbors\n",
      "RDKit WARNING: [15:54:28] WARNING: not removing hydrogen atom without neighbors\n",
      "RDKit WARNING: [15:54:28] WARNING: not removing hydrogen atom without neighbors\n",
      "RDKit WARNING: [15:54:28] WARNING: not removing hydrogen atom without neighbors\n",
      "RDKit WARNING: [15:54:28] WARNING: not removing hydrogen atom without neighbors\n",
      "RDKit WARNING: [15:54:28] WARNING: not removing hydrogen atom without neighbors\n",
      "RDKit WARNING: [15:54:28] WARNING: not removing hydrogen atom without neighbors\n",
      "RDKit WARNING: [15:54:28] WARNING: not removing hydrogen atom without neighbors\n",
      "RDKit WARNING: [15:54:28] WARNING: not removing hydrogen atom without neighbors\n",
      "RDKit WARNING: [15:54:28] WARNING: not removing hydrogen atom without neighbors\n",
      "RDKit WARNING: [15:54:28] WARNING: not removing hydrogen atom without neighbors\n",
      "RDKit WARNING: [15:54:28] WARNING: not removing hydrogen atom without neighbors\n",
      "RDKit WARNING: [15:54:28] WARNING: not removing hydrogen atom without neighbors\n",
      "RDKit WARNING: [15:54:28] WARNING: not removing hydrogen atom without neighbors\n",
      "RDKit WARNING: [15:54:28] WARNING: not removing hydrogen atom without neighbors\n",
      "RDKit WARNING: [15:54:28] WARNING: not removing hydrogen atom without neighbors\n",
      "RDKit WARNING: [15:54:28] WARNING: not removing hydrogen atom without neighbors\n",
      "RDKit WARNING: [15:54:28] WARNING: not removing hydrogen atom without neighbors\n",
      "RDKit WARNING: [15:54:28] WARNING: not removing hydrogen atom without neighbors\n",
      "RDKit WARNING: [15:54:28] WARNING: not removing hydrogen atom without neighbors\n",
      "RDKit WARNING: [15:54:28] WARNING: not removing hydrogen atom without neighbors\n",
      "RDKit WARNING: [15:54:28] WARNING: not removing hydrogen atom without neighbors\n",
      "RDKit WARNING: [15:54:28] WARNING: not removing hydrogen atom without neighbors\n",
      "RDKit WARNING: [15:54:28] WARNING: not removing hydrogen atom without neighbors\n",
      "RDKit WARNING: [15:54:28] WARNING: not removing hydrogen atom without neighbors\n",
      "RDKit WARNING: [15:54:28] WARNING: not removing hydrogen atom without neighbors\n",
      "RDKit WARNING: [15:54:28] WARNING: not removing hydrogen atom without neighbors\n",
      "RDKit WARNING: [15:54:28] WARNING: not removing hydrogen atom without neighbors\n",
      "RDKit WARNING: [15:54:28] WARNING: not removing hydrogen atom without neighbors\n",
      "RDKit WARNING: [15:54:28] WARNING: not removing hydrogen atom without neighbors\n",
      "RDKit WARNING: [15:54:28] WARNING: not removing hydrogen atom without neighbors\n",
      "RDKit WARNING: [15:54:28] WARNING: not removing hydrogen atom without neighbors\n",
      "RDKit WARNING: [15:54:28] WARNING: not removing hydrogen atom without neighbors\n",
      "RDKit WARNING: [15:54:28] WARNING: not removing hydrogen atom without neighbors\n",
      "RDKit WARNING: [15:54:28] WARNING: not removing hydrogen atom without neighbors\n",
      "RDKit WARNING: [15:54:28] WARNING: not removing hydrogen atom without neighbors\n",
      "RDKit WARNING: [15:54:29] WARNING: not removing hydrogen atom without neighbors\n",
      "RDKit WARNING: [15:54:29] WARNING: not removing hydrogen atom without neighbors\n",
      "RDKit WARNING: [15:54:29] WARNING: not removing hydrogen atom without neighbors\n",
      "RDKit WARNING: [15:54:29] WARNING: not removing hydrogen atom without neighbors\n",
      "RDKit WARNING: [15:54:29] WARNING: not removing hydrogen atom without neighbors\n",
      "RDKit WARNING: [15:54:29] WARNING: not removing hydrogen atom without neighbors\n",
      "RDKit WARNING: [15:54:29] WARNING: not removing hydrogen atom without neighbors\n",
      "RDKit WARNING: [15:54:29] WARNING: not removing hydrogen atom without neighbors\n",
      "RDKit WARNING: [15:54:29] WARNING: not removing hydrogen atom without neighbors\n",
      "RDKit WARNING: [15:54:29] WARNING: not removing hydrogen atom without neighbors\n",
      "RDKit WARNING: [15:54:30] WARNING: not removing hydrogen atom without neighbors\n",
      "RDKit WARNING: [15:54:30] WARNING: not removing hydrogen atom without neighbors\n",
      "RDKit WARNING: [15:54:36] WARNING: not removing hydrogen atom without neighbors\n",
      "RDKit WARNING: [15:54:36] WARNING: not removing hydrogen atom without neighbors\n",
      "RDKit WARNING: [15:54:36] WARNING: not removing hydrogen atom without neighbors\n",
      "RDKit WARNING: [15:54:36] WARNING: not removing hydrogen atom without neighbors\n",
      "RDKit WARNING: [15:54:36] WARNING: not removing hydrogen atom without neighbors\n",
      "RDKit WARNING: [15:54:36] WARNING: not removing hydrogen atom without neighbors\n",
      "RDKit WARNING: [15:54:36] WARNING: not removing hydrogen atom without neighbors\n",
      "RDKit WARNING: [15:54:36] WARNING: not removing hydrogen atom without neighbors\n",
      "RDKit WARNING: [15:54:36] WARNING: not removing hydrogen atom without neighbors\n",
      "RDKit WARNING: [15:54:36] WARNING: not removing hydrogen atom without neighbors\n",
      "RDKit WARNING: [15:54:36] WARNING: not removing hydrogen atom without neighbors\n",
      "RDKit WARNING: [15:54:36] WARNING: not removing hydrogen atom without neighbors\n",
      "RDKit WARNING: [15:54:36] WARNING: not removing hydrogen atom without neighbors\n",
      "RDKit WARNING: [15:54:36] WARNING: not removing hydrogen atom without neighbors\n",
      "RDKit WARNING: [15:54:36] WARNING: not removing hydrogen atom without neighbors\n",
      "RDKit WARNING: [15:54:36] WARNING: not removing hydrogen atom without neighbors\n",
      "RDKit WARNING: [15:54:36] WARNING: not removing hydrogen atom without neighbors\n",
      "RDKit WARNING: [15:54:36] WARNING: not removing hydrogen atom without neighbors\n",
      "RDKit WARNING: [15:54:36] WARNING: not removing hydrogen atom without neighbors\n",
      "RDKit WARNING: [15:54:36] WARNING: not removing hydrogen atom without neighbors\n",
      "RDKit WARNING: [15:54:36] WARNING: not removing hydrogen atom without neighbors\n",
      "RDKit WARNING: [15:54:36] WARNING: not removing hydrogen atom without neighbors\n",
      "RDKit WARNING: [15:54:36] WARNING: not removing hydrogen atom without neighbors\n",
      "RDKit WARNING: [15:54:36] WARNING: not removing hydrogen atom without neighbors\n",
      "RDKit WARNING: [15:54:36] WARNING: not removing hydrogen atom without neighbors\n",
      "RDKit WARNING: [15:54:36] WARNING: not removing hydrogen atom without neighbors\n",
      "RDKit WARNING: [15:54:36] WARNING: not removing hydrogen atom without neighbors\n",
      "RDKit WARNING: [15:54:37] WARNING: not removing hydrogen atom without neighbors\n",
      "RDKit WARNING: [15:54:37] WARNING: not removing hydrogen atom without neighbors\n",
      "RDKit WARNING: [15:54:37] WARNING: not removing hydrogen atom without neighbors\n",
      "RDKit WARNING: [15:54:37] WARNING: not removing hydrogen atom without neighbors\n",
      "RDKit WARNING: [15:54:37] WARNING: not removing hydrogen atom without neighbors\n",
      "RDKit WARNING: [15:54:37] WARNING: not removing hydrogen atom without neighbors\n",
      "RDKit WARNING: [15:54:37] WARNING: not removing hydrogen atom without neighbors\n",
      "RDKit WARNING: [15:54:37] WARNING: not removing hydrogen atom without neighbors\n",
      "RDKit WARNING: [15:54:37] WARNING: not removing hydrogen atom without neighbors\n",
      "RDKit WARNING: [15:54:37] WARNING: not removing hydrogen atom without neighbors\n",
      "RDKit WARNING: [15:54:37] WARNING: not removing hydrogen atom without neighbors\n"
     ]
    },
    {
     "name": "stderr",
     "output_type": "stream",
     "text": [
      "RDKit WARNING: [15:54:37] WARNING: not removing hydrogen atom without neighbors\n",
      "RDKit WARNING: [15:54:37] WARNING: not removing hydrogen atom without neighbors\n",
      "RDKit WARNING: [15:54:37] WARNING: not removing hydrogen atom without neighbors\n",
      "RDKit WARNING: [15:54:37] WARNING: not removing hydrogen atom without neighbors\n",
      "RDKit WARNING: [15:54:37] WARNING: not removing hydrogen atom without neighbors\n",
      "RDKit WARNING: [15:54:37] WARNING: not removing hydrogen atom without neighbors\n",
      "RDKit WARNING: [15:54:37] WARNING: not removing hydrogen atom without neighbors\n",
      "RDKit WARNING: [15:54:37] WARNING: not removing hydrogen atom without neighbors\n",
      "RDKit WARNING: [15:54:37] WARNING: not removing hydrogen atom without neighbors\n",
      "RDKit WARNING: [15:54:37] WARNING: not removing hydrogen atom without neighbors\n",
      "RDKit WARNING: [15:54:37] WARNING: not removing hydrogen atom without neighbors\n",
      "RDKit WARNING: [15:54:37] WARNING: not removing hydrogen atom without neighbors\n",
      "RDKit WARNING: [15:54:37] WARNING: not removing hydrogen atom without neighbors\n",
      "RDKit WARNING: [15:54:37] WARNING: not removing hydrogen atom without neighbors\n",
      "RDKit WARNING: [15:54:37] WARNING: not removing hydrogen atom without neighbors\n",
      "RDKit WARNING: [15:54:37] WARNING: not removing hydrogen atom without neighbors\n",
      "RDKit WARNING: [15:54:37] WARNING: not removing hydrogen atom without neighbors\n",
      "RDKit WARNING: [15:54:37] WARNING: not removing hydrogen atom without neighbors\n",
      "RDKit WARNING: [15:54:38] WARNING: not removing hydrogen atom without neighbors\n",
      "RDKit WARNING: [15:54:38] WARNING: not removing hydrogen atom without neighbors\n",
      "RDKit WARNING: [15:54:38] WARNING: not removing hydrogen atom without neighbors\n",
      "RDKit WARNING: [15:54:38] WARNING: not removing hydrogen atom without neighbors\n",
      "RDKit WARNING: [15:54:38] WARNING: not removing hydrogen atom without neighbors\n",
      "RDKit WARNING: [15:54:38] WARNING: not removing hydrogen atom without neighbors\n",
      "RDKit WARNING: [15:54:38] WARNING: not removing hydrogen atom without neighbors\n",
      "RDKit WARNING: [15:54:38] WARNING: not removing hydrogen atom without neighbors\n",
      "RDKit WARNING: [15:54:38] WARNING: not removing hydrogen atom without neighbors\n"
     ]
    },
    {
     "name": "stdout",
     "output_type": "stream",
     "text": [
      "Lovric Overlap: 155/166\n"
     ]
    },
    {
     "name": "stderr",
     "output_type": "stream",
     "text": [
      "RDKit WARNING: [15:54:44] WARNING: not removing hydrogen atom without neighbors\n",
      "RDKit WARNING: [15:54:44] WARNING: not removing hydrogen atom without neighbors\n",
      "RDKit WARNING: [15:54:44] WARNING: not removing hydrogen atom without neighbors\n",
      "RDKit WARNING: [15:54:44] WARNING: not removing hydrogen atom without neighbors\n",
      "RDKit WARNING: [15:54:44] WARNING: not removing hydrogen atom without neighbors\n",
      "RDKit WARNING: [15:54:45] WARNING: not removing hydrogen atom without neighbors\n",
      "RDKit WARNING: [15:54:45] WARNING: not removing hydrogen atom without neighbors\n",
      "RDKit WARNING: [15:54:45] WARNING: not removing hydrogen atom without neighbors\n",
      "RDKit WARNING: [15:54:45] WARNING: not removing hydrogen atom without neighbors\n",
      "RDKit WARNING: [15:54:45] WARNING: not removing hydrogen atom without neighbors\n",
      "RDKit WARNING: [15:54:45] WARNING: not removing hydrogen atom without neighbors\n",
      "RDKit WARNING: [15:54:45] WARNING: not removing hydrogen atom without neighbors\n",
      "RDKit WARNING: [15:54:45] WARNING: not removing hydrogen atom without neighbors\n",
      "RDKit WARNING: [15:54:45] WARNING: not removing hydrogen atom without neighbors\n",
      "RDKit WARNING: [15:54:45] WARNING: not removing hydrogen atom without neighbors\n",
      "RDKit WARNING: [15:54:45] WARNING: not removing hydrogen atom without neighbors\n",
      "RDKit WARNING: [15:54:45] WARNING: not removing hydrogen atom without neighbors\n",
      "RDKit WARNING: [15:54:45] WARNING: not removing hydrogen atom without neighbors\n",
      "RDKit WARNING: [15:54:45] WARNING: not removing hydrogen atom without neighbors\n",
      "RDKit WARNING: [15:54:45] WARNING: not removing hydrogen atom without neighbors\n",
      "RDKit WARNING: [15:54:45] WARNING: not removing hydrogen atom without neighbors\n",
      "RDKit WARNING: [15:54:45] WARNING: not removing hydrogen atom without neighbors\n",
      "RDKit WARNING: [15:54:45] WARNING: not removing hydrogen atom without neighbors\n",
      "RDKit WARNING: [15:54:45] WARNING: not removing hydrogen atom without neighbors\n",
      "RDKit WARNING: [15:54:45] WARNING: not removing hydrogen atom without neighbors\n",
      "RDKit WARNING: [15:54:45] WARNING: not removing hydrogen atom without neighbors\n",
      "RDKit WARNING: [15:54:45] WARNING: not removing hydrogen atom without neighbors\n",
      "RDKit WARNING: [15:54:45] WARNING: not removing hydrogen atom without neighbors\n",
      "RDKit WARNING: [15:54:45] WARNING: not removing hydrogen atom without neighbors\n",
      "RDKit WARNING: [15:54:45] WARNING: not removing hydrogen atom without neighbors\n",
      "RDKit WARNING: [15:54:45] WARNING: not removing hydrogen atom without neighbors\n",
      "RDKit WARNING: [15:54:45] WARNING: not removing hydrogen atom without neighbors\n",
      "RDKit WARNING: [15:54:45] WARNING: not removing hydrogen atom without neighbors\n",
      "RDKit WARNING: [15:54:45] WARNING: not removing hydrogen atom without neighbors\n",
      "RDKit WARNING: [15:54:45] WARNING: not removing hydrogen atom without neighbors\n",
      "RDKit WARNING: [15:54:45] WARNING: not removing hydrogen atom without neighbors\n",
      "RDKit WARNING: [15:54:45] WARNING: not removing hydrogen atom without neighbors\n",
      "RDKit WARNING: [15:54:45] WARNING: not removing hydrogen atom without neighbors\n",
      "RDKit WARNING: [15:54:45] WARNING: not removing hydrogen atom without neighbors\n",
      "RDKit WARNING: [15:54:45] WARNING: not removing hydrogen atom without neighbors\n",
      "RDKit WARNING: [15:54:45] WARNING: not removing hydrogen atom without neighbors\n",
      "RDKit WARNING: [15:54:45] WARNING: not removing hydrogen atom without neighbors\n",
      "RDKit WARNING: [15:54:46] WARNING: not removing hydrogen atom without neighbors\n",
      "RDKit WARNING: [15:54:46] WARNING: not removing hydrogen atom without neighbors\n",
      "RDKit WARNING: [15:54:46] WARNING: not removing hydrogen atom without neighbors\n",
      "RDKit WARNING: [15:54:46] WARNING: not removing hydrogen atom without neighbors\n",
      "RDKit WARNING: [15:54:46] WARNING: not removing hydrogen atom without neighbors\n",
      "RDKit WARNING: [15:54:46] WARNING: not removing hydrogen atom without neighbors\n",
      "RDKit WARNING: [15:54:46] WARNING: not removing hydrogen atom without neighbors\n",
      "RDKit WARNING: [15:54:46] WARNING: not removing hydrogen atom without neighbors\n",
      "RDKit WARNING: [15:54:46] WARNING: not removing hydrogen atom without neighbors\n",
      "RDKit WARNING: [15:54:46] WARNING: not removing hydrogen atom without neighbors\n",
      "RDKit WARNING: [15:54:46] WARNING: not removing hydrogen atom without neighbors\n",
      "RDKit WARNING: [15:54:46] WARNING: not removing hydrogen atom without neighbors\n",
      "RDKit WARNING: [15:54:46] WARNING: not removing hydrogen atom without neighbors\n",
      "RDKit WARNING: [15:54:46] WARNING: not removing hydrogen atom without neighbors\n",
      "RDKit WARNING: [15:54:46] WARNING: not removing hydrogen atom without neighbors\n",
      "RDKit WARNING: [15:54:46] WARNING: not removing hydrogen atom without neighbors\n",
      "RDKit WARNING: [15:54:46] WARNING: not removing hydrogen atom without neighbors\n",
      "RDKit WARNING: [15:54:46] WARNING: not removing hydrogen atom without neighbors\n",
      "RDKit WARNING: [15:54:47] WARNING: not removing hydrogen atom without neighbors\n",
      "RDKit WARNING: [15:54:47] WARNING: not removing hydrogen atom without neighbors\n",
      "RDKit WARNING: [15:54:47] WARNING: not removing hydrogen atom without neighbors\n",
      "RDKit WARNING: [15:54:47] WARNING: not removing hydrogen atom without neighbors\n",
      "RDKit WARNING: [15:54:47] WARNING: not removing hydrogen atom without neighbors\n",
      "RDKit WARNING: [15:54:53] WARNING: not removing hydrogen atom without neighbors\n",
      "RDKit WARNING: [15:54:53] WARNING: not removing hydrogen atom without neighbors\n",
      "RDKit WARNING: [15:54:53] WARNING: not removing hydrogen atom without neighbors\n",
      "RDKit WARNING: [15:54:53] WARNING: not removing hydrogen atom without neighbors\n",
      "RDKit WARNING: [15:54:53] WARNING: not removing hydrogen atom without neighbors\n",
      "RDKit WARNING: [15:54:53] WARNING: not removing hydrogen atom without neighbors\n",
      "RDKit WARNING: [15:54:53] WARNING: not removing hydrogen atom without neighbors\n",
      "RDKit WARNING: [15:54:53] WARNING: not removing hydrogen atom without neighbors\n",
      "RDKit WARNING: [15:54:53] WARNING: not removing hydrogen atom without neighbors\n",
      "RDKit WARNING: [15:54:53] WARNING: not removing hydrogen atom without neighbors\n",
      "RDKit WARNING: [15:54:53] WARNING: not removing hydrogen atom without neighbors\n",
      "RDKit WARNING: [15:54:53] WARNING: not removing hydrogen atom without neighbors\n",
      "RDKit WARNING: [15:54:54] WARNING: not removing hydrogen atom without neighbors\n",
      "RDKit WARNING: [15:54:54] WARNING: not removing hydrogen atom without neighbors\n",
      "RDKit WARNING: [15:54:54] WARNING: not removing hydrogen atom without neighbors\n",
      "RDKit WARNING: [15:54:54] WARNING: not removing hydrogen atom without neighbors\n",
      "RDKit WARNING: [15:54:54] WARNING: not removing hydrogen atom without neighbors\n",
      "RDKit WARNING: [15:54:54] WARNING: not removing hydrogen atom without neighbors\n",
      "RDKit WARNING: [15:54:54] WARNING: not removing hydrogen atom without neighbors\n",
      "RDKit WARNING: [15:54:54] WARNING: not removing hydrogen atom without neighbors\n",
      "RDKit WARNING: [15:54:54] WARNING: not removing hydrogen atom without neighbors\n",
      "RDKit WARNING: [15:54:54] WARNING: not removing hydrogen atom without neighbors\n",
      "RDKit WARNING: [15:54:54] WARNING: not removing hydrogen atom without neighbors\n",
      "RDKit WARNING: [15:54:54] WARNING: not removing hydrogen atom without neighbors\n",
      "RDKit WARNING: [15:54:54] WARNING: not removing hydrogen atom without neighbors\n",
      "RDKit WARNING: [15:54:54] WARNING: not removing hydrogen atom without neighbors\n",
      "RDKit WARNING: [15:54:54] WARNING: not removing hydrogen atom without neighbors\n",
      "RDKit WARNING: [15:54:54] WARNING: not removing hydrogen atom without neighbors\n",
      "RDKit WARNING: [15:54:54] WARNING: not removing hydrogen atom without neighbors\n",
      "RDKit WARNING: [15:54:54] WARNING: not removing hydrogen atom without neighbors\n",
      "RDKit WARNING: [15:54:54] WARNING: not removing hydrogen atom without neighbors\n",
      "RDKit WARNING: [15:54:54] WARNING: not removing hydrogen atom without neighbors\n",
      "RDKit WARNING: [15:54:54] WARNING: not removing hydrogen atom without neighbors\n",
      "RDKit WARNING: [15:54:54] WARNING: not removing hydrogen atom without neighbors\n",
      "RDKit WARNING: [15:54:54] WARNING: not removing hydrogen atom without neighbors\n",
      "RDKit WARNING: [15:54:54] WARNING: not removing hydrogen atom without neighbors\n",
      "RDKit WARNING: [15:54:54] WARNING: not removing hydrogen atom without neighbors\n",
      "RDKit WARNING: [15:54:54] WARNING: not removing hydrogen atom without neighbors\n",
      "RDKit WARNING: [15:54:54] WARNING: not removing hydrogen atom without neighbors\n"
     ]
    },
    {
     "name": "stderr",
     "output_type": "stream",
     "text": [
      "RDKit WARNING: [15:54:54] WARNING: not removing hydrogen atom without neighbors\n",
      "RDKit WARNING: [15:54:54] WARNING: not removing hydrogen atom without neighbors\n",
      "RDKit WARNING: [15:54:54] WARNING: not removing hydrogen atom without neighbors\n",
      "RDKit WARNING: [15:54:54] WARNING: not removing hydrogen atom without neighbors\n",
      "RDKit WARNING: [15:54:54] WARNING: not removing hydrogen atom without neighbors\n",
      "RDKit WARNING: [15:54:54] WARNING: not removing hydrogen atom without neighbors\n",
      "RDKit WARNING: [15:54:54] WARNING: not removing hydrogen atom without neighbors\n",
      "RDKit WARNING: [15:54:54] WARNING: not removing hydrogen atom without neighbors\n",
      "RDKit WARNING: [15:54:54] WARNING: not removing hydrogen atom without neighbors\n",
      "RDKit WARNING: [15:54:54] WARNING: not removing hydrogen atom without neighbors\n",
      "RDKit WARNING: [15:54:54] WARNING: not removing hydrogen atom without neighbors\n",
      "RDKit WARNING: [15:54:54] WARNING: not removing hydrogen atom without neighbors\n",
      "RDKit WARNING: [15:54:54] WARNING: not removing hydrogen atom without neighbors\n",
      "RDKit WARNING: [15:54:54] WARNING: not removing hydrogen atom without neighbors\n",
      "RDKit WARNING: [15:54:55] WARNING: not removing hydrogen atom without neighbors\n",
      "RDKit WARNING: [15:54:55] WARNING: not removing hydrogen atom without neighbors\n",
      "RDKit WARNING: [15:54:55] WARNING: not removing hydrogen atom without neighbors\n",
      "RDKit WARNING: [15:54:55] WARNING: not removing hydrogen atom without neighbors\n",
      "RDKit WARNING: [15:54:55] WARNING: not removing hydrogen atom without neighbors\n",
      "RDKit WARNING: [15:54:55] WARNING: not removing hydrogen atom without neighbors\n",
      "RDKit WARNING: [15:54:55] WARNING: not removing hydrogen atom without neighbors\n",
      "RDKit WARNING: [15:54:55] WARNING: not removing hydrogen atom without neighbors\n",
      "RDKit WARNING: [15:54:55] WARNING: not removing hydrogen atom without neighbors\n",
      "RDKit WARNING: [15:54:56] WARNING: not removing hydrogen atom without neighbors\n",
      "RDKit WARNING: [15:54:56] WARNING: not removing hydrogen atom without neighbors\n",
      "RDKit WARNING: [15:54:56] WARNING: not removing hydrogen atom without neighbors\n"
     ]
    },
    {
     "name": "stdout",
     "output_type": "stream",
     "text": [
      "Lovric Overlap: 149/166\n"
     ]
    },
    {
     "name": "stderr",
     "output_type": "stream",
     "text": [
      "RDKit WARNING: [15:55:02] WARNING: not removing hydrogen atom without neighbors\n",
      "RDKit WARNING: [15:55:02] WARNING: not removing hydrogen atom without neighbors\n",
      "RDKit WARNING: [15:55:02] WARNING: not removing hydrogen atom without neighbors\n",
      "RDKit WARNING: [15:55:02] WARNING: not removing hydrogen atom without neighbors\n",
      "RDKit WARNING: [15:55:02] WARNING: not removing hydrogen atom without neighbors\n",
      "RDKit WARNING: [15:55:02] WARNING: not removing hydrogen atom without neighbors\n",
      "RDKit WARNING: [15:55:02] WARNING: not removing hydrogen atom without neighbors\n",
      "RDKit WARNING: [15:55:02] WARNING: not removing hydrogen atom without neighbors\n",
      "RDKit WARNING: [15:55:02] WARNING: not removing hydrogen atom without neighbors\n",
      "RDKit WARNING: [15:55:02] WARNING: not removing hydrogen atom without neighbors\n",
      "RDKit WARNING: [15:55:02] WARNING: not removing hydrogen atom without neighbors\n",
      "RDKit WARNING: [15:55:02] WARNING: not removing hydrogen atom without neighbors\n",
      "RDKit WARNING: [15:55:02] WARNING: not removing hydrogen atom without neighbors\n",
      "RDKit WARNING: [15:55:02] WARNING: not removing hydrogen atom without neighbors\n",
      "RDKit WARNING: [15:55:02] WARNING: not removing hydrogen atom without neighbors\n",
      "RDKit WARNING: [15:55:02] WARNING: not removing hydrogen atom without neighbors\n",
      "RDKit WARNING: [15:55:02] WARNING: not removing hydrogen atom without neighbors\n",
      "RDKit WARNING: [15:55:02] WARNING: not removing hydrogen atom without neighbors\n",
      "RDKit WARNING: [15:55:02] WARNING: not removing hydrogen atom without neighbors\n",
      "RDKit WARNING: [15:55:02] WARNING: not removing hydrogen atom without neighbors\n",
      "RDKit WARNING: [15:55:02] WARNING: not removing hydrogen atom without neighbors\n",
      "RDKit WARNING: [15:55:02] WARNING: not removing hydrogen atom without neighbors\n",
      "RDKit WARNING: [15:55:03] WARNING: not removing hydrogen atom without neighbors\n",
      "RDKit WARNING: [15:55:03] WARNING: not removing hydrogen atom without neighbors\n",
      "RDKit WARNING: [15:55:03] WARNING: not removing hydrogen atom without neighbors\n",
      "RDKit WARNING: [15:55:03] WARNING: not removing hydrogen atom without neighbors\n",
      "RDKit WARNING: [15:55:03] WARNING: not removing hydrogen atom without neighbors\n",
      "RDKit WARNING: [15:55:03] WARNING: not removing hydrogen atom without neighbors\n",
      "RDKit WARNING: [15:55:03] WARNING: not removing hydrogen atom without neighbors\n",
      "RDKit WARNING: [15:55:03] WARNING: not removing hydrogen atom without neighbors\n",
      "RDKit WARNING: [15:55:03] WARNING: not removing hydrogen atom without neighbors\n",
      "RDKit WARNING: [15:55:03] WARNING: not removing hydrogen atom without neighbors\n",
      "RDKit WARNING: [15:55:03] WARNING: not removing hydrogen atom without neighbors\n",
      "RDKit WARNING: [15:55:03] WARNING: not removing hydrogen atom without neighbors\n",
      "RDKit WARNING: [15:55:03] WARNING: not removing hydrogen atom without neighbors\n",
      "RDKit WARNING: [15:55:03] WARNING: not removing hydrogen atom without neighbors\n",
      "RDKit WARNING: [15:55:03] WARNING: not removing hydrogen atom without neighbors\n",
      "RDKit WARNING: [15:55:03] WARNING: not removing hydrogen atom without neighbors\n",
      "RDKit WARNING: [15:55:03] WARNING: not removing hydrogen atom without neighbors\n",
      "RDKit WARNING: [15:55:03] WARNING: not removing hydrogen atom without neighbors\n",
      "RDKit WARNING: [15:55:03] WARNING: not removing hydrogen atom without neighbors\n",
      "RDKit WARNING: [15:55:03] WARNING: not removing hydrogen atom without neighbors\n",
      "RDKit WARNING: [15:55:03] WARNING: not removing hydrogen atom without neighbors\n",
      "RDKit WARNING: [15:55:03] WARNING: not removing hydrogen atom without neighbors\n",
      "RDKit WARNING: [15:55:03] WARNING: not removing hydrogen atom without neighbors\n",
      "RDKit WARNING: [15:55:03] WARNING: not removing hydrogen atom without neighbors\n",
      "RDKit WARNING: [15:55:03] WARNING: not removing hydrogen atom without neighbors\n",
      "RDKit WARNING: [15:55:03] WARNING: not removing hydrogen atom without neighbors\n",
      "RDKit WARNING: [15:55:03] WARNING: not removing hydrogen atom without neighbors\n",
      "RDKit WARNING: [15:55:03] WARNING: not removing hydrogen atom without neighbors\n",
      "RDKit WARNING: [15:55:03] WARNING: not removing hydrogen atom without neighbors\n",
      "RDKit WARNING: [15:55:03] WARNING: not removing hydrogen atom without neighbors\n",
      "RDKit WARNING: [15:55:03] WARNING: not removing hydrogen atom without neighbors\n",
      "RDKit WARNING: [15:55:03] WARNING: not removing hydrogen atom without neighbors\n",
      "RDKit WARNING: [15:55:03] WARNING: not removing hydrogen atom without neighbors\n",
      "RDKit WARNING: [15:55:03] WARNING: not removing hydrogen atom without neighbors\n",
      "RDKit WARNING: [15:55:04] WARNING: not removing hydrogen atom without neighbors\n",
      "RDKit WARNING: [15:55:04] WARNING: not removing hydrogen atom without neighbors\n",
      "RDKit WARNING: [15:55:04] WARNING: not removing hydrogen atom without neighbors\n",
      "RDKit WARNING: [15:55:04] WARNING: not removing hydrogen atom without neighbors\n",
      "RDKit WARNING: [15:55:04] WARNING: not removing hydrogen atom without neighbors\n",
      "RDKit WARNING: [15:55:04] WARNING: not removing hydrogen atom without neighbors\n",
      "RDKit WARNING: [15:55:04] WARNING: not removing hydrogen atom without neighbors\n",
      "RDKit WARNING: [15:55:04] WARNING: not removing hydrogen atom without neighbors\n",
      "RDKit WARNING: [15:55:04] WARNING: not removing hydrogen atom without neighbors\n",
      "RDKit WARNING: [15:55:10] WARNING: not removing hydrogen atom without neighbors\n",
      "RDKit WARNING: [15:55:10] WARNING: not removing hydrogen atom without neighbors\n",
      "RDKit WARNING: [15:55:10] WARNING: not removing hydrogen atom without neighbors\n",
      "RDKit WARNING: [15:55:10] WARNING: not removing hydrogen atom without neighbors\n",
      "RDKit WARNING: [15:55:10] WARNING: not removing hydrogen atom without neighbors\n",
      "RDKit WARNING: [15:55:11] WARNING: not removing hydrogen atom without neighbors\n",
      "RDKit WARNING: [15:55:11] WARNING: not removing hydrogen atom without neighbors\n",
      "RDKit WARNING: [15:55:11] WARNING: not removing hydrogen atom without neighbors\n",
      "RDKit WARNING: [15:55:11] WARNING: not removing hydrogen atom without neighbors\n",
      "RDKit WARNING: [15:55:11] WARNING: not removing hydrogen atom without neighbors\n",
      "RDKit WARNING: [15:55:11] WARNING: not removing hydrogen atom without neighbors\n",
      "RDKit WARNING: [15:55:11] WARNING: not removing hydrogen atom without neighbors\n",
      "RDKit WARNING: [15:55:11] WARNING: not removing hydrogen atom without neighbors\n",
      "RDKit WARNING: [15:55:11] WARNING: not removing hydrogen atom without neighbors\n",
      "RDKit WARNING: [15:55:11] WARNING: not removing hydrogen atom without neighbors\n",
      "RDKit WARNING: [15:55:11] WARNING: not removing hydrogen atom without neighbors\n",
      "RDKit WARNING: [15:55:11] WARNING: not removing hydrogen atom without neighbors\n",
      "RDKit WARNING: [15:55:11] WARNING: not removing hydrogen atom without neighbors\n",
      "RDKit WARNING: [15:55:11] WARNING: not removing hydrogen atom without neighbors\n",
      "RDKit WARNING: [15:55:11] WARNING: not removing hydrogen atom without neighbors\n",
      "RDKit WARNING: [15:55:11] WARNING: not removing hydrogen atom without neighbors\n",
      "RDKit WARNING: [15:55:11] WARNING: not removing hydrogen atom without neighbors\n",
      "RDKit WARNING: [15:55:11] WARNING: not removing hydrogen atom without neighbors\n",
      "RDKit WARNING: [15:55:11] WARNING: not removing hydrogen atom without neighbors\n",
      "RDKit WARNING: [15:55:11] WARNING: not removing hydrogen atom without neighbors\n",
      "RDKit WARNING: [15:55:11] WARNING: not removing hydrogen atom without neighbors\n",
      "RDKit WARNING: [15:55:11] WARNING: not removing hydrogen atom without neighbors\n",
      "RDKit WARNING: [15:55:11] WARNING: not removing hydrogen atom without neighbors\n",
      "RDKit WARNING: [15:55:11] WARNING: not removing hydrogen atom without neighbors\n",
      "RDKit WARNING: [15:55:11] WARNING: not removing hydrogen atom without neighbors\n",
      "RDKit WARNING: [15:55:11] WARNING: not removing hydrogen atom without neighbors\n",
      "RDKit WARNING: [15:55:11] WARNING: not removing hydrogen atom without neighbors\n",
      "RDKit WARNING: [15:55:11] WARNING: not removing hydrogen atom without neighbors\n",
      "RDKit WARNING: [15:55:11] WARNING: not removing hydrogen atom without neighbors\n",
      "RDKit WARNING: [15:55:11] WARNING: not removing hydrogen atom without neighbors\n",
      "RDKit WARNING: [15:55:11] WARNING: not removing hydrogen atom without neighbors\n",
      "RDKit WARNING: [15:55:11] WARNING: not removing hydrogen atom without neighbors\n",
      "RDKit WARNING: [15:55:11] WARNING: not removing hydrogen atom without neighbors\n",
      "RDKit WARNING: [15:55:11] WARNING: not removing hydrogen atom without neighbors\n"
     ]
    },
    {
     "name": "stderr",
     "output_type": "stream",
     "text": [
      "RDKit WARNING: [15:55:11] WARNING: not removing hydrogen atom without neighbors\n",
      "RDKit WARNING: [15:55:11] WARNING: not removing hydrogen atom without neighbors\n",
      "RDKit WARNING: [15:55:11] WARNING: not removing hydrogen atom without neighbors\n",
      "RDKit WARNING: [15:55:12] WARNING: not removing hydrogen atom without neighbors\n",
      "RDKit WARNING: [15:55:12] WARNING: not removing hydrogen atom without neighbors\n",
      "RDKit WARNING: [15:55:12] WARNING: not removing hydrogen atom without neighbors\n",
      "RDKit WARNING: [15:55:12] WARNING: not removing hydrogen atom without neighbors\n",
      "RDKit WARNING: [15:55:12] WARNING: not removing hydrogen atom without neighbors\n",
      "RDKit WARNING: [15:55:12] WARNING: not removing hydrogen atom without neighbors\n",
      "RDKit WARNING: [15:55:12] WARNING: not removing hydrogen atom without neighbors\n",
      "RDKit WARNING: [15:55:12] WARNING: not removing hydrogen atom without neighbors\n",
      "RDKit WARNING: [15:55:12] WARNING: not removing hydrogen atom without neighbors\n",
      "RDKit WARNING: [15:55:12] WARNING: not removing hydrogen atom without neighbors\n",
      "RDKit WARNING: [15:55:12] WARNING: not removing hydrogen atom without neighbors\n",
      "RDKit WARNING: [15:55:12] WARNING: not removing hydrogen atom without neighbors\n",
      "RDKit WARNING: [15:55:12] WARNING: not removing hydrogen atom without neighbors\n",
      "RDKit WARNING: [15:55:12] WARNING: not removing hydrogen atom without neighbors\n",
      "RDKit WARNING: [15:55:12] WARNING: not removing hydrogen atom without neighbors\n",
      "RDKit WARNING: [15:55:12] WARNING: not removing hydrogen atom without neighbors\n",
      "RDKit WARNING: [15:55:12] WARNING: not removing hydrogen atom without neighbors\n",
      "RDKit WARNING: [15:55:12] WARNING: not removing hydrogen atom without neighbors\n",
      "RDKit WARNING: [15:55:13] WARNING: not removing hydrogen atom without neighbors\n",
      "RDKit WARNING: [15:55:13] WARNING: not removing hydrogen atom without neighbors\n",
      "RDKit WARNING: [15:55:13] WARNING: not removing hydrogen atom without neighbors\n",
      "RDKit WARNING: [15:55:13] WARNING: not removing hydrogen atom without neighbors\n",
      "RDKit WARNING: [15:55:13] WARNING: not removing hydrogen atom without neighbors\n"
     ]
    },
    {
     "name": "stdout",
     "output_type": "stream",
     "text": [
      "Lovric Overlap: 148/166\n"
     ]
    },
    {
     "name": "stderr",
     "output_type": "stream",
     "text": [
      "RDKit WARNING: [15:55:19] WARNING: not removing hydrogen atom without neighbors\n",
      "RDKit WARNING: [15:55:19] WARNING: not removing hydrogen atom without neighbors\n",
      "RDKit WARNING: [15:55:19] WARNING: not removing hydrogen atom without neighbors\n",
      "RDKit WARNING: [15:55:19] WARNING: not removing hydrogen atom without neighbors\n",
      "RDKit WARNING: [15:55:19] WARNING: not removing hydrogen atom without neighbors\n",
      "RDKit WARNING: [15:55:19] WARNING: not removing hydrogen atom without neighbors\n",
      "RDKit WARNING: [15:55:19] WARNING: not removing hydrogen atom without neighbors\n",
      "RDKit WARNING: [15:55:19] WARNING: not removing hydrogen atom without neighbors\n",
      "RDKit WARNING: [15:55:19] WARNING: not removing hydrogen atom without neighbors\n",
      "RDKit WARNING: [15:55:19] WARNING: not removing hydrogen atom without neighbors\n",
      "RDKit WARNING: [15:55:19] WARNING: not removing hydrogen atom without neighbors\n",
      "RDKit WARNING: [15:55:19] WARNING: not removing hydrogen atom without neighbors\n",
      "RDKit WARNING: [15:55:20] WARNING: not removing hydrogen atom without neighbors\n",
      "RDKit WARNING: [15:55:20] WARNING: not removing hydrogen atom without neighbors\n",
      "RDKit WARNING: [15:55:20] WARNING: not removing hydrogen atom without neighbors\n",
      "RDKit WARNING: [15:55:20] WARNING: not removing hydrogen atom without neighbors\n",
      "RDKit WARNING: [15:55:20] WARNING: not removing hydrogen atom without neighbors\n",
      "RDKit WARNING: [15:55:20] WARNING: not removing hydrogen atom without neighbors\n",
      "RDKit WARNING: [15:55:20] WARNING: not removing hydrogen atom without neighbors\n",
      "RDKit WARNING: [15:55:20] WARNING: not removing hydrogen atom without neighbors\n",
      "RDKit WARNING: [15:55:20] WARNING: not removing hydrogen atom without neighbors\n",
      "RDKit WARNING: [15:55:20] WARNING: not removing hydrogen atom without neighbors\n",
      "RDKit WARNING: [15:55:20] WARNING: not removing hydrogen atom without neighbors\n",
      "RDKit WARNING: [15:55:20] WARNING: not removing hydrogen atom without neighbors\n",
      "RDKit WARNING: [15:55:20] WARNING: not removing hydrogen atom without neighbors\n",
      "RDKit WARNING: [15:55:20] WARNING: not removing hydrogen atom without neighbors\n",
      "RDKit WARNING: [15:55:20] WARNING: not removing hydrogen atom without neighbors\n",
      "RDKit WARNING: [15:55:20] WARNING: not removing hydrogen atom without neighbors\n",
      "RDKit WARNING: [15:55:20] WARNING: not removing hydrogen atom without neighbors\n",
      "RDKit WARNING: [15:55:20] WARNING: not removing hydrogen atom without neighbors\n",
      "RDKit WARNING: [15:55:20] WARNING: not removing hydrogen atom without neighbors\n",
      "RDKit WARNING: [15:55:20] WARNING: not removing hydrogen atom without neighbors\n",
      "RDKit WARNING: [15:55:20] WARNING: not removing hydrogen atom without neighbors\n",
      "RDKit WARNING: [15:55:20] WARNING: not removing hydrogen atom without neighbors\n",
      "RDKit WARNING: [15:55:20] WARNING: not removing hydrogen atom without neighbors\n",
      "RDKit WARNING: [15:55:20] WARNING: not removing hydrogen atom without neighbors\n",
      "RDKit WARNING: [15:55:20] WARNING: not removing hydrogen atom without neighbors\n",
      "RDKit WARNING: [15:55:20] WARNING: not removing hydrogen atom without neighbors\n",
      "RDKit WARNING: [15:55:20] WARNING: not removing hydrogen atom without neighbors\n",
      "RDKit WARNING: [15:55:20] WARNING: not removing hydrogen atom without neighbors\n",
      "RDKit WARNING: [15:55:20] WARNING: not removing hydrogen atom without neighbors\n",
      "RDKit WARNING: [15:55:20] WARNING: not removing hydrogen atom without neighbors\n",
      "RDKit WARNING: [15:55:20] WARNING: not removing hydrogen atom without neighbors\n",
      "RDKit WARNING: [15:55:20] WARNING: not removing hydrogen atom without neighbors\n",
      "RDKit WARNING: [15:55:20] WARNING: not removing hydrogen atom without neighbors\n",
      "RDKit WARNING: [15:55:20] WARNING: not removing hydrogen atom without neighbors\n",
      "RDKit WARNING: [15:55:20] WARNING: not removing hydrogen atom without neighbors\n",
      "RDKit WARNING: [15:55:20] WARNING: not removing hydrogen atom without neighbors\n",
      "RDKit WARNING: [15:55:20] WARNING: not removing hydrogen atom without neighbors\n",
      "RDKit WARNING: [15:55:20] WARNING: not removing hydrogen atom without neighbors\n",
      "RDKit WARNING: [15:55:20] WARNING: not removing hydrogen atom without neighbors\n",
      "RDKit WARNING: [15:55:20] WARNING: not removing hydrogen atom without neighbors\n",
      "RDKit WARNING: [15:55:20] WARNING: not removing hydrogen atom without neighbors\n",
      "RDKit WARNING: [15:55:21] WARNING: not removing hydrogen atom without neighbors\n",
      "RDKit WARNING: [15:55:21] WARNING: not removing hydrogen atom without neighbors\n",
      "RDKit WARNING: [15:55:21] WARNING: not removing hydrogen atom without neighbors\n",
      "RDKit WARNING: [15:55:21] WARNING: not removing hydrogen atom without neighbors\n",
      "RDKit WARNING: [15:55:21] WARNING: not removing hydrogen atom without neighbors\n",
      "RDKit WARNING: [15:55:21] WARNING: not removing hydrogen atom without neighbors\n",
      "RDKit WARNING: [15:55:21] WARNING: not removing hydrogen atom without neighbors\n",
      "RDKit WARNING: [15:55:21] WARNING: not removing hydrogen atom without neighbors\n",
      "RDKit WARNING: [15:55:21] WARNING: not removing hydrogen atom without neighbors\n",
      "RDKit WARNING: [15:55:22] WARNING: not removing hydrogen atom without neighbors\n",
      "RDKit WARNING: [15:55:22] WARNING: not removing hydrogen atom without neighbors\n",
      "RDKit WARNING: [15:55:22] WARNING: not removing hydrogen atom without neighbors\n",
      "RDKit WARNING: [15:55:28] WARNING: not removing hydrogen atom without neighbors\n",
      "RDKit WARNING: [15:55:28] WARNING: not removing hydrogen atom without neighbors\n",
      "RDKit WARNING: [15:55:28] WARNING: not removing hydrogen atom without neighbors\n",
      "RDKit WARNING: [15:55:28] WARNING: not removing hydrogen atom without neighbors\n",
      "RDKit WARNING: [15:55:28] WARNING: not removing hydrogen atom without neighbors\n",
      "RDKit WARNING: [15:55:28] WARNING: not removing hydrogen atom without neighbors\n",
      "RDKit WARNING: [15:55:28] WARNING: not removing hydrogen atom without neighbors\n",
      "RDKit WARNING: [15:55:28] WARNING: not removing hydrogen atom without neighbors\n",
      "RDKit WARNING: [15:55:28] WARNING: not removing hydrogen atom without neighbors\n",
      "RDKit WARNING: [15:55:28] WARNING: not removing hydrogen atom without neighbors\n",
      "RDKit WARNING: [15:55:28] WARNING: not removing hydrogen atom without neighbors\n",
      "RDKit WARNING: [15:55:28] WARNING: not removing hydrogen atom without neighbors\n",
      "RDKit WARNING: [15:55:28] WARNING: not removing hydrogen atom without neighbors\n",
      "RDKit WARNING: [15:55:28] WARNING: not removing hydrogen atom without neighbors\n",
      "RDKit WARNING: [15:55:28] WARNING: not removing hydrogen atom without neighbors\n",
      "RDKit WARNING: [15:55:28] WARNING: not removing hydrogen atom without neighbors\n",
      "RDKit WARNING: [15:55:28] WARNING: not removing hydrogen atom without neighbors\n",
      "RDKit WARNING: [15:55:29] WARNING: not removing hydrogen atom without neighbors\n",
      "RDKit WARNING: [15:55:29] WARNING: not removing hydrogen atom without neighbors\n",
      "RDKit WARNING: [15:55:29] WARNING: not removing hydrogen atom without neighbors\n",
      "RDKit WARNING: [15:55:29] WARNING: not removing hydrogen atom without neighbors\n",
      "RDKit WARNING: [15:55:29] WARNING: not removing hydrogen atom without neighbors\n",
      "RDKit WARNING: [15:55:29] WARNING: not removing hydrogen atom without neighbors\n",
      "RDKit WARNING: [15:55:29] WARNING: not removing hydrogen atom without neighbors\n",
      "RDKit WARNING: [15:55:29] WARNING: not removing hydrogen atom without neighbors\n",
      "RDKit WARNING: [15:55:29] WARNING: not removing hydrogen atom without neighbors\n",
      "RDKit WARNING: [15:55:29] WARNING: not removing hydrogen atom without neighbors\n",
      "RDKit WARNING: [15:55:29] WARNING: not removing hydrogen atom without neighbors\n",
      "RDKit WARNING: [15:55:29] WARNING: not removing hydrogen atom without neighbors\n",
      "RDKit WARNING: [15:55:29] WARNING: not removing hydrogen atom without neighbors\n",
      "RDKit WARNING: [15:55:29] WARNING: not removing hydrogen atom without neighbors\n",
      "RDKit WARNING: [15:55:29] WARNING: not removing hydrogen atom without neighbors\n",
      "RDKit WARNING: [15:55:29] WARNING: not removing hydrogen atom without neighbors\n",
      "RDKit WARNING: [15:55:29] WARNING: not removing hydrogen atom without neighbors\n",
      "RDKit WARNING: [15:55:29] WARNING: not removing hydrogen atom without neighbors\n",
      "RDKit WARNING: [15:55:29] WARNING: not removing hydrogen atom without neighbors\n",
      "RDKit WARNING: [15:55:29] WARNING: not removing hydrogen atom without neighbors\n",
      "RDKit WARNING: [15:55:29] WARNING: not removing hydrogen atom without neighbors\n",
      "RDKit WARNING: [15:55:29] WARNING: not removing hydrogen atom without neighbors\n"
     ]
    },
    {
     "name": "stderr",
     "output_type": "stream",
     "text": [
      "RDKit WARNING: [15:55:29] WARNING: not removing hydrogen atom without neighbors\n",
      "RDKit WARNING: [15:55:29] WARNING: not removing hydrogen atom without neighbors\n",
      "RDKit WARNING: [15:55:29] WARNING: not removing hydrogen atom without neighbors\n",
      "RDKit WARNING: [15:55:29] WARNING: not removing hydrogen atom without neighbors\n",
      "RDKit WARNING: [15:55:29] WARNING: not removing hydrogen atom without neighbors\n",
      "RDKit WARNING: [15:55:29] WARNING: not removing hydrogen atom without neighbors\n",
      "RDKit WARNING: [15:55:29] WARNING: not removing hydrogen atom without neighbors\n",
      "RDKit WARNING: [15:55:29] WARNING: not removing hydrogen atom without neighbors\n",
      "RDKit WARNING: [15:55:29] WARNING: not removing hydrogen atom without neighbors\n",
      "RDKit WARNING: [15:55:29] WARNING: not removing hydrogen atom without neighbors\n",
      "RDKit WARNING: [15:55:29] WARNING: not removing hydrogen atom without neighbors\n",
      "RDKit WARNING: [15:55:29] WARNING: not removing hydrogen atom without neighbors\n",
      "RDKit WARNING: [15:55:29] WARNING: not removing hydrogen atom without neighbors\n",
      "RDKit WARNING: [15:55:29] WARNING: not removing hydrogen atom without neighbors\n",
      "RDKit WARNING: [15:55:30] WARNING: not removing hydrogen atom without neighbors\n",
      "RDKit WARNING: [15:55:30] WARNING: not removing hydrogen atom without neighbors\n",
      "RDKit WARNING: [15:55:30] WARNING: not removing hydrogen atom without neighbors\n",
      "RDKit WARNING: [15:55:30] WARNING: not removing hydrogen atom without neighbors\n",
      "RDKit WARNING: [15:55:30] WARNING: not removing hydrogen atom without neighbors\n",
      "RDKit WARNING: [15:55:30] WARNING: not removing hydrogen atom without neighbors\n",
      "RDKit WARNING: [15:55:30] WARNING: not removing hydrogen atom without neighbors\n",
      "RDKit WARNING: [15:55:30] WARNING: not removing hydrogen atom without neighbors\n",
      "RDKit WARNING: [15:55:30] WARNING: not removing hydrogen atom without neighbors\n",
      "RDKit WARNING: [15:55:30] WARNING: not removing hydrogen atom without neighbors\n",
      "RDKit WARNING: [15:55:31] WARNING: not removing hydrogen atom without neighbors\n",
      "RDKit WARNING: [15:55:31] WARNING: not removing hydrogen atom without neighbors\n"
     ]
    },
    {
     "name": "stdout",
     "output_type": "stream",
     "text": [
      "Lovric Overlap: 156/166\n"
     ]
    },
    {
     "name": "stderr",
     "output_type": "stream",
     "text": [
      "RDKit WARNING: [15:55:37] WARNING: not removing hydrogen atom without neighbors\n",
      "RDKit WARNING: [15:55:37] WARNING: not removing hydrogen atom without neighbors\n",
      "RDKit WARNING: [15:55:37] WARNING: not removing hydrogen atom without neighbors\n",
      "RDKit WARNING: [15:55:37] WARNING: not removing hydrogen atom without neighbors\n",
      "RDKit WARNING: [15:55:37] WARNING: not removing hydrogen atom without neighbors\n",
      "RDKit WARNING: [15:55:37] WARNING: not removing hydrogen atom without neighbors\n",
      "RDKit WARNING: [15:55:37] WARNING: not removing hydrogen atom without neighbors\n",
      "RDKit WARNING: [15:55:37] WARNING: not removing hydrogen atom without neighbors\n",
      "RDKit WARNING: [15:55:37] WARNING: not removing hydrogen atom without neighbors\n",
      "RDKit WARNING: [15:55:37] WARNING: not removing hydrogen atom without neighbors\n",
      "RDKit WARNING: [15:55:37] WARNING: not removing hydrogen atom without neighbors\n",
      "RDKit WARNING: [15:55:37] WARNING: not removing hydrogen atom without neighbors\n",
      "RDKit WARNING: [15:55:37] WARNING: not removing hydrogen atom without neighbors\n",
      "RDKit WARNING: [15:55:37] WARNING: not removing hydrogen atom without neighbors\n",
      "RDKit WARNING: [15:55:37] WARNING: not removing hydrogen atom without neighbors\n",
      "RDKit WARNING: [15:55:37] WARNING: not removing hydrogen atom without neighbors\n",
      "RDKit WARNING: [15:55:37] WARNING: not removing hydrogen atom without neighbors\n",
      "RDKit WARNING: [15:55:37] WARNING: not removing hydrogen atom without neighbors\n",
      "RDKit WARNING: [15:55:37] WARNING: not removing hydrogen atom without neighbors\n",
      "RDKit WARNING: [15:55:37] WARNING: not removing hydrogen atom without neighbors\n",
      "RDKit WARNING: [15:55:38] WARNING: not removing hydrogen atom without neighbors\n",
      "RDKit WARNING: [15:55:38] WARNING: not removing hydrogen atom without neighbors\n",
      "RDKit WARNING: [15:55:38] WARNING: not removing hydrogen atom without neighbors\n",
      "RDKit WARNING: [15:55:38] WARNING: not removing hydrogen atom without neighbors\n",
      "RDKit WARNING: [15:55:38] WARNING: not removing hydrogen atom without neighbors\n",
      "RDKit WARNING: [15:55:38] WARNING: not removing hydrogen atom without neighbors\n",
      "RDKit WARNING: [15:55:38] WARNING: not removing hydrogen atom without neighbors\n",
      "RDKit WARNING: [15:55:38] WARNING: not removing hydrogen atom without neighbors\n",
      "RDKit WARNING: [15:55:38] WARNING: not removing hydrogen atom without neighbors\n",
      "RDKit WARNING: [15:55:38] WARNING: not removing hydrogen atom without neighbors\n",
      "RDKit WARNING: [15:55:38] WARNING: not removing hydrogen atom without neighbors\n",
      "RDKit WARNING: [15:55:38] WARNING: not removing hydrogen atom without neighbors\n",
      "RDKit WARNING: [15:55:38] WARNING: not removing hydrogen atom without neighbors\n",
      "RDKit WARNING: [15:55:38] WARNING: not removing hydrogen atom without neighbors\n",
      "RDKit WARNING: [15:55:38] WARNING: not removing hydrogen atom without neighbors\n",
      "RDKit WARNING: [15:55:38] WARNING: not removing hydrogen atom without neighbors\n",
      "RDKit WARNING: [15:55:38] WARNING: not removing hydrogen atom without neighbors\n",
      "RDKit WARNING: [15:55:38] WARNING: not removing hydrogen atom without neighbors\n",
      "RDKit WARNING: [15:55:38] WARNING: not removing hydrogen atom without neighbors\n",
      "RDKit WARNING: [15:55:38] WARNING: not removing hydrogen atom without neighbors\n",
      "RDKit WARNING: [15:55:38] WARNING: not removing hydrogen atom without neighbors\n",
      "RDKit WARNING: [15:55:38] WARNING: not removing hydrogen atom without neighbors\n",
      "RDKit WARNING: [15:55:38] WARNING: not removing hydrogen atom without neighbors\n",
      "RDKit WARNING: [15:55:38] WARNING: not removing hydrogen atom without neighbors\n",
      "RDKit WARNING: [15:55:38] WARNING: not removing hydrogen atom without neighbors\n",
      "RDKit WARNING: [15:55:38] WARNING: not removing hydrogen atom without neighbors\n",
      "RDKit WARNING: [15:55:38] WARNING: not removing hydrogen atom without neighbors\n",
      "RDKit WARNING: [15:55:38] WARNING: not removing hydrogen atom without neighbors\n",
      "RDKit WARNING: [15:55:38] WARNING: not removing hydrogen atom without neighbors\n",
      "RDKit WARNING: [15:55:38] WARNING: not removing hydrogen atom without neighbors\n",
      "RDKit WARNING: [15:55:38] WARNING: not removing hydrogen atom without neighbors\n",
      "RDKit WARNING: [15:55:38] WARNING: not removing hydrogen atom without neighbors\n",
      "RDKit WARNING: [15:55:38] WARNING: not removing hydrogen atom without neighbors\n",
      "RDKit WARNING: [15:55:39] WARNING: not removing hydrogen atom without neighbors\n",
      "RDKit WARNING: [15:55:39] WARNING: not removing hydrogen atom without neighbors\n",
      "RDKit WARNING: [15:55:39] WARNING: not removing hydrogen atom without neighbors\n",
      "RDKit WARNING: [15:55:39] WARNING: not removing hydrogen atom without neighbors\n",
      "RDKit WARNING: [15:55:39] WARNING: not removing hydrogen atom without neighbors\n",
      "RDKit WARNING: [15:55:39] WARNING: not removing hydrogen atom without neighbors\n",
      "RDKit WARNING: [15:55:39] WARNING: not removing hydrogen atom without neighbors\n",
      "RDKit WARNING: [15:55:39] WARNING: not removing hydrogen atom without neighbors\n",
      "RDKit WARNING: [15:55:39] WARNING: not removing hydrogen atom without neighbors\n",
      "RDKit WARNING: [15:55:39] WARNING: not removing hydrogen atom without neighbors\n",
      "RDKit WARNING: [15:55:40] WARNING: not removing hydrogen atom without neighbors\n",
      "RDKit WARNING: [15:55:40] WARNING: not removing hydrogen atom without neighbors\n",
      "RDKit WARNING: [15:55:46] WARNING: not removing hydrogen atom without neighbors\n",
      "RDKit WARNING: [15:55:46] WARNING: not removing hydrogen atom without neighbors\n",
      "RDKit WARNING: [15:55:46] WARNING: not removing hydrogen atom without neighbors\n",
      "RDKit WARNING: [15:55:46] WARNING: not removing hydrogen atom without neighbors\n",
      "RDKit WARNING: [15:55:46] WARNING: not removing hydrogen atom without neighbors\n",
      "RDKit WARNING: [15:55:46] WARNING: not removing hydrogen atom without neighbors\n",
      "RDKit WARNING: [15:55:46] WARNING: not removing hydrogen atom without neighbors\n",
      "RDKit WARNING: [15:55:46] WARNING: not removing hydrogen atom without neighbors\n",
      "RDKit WARNING: [15:55:46] WARNING: not removing hydrogen atom without neighbors\n",
      "RDKit WARNING: [15:55:46] WARNING: not removing hydrogen atom without neighbors\n",
      "RDKit WARNING: [15:55:46] WARNING: not removing hydrogen atom without neighbors\n",
      "RDKit WARNING: [15:55:46] WARNING: not removing hydrogen atom without neighbors\n",
      "RDKit WARNING: [15:55:46] WARNING: not removing hydrogen atom without neighbors\n",
      "RDKit WARNING: [15:55:46] WARNING: not removing hydrogen atom without neighbors\n",
      "RDKit WARNING: [15:55:46] WARNING: not removing hydrogen atom without neighbors\n",
      "RDKit WARNING: [15:55:46] WARNING: not removing hydrogen atom without neighbors\n",
      "RDKit WARNING: [15:55:46] WARNING: not removing hydrogen atom without neighbors\n",
      "RDKit WARNING: [15:55:46] WARNING: not removing hydrogen atom without neighbors\n",
      "RDKit WARNING: [15:55:46] WARNING: not removing hydrogen atom without neighbors\n",
      "RDKit WARNING: [15:55:46] WARNING: not removing hydrogen atom without neighbors\n",
      "RDKit WARNING: [15:55:46] WARNING: not removing hydrogen atom without neighbors\n",
      "RDKit WARNING: [15:55:47] WARNING: not removing hydrogen atom without neighbors\n",
      "RDKit WARNING: [15:55:47] WARNING: not removing hydrogen atom without neighbors\n",
      "RDKit WARNING: [15:55:47] WARNING: not removing hydrogen atom without neighbors\n",
      "RDKit WARNING: [15:55:47] WARNING: not removing hydrogen atom without neighbors\n",
      "RDKit WARNING: [15:55:47] WARNING: not removing hydrogen atom without neighbors\n",
      "RDKit WARNING: [15:55:47] WARNING: not removing hydrogen atom without neighbors\n",
      "RDKit WARNING: [15:55:47] WARNING: not removing hydrogen atom without neighbors\n",
      "RDKit WARNING: [15:55:47] WARNING: not removing hydrogen atom without neighbors\n",
      "RDKit WARNING: [15:55:47] WARNING: not removing hydrogen atom without neighbors\n",
      "RDKit WARNING: [15:55:47] WARNING: not removing hydrogen atom without neighbors\n",
      "RDKit WARNING: [15:55:47] WARNING: not removing hydrogen atom without neighbors\n",
      "RDKit WARNING: [15:55:47] WARNING: not removing hydrogen atom without neighbors\n",
      "RDKit WARNING: [15:55:47] WARNING: not removing hydrogen atom without neighbors\n",
      "RDKit WARNING: [15:55:47] WARNING: not removing hydrogen atom without neighbors\n",
      "RDKit WARNING: [15:55:47] WARNING: not removing hydrogen atom without neighbors\n",
      "RDKit WARNING: [15:55:47] WARNING: not removing hydrogen atom without neighbors\n",
      "RDKit WARNING: [15:55:47] WARNING: not removing hydrogen atom without neighbors\n",
      "RDKit WARNING: [15:55:47] WARNING: not removing hydrogen atom without neighbors\n"
     ]
    },
    {
     "name": "stderr",
     "output_type": "stream",
     "text": [
      "RDKit WARNING: [15:55:47] WARNING: not removing hydrogen atom without neighbors\n",
      "RDKit WARNING: [15:55:47] WARNING: not removing hydrogen atom without neighbors\n",
      "RDKit WARNING: [15:55:47] WARNING: not removing hydrogen atom without neighbors\n",
      "RDKit WARNING: [15:55:47] WARNING: not removing hydrogen atom without neighbors\n",
      "RDKit WARNING: [15:55:47] WARNING: not removing hydrogen atom without neighbors\n",
      "RDKit WARNING: [15:55:47] WARNING: not removing hydrogen atom without neighbors\n",
      "RDKit WARNING: [15:55:47] WARNING: not removing hydrogen atom without neighbors\n",
      "RDKit WARNING: [15:55:47] WARNING: not removing hydrogen atom without neighbors\n",
      "RDKit WARNING: [15:55:47] WARNING: not removing hydrogen atom without neighbors\n",
      "RDKit WARNING: [15:55:47] WARNING: not removing hydrogen atom without neighbors\n",
      "RDKit WARNING: [15:55:47] WARNING: not removing hydrogen atom without neighbors\n",
      "RDKit WARNING: [15:55:47] WARNING: not removing hydrogen atom without neighbors\n",
      "RDKit WARNING: [15:55:47] WARNING: not removing hydrogen atom without neighbors\n",
      "RDKit WARNING: [15:55:47] WARNING: not removing hydrogen atom without neighbors\n",
      "RDKit WARNING: [15:55:47] WARNING: not removing hydrogen atom without neighbors\n",
      "RDKit WARNING: [15:55:47] WARNING: not removing hydrogen atom without neighbors\n",
      "RDKit WARNING: [15:55:48] WARNING: not removing hydrogen atom without neighbors\n",
      "RDKit WARNING: [15:55:48] WARNING: not removing hydrogen atom without neighbors\n",
      "RDKit WARNING: [15:55:48] WARNING: not removing hydrogen atom without neighbors\n",
      "RDKit WARNING: [15:55:48] WARNING: not removing hydrogen atom without neighbors\n",
      "RDKit WARNING: [15:55:48] WARNING: not removing hydrogen atom without neighbors\n",
      "RDKit WARNING: [15:55:48] WARNING: not removing hydrogen atom without neighbors\n",
      "RDKit WARNING: [15:55:48] WARNING: not removing hydrogen atom without neighbors\n",
      "RDKit WARNING: [15:55:48] WARNING: not removing hydrogen atom without neighbors\n",
      "RDKit WARNING: [15:55:49] WARNING: not removing hydrogen atom without neighbors\n",
      "RDKit WARNING: [15:55:49] WARNING: not removing hydrogen atom without neighbors\n"
     ]
    },
    {
     "name": "stdout",
     "output_type": "stream",
     "text": [
      "Lovric Overlap: 149/166\n",
      "151.4\n"
     ]
    }
   ],
   "source": [
    "#louvric2020 overlap\n",
    "todo=glob.glob('data/louvric2020/louvric2020_*_test.csv')\n",
    "overlaps=[]\n",
    "for fname in todo:\n",
    "    lov_smis=pd.read_csv(fname)['smiles'].tolist()\n",
    "    overlaps.append(count_overlap(lov_smis))\n",
    "    print(f'Lovric Overlap: {count_overlap(lov_smis)}/{len(lov_smis)}')\n",
    "print(np.mean(overlaps))"
   ]
  },
  {
   "cell_type": "code",
   "execution_count": 45,
   "metadata": {
    "scrolled": true
   },
   "outputs": [
    {
     "name": "stderr",
     "output_type": "stream",
     "text": [
      "RDKit WARNING: [15:55:54] WARNING: not removing hydrogen atom without neighbors\n",
      "RDKit WARNING: [15:55:54] WARNING: not removing hydrogen atom without neighbors\n",
      "RDKit WARNING: [15:55:54] WARNING: not removing hydrogen atom without neighbors\n",
      "RDKit WARNING: [15:55:55] WARNING: not removing hydrogen atom without neighbors\n",
      "RDKit WARNING: [15:55:55] WARNING: not removing hydrogen atom without neighbors\n",
      "RDKit WARNING: [15:55:55] WARNING: not removing hydrogen atom without neighbors\n",
      "RDKit WARNING: [15:55:55] WARNING: not removing hydrogen atom without neighbors\n",
      "RDKit WARNING: [15:55:55] WARNING: not removing hydrogen atom without neighbors\n",
      "RDKit WARNING: [15:55:55] WARNING: not removing hydrogen atom without neighbors\n",
      "RDKit WARNING: [15:55:55] WARNING: not removing hydrogen atom without neighbors\n",
      "RDKit WARNING: [15:55:55] WARNING: not removing hydrogen atom without neighbors\n",
      "RDKit WARNING: [15:55:55] WARNING: not removing hydrogen atom without neighbors\n",
      "RDKit WARNING: [15:55:55] WARNING: not removing hydrogen atom without neighbors\n",
      "RDKit WARNING: [15:55:55] WARNING: not removing hydrogen atom without neighbors\n",
      "RDKit WARNING: [15:55:55] WARNING: not removing hydrogen atom without neighbors\n",
      "RDKit WARNING: [15:55:55] WARNING: not removing hydrogen atom without neighbors\n",
      "RDKit WARNING: [15:55:55] WARNING: not removing hydrogen atom without neighbors\n",
      "RDKit WARNING: [15:55:55] WARNING: not removing hydrogen atom without neighbors\n",
      "RDKit WARNING: [15:55:55] WARNING: not removing hydrogen atom without neighbors\n",
      "RDKit WARNING: [15:55:55] WARNING: not removing hydrogen atom without neighbors\n",
      "RDKit WARNING: [15:55:55] WARNING: not removing hydrogen atom without neighbors\n",
      "RDKit WARNING: [15:55:55] WARNING: not removing hydrogen atom without neighbors\n",
      "RDKit WARNING: [15:55:55] WARNING: not removing hydrogen atom without neighbors\n",
      "RDKit WARNING: [15:55:55] WARNING: not removing hydrogen atom without neighbors\n",
      "RDKit WARNING: [15:55:55] WARNING: not removing hydrogen atom without neighbors\n",
      "RDKit WARNING: [15:55:55] WARNING: not removing hydrogen atom without neighbors\n",
      "RDKit WARNING: [15:55:55] WARNING: not removing hydrogen atom without neighbors\n",
      "RDKit WARNING: [15:55:55] WARNING: not removing hydrogen atom without neighbors\n",
      "RDKit WARNING: [15:55:55] WARNING: not removing hydrogen atom without neighbors\n",
      "RDKit WARNING: [15:55:55] WARNING: not removing hydrogen atom without neighbors\n",
      "RDKit WARNING: [15:55:55] WARNING: not removing hydrogen atom without neighbors\n",
      "RDKit WARNING: [15:55:55] WARNING: not removing hydrogen atom without neighbors\n",
      "RDKit WARNING: [15:55:55] WARNING: not removing hydrogen atom without neighbors\n",
      "RDKit WARNING: [15:55:55] WARNING: not removing hydrogen atom without neighbors\n",
      "RDKit WARNING: [15:55:55] WARNING: not removing hydrogen atom without neighbors\n",
      "RDKit WARNING: [15:55:55] WARNING: not removing hydrogen atom without neighbors\n",
      "RDKit WARNING: [15:55:55] WARNING: not removing hydrogen atom without neighbors\n",
      "RDKit WARNING: [15:55:55] WARNING: not removing hydrogen atom without neighbors\n",
      "RDKit WARNING: [15:55:55] WARNING: not removing hydrogen atom without neighbors\n",
      "RDKit WARNING: [15:55:56] WARNING: not removing hydrogen atom without neighbors\n",
      "RDKit WARNING: [15:55:56] WARNING: not removing hydrogen atom without neighbors\n",
      "RDKit WARNING: [15:55:56] WARNING: not removing hydrogen atom without neighbors\n",
      "RDKit WARNING: [15:55:56] WARNING: not removing hydrogen atom without neighbors\n",
      "RDKit WARNING: [15:55:56] WARNING: not removing hydrogen atom without neighbors\n",
      "RDKit WARNING: [15:55:56] WARNING: not removing hydrogen atom without neighbors\n",
      "RDKit WARNING: [15:55:56] WARNING: not removing hydrogen atom without neighbors\n",
      "RDKit WARNING: [15:55:56] WARNING: not removing hydrogen atom without neighbors\n",
      "RDKit WARNING: [15:55:56] WARNING: not removing hydrogen atom without neighbors\n",
      "RDKit WARNING: [15:55:56] WARNING: not removing hydrogen atom without neighbors\n",
      "RDKit WARNING: [15:55:56] WARNING: not removing hydrogen atom without neighbors\n",
      "RDKit WARNING: [15:55:56] WARNING: not removing hydrogen atom without neighbors\n",
      "RDKit WARNING: [15:55:56] WARNING: not removing hydrogen atom without neighbors\n",
      "RDKit WARNING: [15:55:56] WARNING: not removing hydrogen atom without neighbors\n",
      "RDKit WARNING: [15:55:56] WARNING: not removing hydrogen atom without neighbors\n",
      "RDKit WARNING: [15:55:56] WARNING: not removing hydrogen atom without neighbors\n",
      "RDKit WARNING: [15:55:56] WARNING: not removing hydrogen atom without neighbors\n",
      "RDKit WARNING: [15:55:56] WARNING: not removing hydrogen atom without neighbors\n",
      "RDKit WARNING: [15:55:56] WARNING: not removing hydrogen atom without neighbors\n",
      "RDKit WARNING: [15:55:56] WARNING: not removing hydrogen atom without neighbors\n",
      "RDKit WARNING: [15:55:57] WARNING: not removing hydrogen atom without neighbors\n",
      "RDKit WARNING: [15:55:57] WARNING: not removing hydrogen atom without neighbors\n",
      "RDKit WARNING: [15:55:57] WARNING: not removing hydrogen atom without neighbors\n",
      "RDKit WARNING: [15:55:57] WARNING: not removing hydrogen atom without neighbors\n",
      "RDKit WARNING: [15:55:57] WARNING: not removing hydrogen atom without neighbors\n",
      "RDKit WARNING: [15:55:57] WARNING: not removing hydrogen atom without neighbors\n"
     ]
    },
    {
     "name": "stdout",
     "output_type": "stream",
     "text": [
      "llinas Overlap: 79/100\n"
     ]
    },
    {
     "name": "stderr",
     "output_type": "stream",
     "text": [
      "RDKit WARNING: [15:56:02] WARNING: not removing hydrogen atom without neighbors\n",
      "RDKit WARNING: [15:56:02] WARNING: not removing hydrogen atom without neighbors\n",
      "RDKit WARNING: [15:56:02] WARNING: not removing hydrogen atom without neighbors\n",
      "RDKit WARNING: [15:56:02] WARNING: not removing hydrogen atom without neighbors\n",
      "RDKit WARNING: [15:56:02] WARNING: not removing hydrogen atom without neighbors\n",
      "RDKit WARNING: [15:56:02] WARNING: not removing hydrogen atom without neighbors\n",
      "RDKit WARNING: [15:56:02] WARNING: not removing hydrogen atom without neighbors\n",
      "RDKit WARNING: [15:56:02] WARNING: not removing hydrogen atom without neighbors\n",
      "RDKit WARNING: [15:56:02] WARNING: not removing hydrogen atom without neighbors\n",
      "RDKit WARNING: [15:56:02] WARNING: not removing hydrogen atom without neighbors\n",
      "RDKit WARNING: [15:56:02] WARNING: not removing hydrogen atom without neighbors\n",
      "RDKit WARNING: [15:56:03] WARNING: not removing hydrogen atom without neighbors\n",
      "RDKit WARNING: [15:56:03] WARNING: not removing hydrogen atom without neighbors\n",
      "RDKit WARNING: [15:56:03] WARNING: not removing hydrogen atom without neighbors\n",
      "RDKit WARNING: [15:56:03] WARNING: not removing hydrogen atom without neighbors\n",
      "RDKit WARNING: [15:56:03] WARNING: not removing hydrogen atom without neighbors\n",
      "RDKit WARNING: [15:56:03] WARNING: not removing hydrogen atom without neighbors\n",
      "RDKit WARNING: [15:56:03] WARNING: not removing hydrogen atom without neighbors\n",
      "RDKit WARNING: [15:56:03] WARNING: not removing hydrogen atom without neighbors\n",
      "RDKit WARNING: [15:56:03] WARNING: not removing hydrogen atom without neighbors\n",
      "RDKit WARNING: [15:56:03] WARNING: not removing hydrogen atom without neighbors\n",
      "RDKit WARNING: [15:56:03] WARNING: not removing hydrogen atom without neighbors\n",
      "RDKit WARNING: [15:56:03] WARNING: not removing hydrogen atom without neighbors\n",
      "RDKit WARNING: [15:56:03] WARNING: not removing hydrogen atom without neighbors\n",
      "RDKit WARNING: [15:56:03] WARNING: not removing hydrogen atom without neighbors\n",
      "RDKit WARNING: [15:56:03] WARNING: not removing hydrogen atom without neighbors\n",
      "RDKit WARNING: [15:56:03] WARNING: not removing hydrogen atom without neighbors\n",
      "RDKit WARNING: [15:56:03] WARNING: not removing hydrogen atom without neighbors\n",
      "RDKit WARNING: [15:56:03] WARNING: not removing hydrogen atom without neighbors\n",
      "RDKit WARNING: [15:56:03] WARNING: not removing hydrogen atom without neighbors\n",
      "RDKit WARNING: [15:56:03] WARNING: not removing hydrogen atom without neighbors\n",
      "RDKit WARNING: [15:56:03] WARNING: not removing hydrogen atom without neighbors\n",
      "RDKit WARNING: [15:56:03] WARNING: not removing hydrogen atom without neighbors\n",
      "RDKit WARNING: [15:56:03] WARNING: not removing hydrogen atom without neighbors\n",
      "RDKit WARNING: [15:56:03] WARNING: not removing hydrogen atom without neighbors\n",
      "RDKit WARNING: [15:56:03] WARNING: not removing hydrogen atom without neighbors\n",
      "RDKit WARNING: [15:56:03] WARNING: not removing hydrogen atom without neighbors\n",
      "RDKit WARNING: [15:56:03] WARNING: not removing hydrogen atom without neighbors\n",
      "RDKit WARNING: [15:56:03] WARNING: not removing hydrogen atom without neighbors\n",
      "RDKit WARNING: [15:56:03] WARNING: not removing hydrogen atom without neighbors\n",
      "RDKit WARNING: [15:56:03] WARNING: not removing hydrogen atom without neighbors\n",
      "RDKit WARNING: [15:56:03] WARNING: not removing hydrogen atom without neighbors\n",
      "RDKit WARNING: [15:56:03] WARNING: not removing hydrogen atom without neighbors\n",
      "RDKit WARNING: [15:56:03] WARNING: not removing hydrogen atom without neighbors\n",
      "RDKit WARNING: [15:56:03] WARNING: not removing hydrogen atom without neighbors\n",
      "RDKit WARNING: [15:56:03] WARNING: not removing hydrogen atom without neighbors\n",
      "RDKit WARNING: [15:56:04] WARNING: not removing hydrogen atom without neighbors\n",
      "RDKit WARNING: [15:56:04] WARNING: not removing hydrogen atom without neighbors\n",
      "RDKit WARNING: [15:56:04] WARNING: not removing hydrogen atom without neighbors\n",
      "RDKit WARNING: [15:56:04] WARNING: not removing hydrogen atom without neighbors\n",
      "RDKit WARNING: [15:56:04] WARNING: not removing hydrogen atom without neighbors\n",
      "RDKit WARNING: [15:56:04] WARNING: not removing hydrogen atom without neighbors\n",
      "RDKit WARNING: [15:56:04] WARNING: not removing hydrogen atom without neighbors\n",
      "RDKit WARNING: [15:56:04] WARNING: not removing hydrogen atom without neighbors\n",
      "RDKit WARNING: [15:56:04] WARNING: not removing hydrogen atom without neighbors\n",
      "RDKit WARNING: [15:56:04] WARNING: not removing hydrogen atom without neighbors\n",
      "RDKit WARNING: [15:56:04] WARNING: not removing hydrogen atom without neighbors\n",
      "RDKit WARNING: [15:56:04] WARNING: not removing hydrogen atom without neighbors\n",
      "RDKit WARNING: [15:56:04] WARNING: not removing hydrogen atom without neighbors\n",
      "RDKit WARNING: [15:56:04] WARNING: not removing hydrogen atom without neighbors\n",
      "RDKit WARNING: [15:56:04] WARNING: not removing hydrogen atom without neighbors\n",
      "RDKit WARNING: [15:56:05] WARNING: not removing hydrogen atom without neighbors\n",
      "RDKit WARNING: [15:56:05] WARNING: not removing hydrogen atom without neighbors\n",
      "RDKit WARNING: [15:56:05] WARNING: not removing hydrogen atom without neighbors\n",
      "RDKit WARNING: [15:56:05] WARNING: not removing hydrogen atom without neighbors\n"
     ]
    },
    {
     "name": "stdout",
     "output_type": "stream",
     "text": [
      "llinas Overlap: 18/32\n"
     ]
    }
   ],
   "source": [
    "#llinas2020 overlap\n",
    "todo=glob.glob('data/llinas2020/llinas2020*test.csv')\n",
    "for fname in todo:\n",
    "    ll_smis=pd.read_csv(fname)['smiles'].tolist()\n",
    "    print(f'llinas Overlap: {count_overlap(ll_smis)}/{len(ll_smis)}')"
   ]
  },
  {
   "cell_type": "code",
   "execution_count": 46,
   "metadata": {},
   "outputs": [
    {
     "data": {
      "text/plain": [
       "Index(['Dataset', 'Reported R2', 'Reported RMSE', 'SolTranNet Training R2',\n",
       "       'SolTranNet Best R2', 'SolTranNet Deployed R2',\n",
       "       'SolTranNet Training RMSE', 'SolTranNet Best RMSE',\n",
       "       'SolTranNet Deployed RMSE', 'Deployed Training Overlap'],\n",
       "      dtype='object')"
      ]
     },
     "execution_count": 46,
     "metadata": {},
     "output_type": "execute_result"
    }
   ],
   "source": [
    "data=pd.read_csv('data/soltrannet_othersets.csv')\n",
    "data.columns"
   ]
  },
  {
   "cell_type": "code",
   "execution_count": 47,
   "metadata": {},
   "outputs": [
    {
     "name": "stdout",
     "output_type": "stream",
     "text": [
      "\\begin{tabular}{llrlrll}\n",
      "\\toprule\n",
      "{} &                 Dataset &  Reported RMSE & SolTranNet Training RMSE &  SolTranNet Best RMSE & SolTranNet Deployed RMSE & Deployed Training Overlap \\\\\n",
      "\\midrule\n",
      "0 &          Cui et al 2020 &          0.681 &             0.860(0.215) &                 0.624 &                    0.813 &                      0/62 \\\\\n",
      "1 &      Boobier et al 2017 &          0.985 &             1.274(0.178) &                 1.010 &                    0.845 &                     23/25 \\\\\n",
      "2 &      Louvric et al 2020 &          0.720 &             0.898(0.101) &                 0.720 &            0.854(0.0672) &          151.4(3.382)/166 \\\\\n",
      "3 &  Llinas et al 2020 set1 &          0.780 &             1.119(0.163) &                 0.952 &                    1.004 &                    79/100 \\\\\n",
      "4 &  LLinas et al 2020 set2 &          1.060 &             1.811(0.328) &                 1.243 &                    1.295 &                     18/32 \\\\\n",
      "\\bottomrule\n",
      "\\end{tabular}\n",
      "\n"
     ]
    }
   ],
   "source": [
    "print(data.to_latex(columns=['Dataset']+[x for x in data.columns.tolist() if 'RMSE' in x]+['Deployed Training Overlap']))"
   ]
  },
  {
   "cell_type": "code",
   "execution_count": 48,
   "metadata": {},
   "outputs": [
    {
     "name": "stdout",
     "output_type": "stream",
     "text": [
      "\\begin{tabular}{llllrll}\n",
      "\\toprule\n",
      "{} &                 Dataset & Reported R2 & SolTranNet Training R2 &  SolTranNet Best R2 & SolTranNet Deployed R2 & Deployed Training Overlap \\\\\n",
      "\\midrule\n",
      "0 &          Cui et al 2020 &       0.412 &          0.589(0.0244) &               0.611 &                  0.656 &                      0/62 \\\\\n",
      "1 &      Boobier et al 2017 &       0.706 &           0.543(0.142) &               0.724 &                  0.773 &                     23/25 \\\\\n",
      "2 &      Louvric et al 2020 &          -- &          0.709(0.0537) &               0.783 &          0.744(0.0345) &          151.4(3.382)/166 \\\\\n",
      "3 &  Llinas et al 2020 set1 &        0.62 &          0.496(0.0268) &               0.527 &                  0.514 &                    79/100 \\\\\n",
      "4 &  LLinas et al 2020 set2 &        0.75 &          0.769(0.0346) &               0.824 &                  0.726 &                     18/32 \\\\\n",
      "\\bottomrule\n",
      "\\end{tabular}\n",
      "\n"
     ]
    }
   ],
   "source": [
    "print(data.to_latex(columns=['Dataset']+[x for x in data.columns.tolist() if 'R2' in x]+['Deployed Training Overlap']))"
   ]
  },
  {
   "cell_type": "markdown",
   "metadata": {},
   "source": [
    "## Generating the plots for Classification on Second Challenge to Predict Aqueous Solubility"
   ]
  },
  {
   "cell_type": "code",
   "execution_count": 49,
   "metadata": {},
   "outputs": [],
   "source": [
    "def calc_stats(pred_array, true_array, insol_thresh=-6, sol_thresh=-4):\n",
    "    '''\n",
    "    This function will calculate the following on the predicted array:\n",
    "        Hit% = #correct(lower_sol_thresh,upper_sol_thresh) / #(lower_sol_thresh,upper_sol_thresh)\n",
    "        Fail% = #true(insol_thresh)pred(lower_sol_thresh,upper_sol_thresh) / #pred(lower_sol_thresh,upper_sol_thresh)\n",
    "    \n",
    "    Assumptions: pred_array,true_array are paired numpy arrays.\n",
    "    '''\n",
    "    \n",
    "    #first we need to access the examples which have true in (lower_sol_thresh, upper_sol_thresh)\n",
    "    true_mask=(true_array > sol_thresh)\n",
    "    \n",
    "    #calculating the Hit%\n",
    "    num_true=len(true_array[true_mask])\n",
    "    poss_hits=pred_array[true_mask]\n",
    "    num_hits=np.sum((poss_hits>sol_thresh))\n",
    "    hit=num_hits/float(num_true)\n",
    "    \n",
    "    #calculating the Fail%\n",
    "    pred_mask=(pred_array > sol_thresh)\n",
    "    insol_mask=true_array <= insol_thresh\n",
    "    fail=np.sum(insol_mask & pred_mask) / float(np.sum(pred_mask))\n",
    "    \n",
    "    return hit,fail,np.sum(true_mask),np.sum(pred_mask)"
   ]
  },
  {
   "cell_type": "code",
   "execution_count": 50,
   "metadata": {},
   "outputs": [],
   "source": [
    "data={}\n",
    "\n",
    "#adding the SolTranNet data\n",
    "truths=np.array([])\n",
    "preds=np.array([])\n",
    "for s in ['set1','set2']:\n",
    "    tmp=pd.read_csv(f'data/llinas2020/soltrannet/llinas_{s}_final_aq_model.predictions')\n",
    "    t=tmp['true']\n",
    "    truths=np.append(truths,t)\n",
    "    p=tmp['pred']\n",
    "    preds=np.append(preds,p)\n",
    "\n",
    "for ins in [-4,-5,-6]:\n",
    "    data[ins]={'hit':[],'fail':[]}\n",
    "    hit,fail,nt,npred=calc_stats(preds,truths,ins,-4)\n",
    "    data[ins]['hit']=[('SolTranNet',hit)]\n",
    "    data[ins]['fail']=[('SolTranNet',fail)]"
   ]
  },
  {
   "cell_type": "code",
   "execution_count": 51,
   "metadata": {
    "scrolled": true
   },
   "outputs": [
    {
     "data": {
      "text/plain": [
       "-4.321439393939395"
      ]
     },
     "execution_count": 51,
     "metadata": {},
     "output_type": "execute_result"
    }
   ],
   "source": [
    "np.mean(truths)"
   ]
  },
  {
   "cell_type": "code",
   "execution_count": 52,
   "metadata": {},
   "outputs": [
    {
     "name": "stdout",
     "output_type": "stream",
     "text": [
      "19\n"
     ]
    },
    {
     "data": {
      "image/png": "[encoded data removed]",
      "text/plain": [
       "<Figure size 432x288 with 1 Axes>"
      ]
     },
     "metadata": {
      "needs_background": "light"
     },
     "output_type": "display_data"
    }
   ],
   "source": [
    "w=0.5\n",
    "n=math.ceil((max(truths)-min(truths))/w)\n",
    "print(n)\n",
    "plt.hist(truths,bins=n)\n",
    "plt.xlabel('Solubility (logS)')\n",
    "plt.ylabel('Count')\n",
    "plt.savefig('figures/histogram_solchal2_true_logs.pdf')"
   ]
  },
  {
   "cell_type": "code",
   "execution_count": 53,
   "metadata": {},
   "outputs": [
    {
     "data": {
      "text/plain": [
       "(58, 132)"
      ]
     },
     "execution_count": 53,
     "metadata": {},
     "output_type": "execute_result"
    }
   ],
   "source": [
    "np.sum((truths>-6) & (truths <=-4)),len(truths)"
   ]
  },
  {
   "cell_type": "code",
   "execution_count": 54,
   "metadata": {},
   "outputs": [
    {
     "data": {
      "text/plain": [
       "(35, 132)"
      ]
     },
     "execution_count": 54,
     "metadata": {},
     "output_type": "execute_result"
    }
   ],
   "source": [
    "np.sum((truths>-5) & (truths <=-4)),len(truths)"
   ]
  },
  {
   "cell_type": "code",
   "execution_count": 55,
   "metadata": {},
   "outputs": [],
   "source": [
    "all_files=glob.glob('data/llinas2020/submitted/*.csv')\n",
    "keys=set([x.split('/')[-1].split('_set')[0] for x in all_files])\n",
    "for ins in [-4,-5,-6]:\n",
    "    for k in keys:\n",
    "        truths=np.array([])\n",
    "        preds=np.array([])\n",
    "        todo=glob.glob(f'data/llinas2020/submitted/{k}*.csv')\n",
    "        for fname in todo:\n",
    "            tmp=pd.read_csv(fname)\n",
    "            t=tmp['TRUE']\n",
    "            truths=np.append(truths,t)\n",
    "            p=tmp['PREDICTED']\n",
    "            preds=np.append(preds,p)\n",
    "        hit,fail,nt,npred=calc_stats(preds,truths,ins,-4)\n",
    "        if np.isnan(hit):\n",
    "            print(f'{k} hit is nan')\n",
    "        else:\n",
    "            data[ins]['hit'].append((k,hit))\n",
    "\n",
    "        if np.isnan(fail):\n",
    "            print(f'{k} fail is nan')\n",
    "        else:\n",
    "            data[ins]['fail'].append((k,fail))"
   ]
  },
  {
   "cell_type": "code",
   "execution_count": 56,
   "metadata": {
    "scrolled": true
   },
   "outputs": [
    {
     "data": {
      "text/plain": [
       "{-4: {'hit': [('SolTranNet', 0.9482758620689655),\n",
       "   ('hpsu_b', 0.5517241379310345),\n",
       "   ('asll_c', 0.9827586206896551),\n",
       "   ('hpsu_a', 0.5517241379310345),\n",
       "   ('xwuc_b', 0.896551724137931),\n",
       "   ('mlkc_c', 0.8793103448275862),\n",
       "   ('jhunc_b', 1.0),\n",
       "   ('ytacu', 0.7586206896551724),\n",
       "   ('jmsa_a', 0.9655172413793104),\n",
       "   ('yumpu_a', 0.7931034482758621),\n",
       "   ('mlkc_b', 0.896551724137931),\n",
       "   ('mcsmd', 0.896551724137931),\n",
       "   ('asll_b', 0.9137931034482759),\n",
       "   ('flwmu', 0.9482758620689655),\n",
       "   ('mlkc_a', 0.8620689655172413),\n",
       "   ('jhunc_a', 0.9482758620689655),\n",
       "   ('sgurv', 0.7931034482758621),\n",
       "   ('jcsu_a', 0.8793103448275862),\n",
       "   ('jhunc_c', 0.9827586206896551),\n",
       "   ('asll_a', 1.0),\n",
       "   ('pmsa_a', 0.7586206896551724),\n",
       "   ('pmsa_c', 0.7758620689655172),\n",
       "   ('nmupi', 0.8275862068965517),\n",
       "   ('pmsa_b', 0.7413793103448276),\n",
       "   ('rfsp_a', 0.9137931034482759),\n",
       "   ('jhtny', 0.896551724137931),\n",
       "   ('astu', 0.7413793103448276),\n",
       "   ('umut_c', 0.896551724137931),\n",
       "   ('jmsa_c', 0.9655172413793104),\n",
       "   ('tdipg', 0.8620689655172413),\n",
       "   ('yumpu_b', 0.7758620689655172),\n",
       "   ('jcsu_b', 0.9482758620689655),\n",
       "   ('umut_a', 0.8793103448275862),\n",
       "   ('jmsa_b', 0.8793103448275862),\n",
       "   ('umut_b', 0.8793103448275862),\n",
       "   ('xwuc_a', 0.896551724137931),\n",
       "   ('ksmit', 0.8620689655172413),\n",
       "   ('rfsp_b', 0.9482758620689655)],\n",
       "  'fail': [('SolTranNet', 0.2857142857142857),\n",
       "   ('hpsu_b', 0.23809523809523808),\n",
       "   ('asll_c', 0.3870967741935484),\n",
       "   ('hpsu_a', 0.43859649122807015),\n",
       "   ('xwuc_b', 0.3157894736842105),\n",
       "   ('mlkc_c', 0.3108108108108108),\n",
       "   ('jhunc_b', 0.45794392523364486),\n",
       "   ('ytacu', 0.2903225806451613),\n",
       "   ('jmsa_a', 0.3170731707317073),\n",
       "   ('yumpu_a', 0.22033898305084745),\n",
       "   ('mlkc_b', 0.2777777777777778),\n",
       "   ('mcsmd', 0.2571428571428571),\n",
       "   ('asll_b', 0.43010752688172044),\n",
       "   ('flwmu', 0.3956043956043956),\n",
       "   ('mlkc_a', 0.3055555555555556),\n",
       "   ('jhunc_a', 0.22535211267605634),\n",
       "   ('sgurv', 0.22033898305084745),\n",
       "   ('jcsu_a', 0.2608695652173913),\n",
       "   ('jhunc_c', 0.4519230769230769),\n",
       "   ('asll_a', 0.5084745762711864),\n",
       "   ('pmsa_a', 0.15384615384615385),\n",
       "   ('pmsa_c', 0.16666666666666666),\n",
       "   ('nmupi', 0.4606741573033708),\n",
       "   ('pmsa_b', 0.14),\n",
       "   ('rfsp_a', 0.35365853658536583),\n",
       "   ('jhtny', 0.3333333333333333),\n",
       "   ('astu', 0.29508196721311475),\n",
       "   ('umut_c', 0.2571428571428571),\n",
       "   ('jmsa_c', 0.3333333333333333),\n",
       "   ('tdipg', 0.2857142857142857),\n",
       "   ('yumpu_b', 0.19642857142857142),\n",
       "   ('jcsu_b', 0.35294117647058826),\n",
       "   ('umut_a', 0.33766233766233766),\n",
       "   ('jmsa_b', 0.32),\n",
       "   ('umut_b', 0.2153846153846154),\n",
       "   ('xwuc_a', 0.3246753246753247),\n",
       "   ('ksmit', 0.3150684931506849),\n",
       "   ('rfsp_b', 0.38202247191011235)]},\n",
       " -5: {'hit': [('SolTranNet', 0.9482758620689655),\n",
       "   ('hpsu_b', 0.5517241379310345),\n",
       "   ('asll_c', 0.9827586206896551),\n",
       "   ('hpsu_a', 0.5517241379310345),\n",
       "   ('xwuc_b', 0.896551724137931),\n",
       "   ('mlkc_c', 0.8793103448275862),\n",
       "   ('jhunc_b', 1.0),\n",
       "   ('ytacu', 0.7586206896551724),\n",
       "   ('jmsa_a', 0.9655172413793104),\n",
       "   ('yumpu_a', 0.7931034482758621),\n",
       "   ('mlkc_b', 0.896551724137931),\n",
       "   ('mcsmd', 0.896551724137931),\n",
       "   ('asll_b', 0.9137931034482759),\n",
       "   ('flwmu', 0.9482758620689655),\n",
       "   ('mlkc_a', 0.8620689655172413),\n",
       "   ('jhunc_a', 0.9482758620689655),\n",
       "   ('sgurv', 0.7931034482758621),\n",
       "   ('jcsu_a', 0.8793103448275862),\n",
       "   ('jhunc_c', 0.9827586206896551),\n",
       "   ('asll_a', 1.0),\n",
       "   ('pmsa_a', 0.7586206896551724),\n",
       "   ('pmsa_c', 0.7758620689655172),\n",
       "   ('nmupi', 0.8275862068965517),\n",
       "   ('pmsa_b', 0.7413793103448276),\n",
       "   ('rfsp_a', 0.9137931034482759),\n",
       "   ('jhtny', 0.896551724137931),\n",
       "   ('astu', 0.7413793103448276),\n",
       "   ('umut_c', 0.896551724137931),\n",
       "   ('jmsa_c', 0.9655172413793104),\n",
       "   ('tdipg', 0.8620689655172413),\n",
       "   ('yumpu_b', 0.7758620689655172),\n",
       "   ('jcsu_b', 0.9482758620689655),\n",
       "   ('umut_a', 0.8793103448275862),\n",
       "   ('jmsa_b', 0.8793103448275862),\n",
       "   ('umut_b', 0.8793103448275862),\n",
       "   ('xwuc_a', 0.896551724137931),\n",
       "   ('ksmit', 0.8620689655172413),\n",
       "   ('rfsp_b', 0.9482758620689655)],\n",
       "  'fail': [('SolTranNet', 0.07792207792207792),\n",
       "   ('hpsu_b', 0.047619047619047616),\n",
       "   ('asll_c', 0.15053763440860216),\n",
       "   ('hpsu_a', 0.17543859649122806),\n",
       "   ('xwuc_b', 0.09210526315789473),\n",
       "   ('mlkc_c', 0.05405405405405406),\n",
       "   ('jhunc_b', 0.18691588785046728),\n",
       "   ('ytacu', 0.04838709677419355),\n",
       "   ('jmsa_a', 0.0975609756097561),\n",
       "   ('yumpu_a', 0.03389830508474576),\n",
       "   ('mlkc_b', 0.05555555555555555),\n",
       "   ('mcsmd', 0.08571428571428572),\n",
       "   ('asll_b', 0.20430107526881722),\n",
       "   ('flwmu', 0.18681318681318682),\n",
       "   ('mlkc_a', 0.05555555555555555),\n",
       "   ('jhunc_a', 0.08450704225352113),\n",
       "   ('sgurv', 0.06779661016949153),\n",
       "   ('jcsu_a', 0.014492753623188406),\n",
       "   ('jhunc_c', 0.14423076923076922),\n",
       "   ('asll_a', 0.211864406779661),\n",
       "   ('pmsa_a', 0.038461538461538464),\n",
       "   ('pmsa_c', 0.037037037037037035),\n",
       "   ('nmupi', 0.20224719101123595),\n",
       "   ('pmsa_b', 0.04),\n",
       "   ('rfsp_a', 0.12195121951219512),\n",
       "   ('jhtny', 0.15384615384615385),\n",
       "   ('astu', 0.01639344262295082),\n",
       "   ('umut_c', 0.02857142857142857),\n",
       "   ('jmsa_c', 0.10714285714285714),\n",
       "   ('tdipg', 0.07142857142857142),\n",
       "   ('yumpu_b', 0.017857142857142856),\n",
       "   ('jcsu_b', 0.12941176470588237),\n",
       "   ('umut_a', 0.1038961038961039),\n",
       "   ('jmsa_b', 0.10666666666666667),\n",
       "   ('umut_b', 0.046153846153846156),\n",
       "   ('xwuc_a', 0.11688311688311688),\n",
       "   ('ksmit', 0.0684931506849315),\n",
       "   ('rfsp_b', 0.14606741573033707)]},\n",
       " -6: {'hit': [('SolTranNet', 0.9482758620689655),\n",
       "   ('hpsu_b', 0.5517241379310345),\n",
       "   ('asll_c', 0.9827586206896551),\n",
       "   ('hpsu_a', 0.5517241379310345),\n",
       "   ('xwuc_b', 0.896551724137931),\n",
       "   ('mlkc_c', 0.8793103448275862),\n",
       "   ('jhunc_b', 1.0),\n",
       "   ('ytacu', 0.7586206896551724),\n",
       "   ('jmsa_a', 0.9655172413793104),\n",
       "   ('yumpu_a', 0.7931034482758621),\n",
       "   ('mlkc_b', 0.896551724137931),\n",
       "   ('mcsmd', 0.896551724137931),\n",
       "   ('asll_b', 0.9137931034482759),\n",
       "   ('flwmu', 0.9482758620689655),\n",
       "   ('mlkc_a', 0.8620689655172413),\n",
       "   ('jhunc_a', 0.9482758620689655),\n",
       "   ('sgurv', 0.7931034482758621),\n",
       "   ('jcsu_a', 0.8793103448275862),\n",
       "   ('jhunc_c', 0.9827586206896551),\n",
       "   ('asll_a', 1.0),\n",
       "   ('pmsa_a', 0.7586206896551724),\n",
       "   ('pmsa_c', 0.7758620689655172),\n",
       "   ('nmupi', 0.8275862068965517),\n",
       "   ('pmsa_b', 0.7413793103448276),\n",
       "   ('rfsp_a', 0.9137931034482759),\n",
       "   ('jhtny', 0.896551724137931),\n",
       "   ('astu', 0.7413793103448276),\n",
       "   ('umut_c', 0.896551724137931),\n",
       "   ('jmsa_c', 0.9655172413793104),\n",
       "   ('tdipg', 0.8620689655172413),\n",
       "   ('yumpu_b', 0.7758620689655172),\n",
       "   ('jcsu_b', 0.9482758620689655),\n",
       "   ('umut_a', 0.8793103448275862),\n",
       "   ('jmsa_b', 0.8793103448275862),\n",
       "   ('umut_b', 0.8793103448275862),\n",
       "   ('xwuc_a', 0.896551724137931),\n",
       "   ('ksmit', 0.8620689655172413),\n",
       "   ('rfsp_b', 0.9482758620689655)],\n",
       "  'fail': [('SolTranNet', 0.012987012987012988),\n",
       "   ('hpsu_b', 0.023809523809523808),\n",
       "   ('asll_c', 0.043010752688172046),\n",
       "   ('hpsu_a', 0.05263157894736842),\n",
       "   ('xwuc_b', 0.013157894736842105),\n",
       "   ('mlkc_c', 0.0),\n",
       "   ('jhunc_b', 0.056074766355140186),\n",
       "   ('ytacu', 0.0),\n",
       "   ('jmsa_a', 0.024390243902439025),\n",
       "   ('yumpu_a', 0.0),\n",
       "   ('mlkc_b', 0.013888888888888888),\n",
       "   ('mcsmd', 0.0),\n",
       "   ('asll_b', 0.06451612903225806),\n",
       "   ('flwmu', 0.06593406593406594),\n",
       "   ('mlkc_a', 0.013888888888888888),\n",
       "   ('jhunc_a', 0.014084507042253521),\n",
       "   ('sgurv', 0.0),\n",
       "   ('jcsu_a', 0.0),\n",
       "   ('jhunc_c', 0.0),\n",
       "   ('asll_a', 0.07627118644067797),\n",
       "   ('pmsa_a', 0.0),\n",
       "   ('pmsa_c', 0.0),\n",
       "   ('nmupi', 0.0898876404494382),\n",
       "   ('pmsa_b', 0.0),\n",
       "   ('rfsp_a', 0.036585365853658534),\n",
       "   ('jhtny', 0.02564102564102564),\n",
       "   ('astu', 0.0),\n",
       "   ('umut_c', 0.0),\n",
       "   ('jmsa_c', 0.023809523809523808),\n",
       "   ('tdipg', 0.014285714285714285),\n",
       "   ('yumpu_b', 0.0),\n",
       "   ('jcsu_b', 0.023529411764705882),\n",
       "   ('umut_a', 0.012987012987012988),\n",
       "   ('jmsa_b', 0.02666666666666667),\n",
       "   ('umut_b', 0.0),\n",
       "   ('xwuc_a', 0.012987012987012988),\n",
       "   ('ksmit', 0.0),\n",
       "   ('rfsp_b', 0.033707865168539325)]}}"
      ]
     },
     "execution_count": 56,
     "metadata": {},
     "output_type": "execute_result"
    }
   ],
   "source": [
    "data"
   ]
  },
  {
   "cell_type": "code",
   "execution_count": 57,
   "metadata": {
    "scrolled": false
   },
   "outputs": [
    {
     "data": {
      "image/png": "[encoded data removed]",
      "text/plain": [
       "<Figure size 684x360 with 1 Axes>"
      ]
     },
     "metadata": {
      "needs_background": "light"
     },
     "output_type": "display_data"
    },
    {
     "data": {
      "image/png": "[encoded data removed]",
      "text/plain": [
       "<Figure size 684x360 with 1 Axes>"
      ]
     },
     "metadata": {
      "needs_background": "light"
     },
     "output_type": "display_data"
    },
    {
     "data": {
      "image/png": "[encoded data removed]",
      "text/plain": [
       "<Figure size 684x360 with 1 Axes>"
      ]
     },
     "metadata": {
      "needs_background": "light"
     },
     "output_type": "display_data"
    },
    {
     "data": {
      "image/png": "[encoded data removed]",
      "text/plain": [
       "<Figure size 684x360 with 1 Axes>"
      ]
     },
     "metadata": {
      "needs_background": "light"
     },
     "output_type": "display_data"
    }
   ],
   "source": [
    "plotted_sens=False\n",
    "for ins in data:\n",
    "    for k in data[ins]:\n",
    "        if k=='hit':\n",
    "            if plotted_sens:\n",
    "                continue\n",
    "            fig=plt.figure(figsize=(9.5,5))\n",
    "            all_data=sorted(data[ins][k],key=lambda x:x[1],reverse=True)\n",
    "            plt.ylabel('Sensitivity')\n",
    "        else:\n",
    "            fig=plt.figure(figsize=(9.5,5))\n",
    "            all_data=sorted(data[ins][k],key=lambda x:x[1])\n",
    "            plt.ylabel(f'False Discovery Rate: Insoluble <= {ins}')\n",
    "            plt.ylim((0,0.55))\n",
    "\n",
    "        labels=[x[0] for x in all_data]\n",
    "        ys=[x[1] for x in all_data]\n",
    "        x_pos=[i for i,_ in enumerate(all_data)]\n",
    "        colors=['purple' if x[0]=='SolTranNet' else 'green' for x in all_data]\n",
    "        plt.bar(x_pos,ys,color=colors)\n",
    "        plt.xlabel('Group')\n",
    "        plt.xticks(x_pos,labels,rotation='vertical')\n",
    "        plt.savefig(f'figures/{k}_{ins}_solchal2.pdf')\n",
    "        plotted_sens=True"
   ]
  },
  {
   "cell_type": "markdown",
   "metadata": {},
   "source": [
    "## Making Supplemental Figure 3"
   ]
  },
  {
   "cell_type": "code",
   "execution_count": 58,
   "metadata": {},
   "outputs": [],
   "source": [
    "#Distribution of train/test solubilities for the scaffold split.\n",
    "files=glob.glob('data/training_data/aqsol_scaf_2d_t*.csv')\n",
    "sol_dic={'train':{},'test':{}}\n",
    "\n",
    "for f in files:\n",
    "    data=pd.read_csv(f)\n",
    "    if '_train' in f:\n",
    "        key1='train'\n",
    "    else:\n",
    "        key1='test'\n",
    "\n",
    "    fold=f.split(key1)[-1][0]\n",
    "    sol_dic[key1][fold]=data['y'].tolist()"
   ]
  },
  {
   "cell_type": "code",
   "execution_count": 59,
   "metadata": {
    "scrolled": true
   },
   "outputs": [
    {
     "name": "stdout",
     "output_type": "stream",
     "text": [
      "61\n"
     ]
    },
    {
     "data": {
      "image/png": "[encoded data removed]",
      "text/plain": [
       "<Figure size 432x288 with 1 Axes>"
      ]
     },
     "metadata": {
      "needs_background": "light"
     },
     "output_type": "display_data"
    },
    {
     "name": "stdout",
     "output_type": "stream",
     "text": [
      "61\n"
     ]
    },
    {
     "data": {
      "image/png": "[encoded data removed]",
      "text/plain": [
       "<Figure size 432x288 with 1 Axes>"
      ]
     },
     "metadata": {
      "needs_background": "light"
     },
     "output_type": "display_data"
    },
    {
     "name": "stdout",
     "output_type": "stream",
     "text": [
      "62\n"
     ]
    },
    {
     "data": {
      "image/png": "[encoded data removed]",
      "text/plain": [
       "<Figure size 432x288 with 1 Axes>"
      ]
     },
     "metadata": {
      "needs_background": "light"
     },
     "output_type": "display_data"
    }
   ],
   "source": [
    "for fold in ['0','1','2']:\n",
    "    w=0.25\n",
    "    n=math.ceil((max(sol_dic['train'][fold])-min(sol_dic['train'][fold]))/w)\n",
    "    print(n)\n",
    "    plt.rc('axes',labelsize=13)\n",
    "    plt.rc('axes',titlesize=13)\n",
    "    plt.figure()\n",
    "    plt.hist(sol_dic['train'][fold],label='Train',alpha=0.6,bins=n)\n",
    "    plt.hist(sol_dic['test'][fold],label='Test',alpha=0.6,bins=n)\n",
    "    plt.ylabel('Count')\n",
    "    plt.xlabel('Solubility (logS)')\n",
    "    plt.title('Aqsol Scaffold Split Fold '+fold+' Solubility Distribution')\n",
    "    plt.ylim((0,375))\n",
    "    plt.legend()\n",
    "    plt.savefig('figures/aqsol_scaf'+fold+'_soldist.pdf')\n",
    "    plt.show()"
   ]
  },
  {
   "cell_type": "code",
   "execution_count": 60,
   "metadata": {},
   "outputs": [
    {
     "name": "stdout",
     "output_type": "stream",
     "text": [
      "62\n",
      "47\n"
     ]
    },
    {
     "data": {
      "image/png": "[encoded data removed]",
      "text/plain": [
       "<Figure size 432x288 with 1 Axes>"
      ]
     },
     "metadata": {
      "needs_background": "light"
     },
     "output_type": "display_data"
    },
    {
     "data": {
      "image/png": "[encoded data removed]",
      "text/plain": [
       "<Figure size 432x288 with 1 Axes>"
      ]
     },
     "metadata": {
      "needs_background": "light"
     },
     "output_type": "display_data"
    }
   ],
   "source": [
    "#doing the same for the full Aqsol set and our independent set\n",
    "for fname in ['data/training_data/aqsol.csv','data/training_data/independent_sol.csv']:\n",
    "    plt.figure()\n",
    "    plt.rc('axes',labelsize=13)\n",
    "    plt.rc('axes',titlesize=13)\n",
    "    data=pd.read_csv(fname)\n",
    "    if 'aqsol' in fname:\n",
    "        l='AqSolDB'\n",
    "        c='#1f77b4'\n",
    "    else:\n",
    "        l='Independent'\n",
    "        c='#ff7f0e'\n",
    "    w=0.25\n",
    "    n=math.ceil((max(data['y'])-min(data['y']))/w)\n",
    "    print(n)\n",
    "    plt.hist(data['y'],label=l,color=c,alpha=0.6,bins=n)\n",
    "    plt.legend()\n",
    "    plt.ylabel('Count')\n",
    "    plt.xlabel('Solubility (logS)')\n",
    "    plt.title(f'{l} Solubility Distribution')\n",
    "    plt.savefig(f'figures/{l}_solhist.pdf')"
   ]
  },
  {
   "cell_type": "code",
   "execution_count": null,
   "metadata": {},
   "outputs": [],
   "source": []
  }
 ],
 "metadata": {
  "kernelspec": {
   "display_name": "Python 3",
   "language": "python",
   "name": "python3"
  },
  "language_info": {
   "codemirror_mode": {
    "name": "ipython",
    "version": 3
   },
   "file_extension": ".py",
   "mimetype": "text/x-python",
   "name": "python",
   "nbconvert_exporter": "python",
   "pygments_lexer": "ipython3",
   "version": "3.6.9"
  }
 },
 "nbformat": 4,
 "nbformat_minor": 2
}

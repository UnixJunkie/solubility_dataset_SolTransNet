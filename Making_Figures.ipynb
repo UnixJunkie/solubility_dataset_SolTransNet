{
 "cells": [
  {
   "cell_type": "code",
   "execution_count": 1,
   "metadata": {},
   "outputs": [],
   "source": [
    "import pickle\n",
    "import matplotlib.pyplot as plt\n",
    "%matplotlib inline"
   ]
  },
  {
   "cell_type": "code",
   "execution_count": 2,
   "metadata": {},
   "outputs": [
    {
     "name": "stderr",
     "output_type": "stream",
     "text": [
      "RDKit WARNING: [15:42:25] Enabling RDKit 2020.03.1dev1 jupyter extensions\n"
     ]
    }
   ],
   "source": [
    "import numpy as np\n",
    "import glob\n",
    "import re\n",
    "import pandas as pd\n",
    "import seaborn as sns\n",
    "import math\n",
    "from rdkit.Chem import AllChem as Chem\n",
    "from rdkit import DataStructs\n",
    "from scipy.stats import ttest_ind\n",
    "from io import StringIO\n",
    "import os\n",
    "import torch"
   ]
  },
  {
   "cell_type": "markdown",
   "metadata": {},
   "source": [
    "# Helper functions to be used throughout the analysis"
   ]
  },
  {
   "cell_type": "code",
   "execution_count": 3,
   "metadata": {},
   "outputs": [],
   "source": [
    "def get_stats(pred, gold):\n",
    "    rmse=np.sqrt(np.mean((pred-gold)**2))\n",
    "    r2=np.corrcoef(pred,gold)[0][1]**2\n",
    "    return(rmse,r2)"
   ]
  },
  {
   "cell_type": "code",
   "execution_count": 5,
   "metadata": {},
   "outputs": [],
   "source": [
    "plt.rc('axes',labelsize=13)\n",
    "plt.rc('axes',titlesize=13)"
   ]
  },
  {
   "cell_type": "markdown",
   "metadata": {},
   "source": [
    "## Generating LaTeX for Table 1 and STable1"
   ]
  },
  {
   "cell_type": "code",
   "execution_count": 4,
   "metadata": {},
   "outputs": [],
   "source": [
    "data=pd.read_csv('data/soltrannet_sweep_table.csv')"
   ]
  },
  {
   "cell_type": "code",
   "execution_count": 5,
   "metadata": {
    "scrolled": false
   },
   "outputs": [
    {
     "name": "stdout",
     "output_type": "stream",
     "text": [
      "\\begin{tabular}{llrrrrrr}\n",
      "\\toprule\n",
      "{} &    Model &  Parameters &  CCV RMSE &  Fold0 RMSE &  Fold1 RMSE &  Fold2 RMSE &  Ind RMSE \\\\\n",
      "\\midrule\n",
      "0  &      MAT &    42049537 &     2.007 &       1.231 &       3.075 &       1.058 &     2.113 \\\\\n",
      "1  &        0 &    21061633 &     1.449 &       1.161 &       1.959 &       1.054 &     1.914 \\\\\n",
      "2  &        1 &      502529 &     1.467 &       1.231 &       1.972 &       1.028 &     1.946 \\\\\n",
      "3  &        2 &      336385 &     1.377 &       1.260 &       1.682 &       1.126 &     1.870 \\\\\n",
      "4  &        3 &      336385 &     1.454 &       1.239 &       1.857 &       1.165 &     1.949 \\\\\n",
      "5  &        4 &       22657 &     1.297 &       1.187 &       1.582 &       1.066 &     1.903 \\\\\n",
      "6  &        5 &       11905 &     1.271 &       1.130 &       1.605 &       0.998 &     1.923 \\\\\n",
      "7  &        6 &       11905 &     1.350 &       1.272 &       1.680 &       1.012 &     1.903 \\\\\n",
      "8  &        7 &        3393 &     1.459 &       1.172 &       1.916 &       1.159 &     1.779 \\\\\n",
      "9  &        8 &        2609 &     1.376 &       1.169 &       1.788 &       1.055 &     1.973 \\\\\n",
      "10 &        9 &        2609 &     1.454 &       1.252 &       1.919 &       1.043 &     1.973 \\\\\n",
      "11 &  Elastic &        1463 &     1.835 &       1.843 &       1.965 &       1.687 &     2.090 \\\\\n",
      "12 &    Lasso &        1077 &     1.876 &       1.914 &       1.984 &       1.719 &     2.136 \\\\\n",
      "13 &      PLS &        2048 &     2.413 &       3.085 &       2.082 &       1.902 &     2.081 \\\\\n",
      "14 &    Ridge &        2048 &     2.239 &       2.503 &       2.032 &       2.155 &     2.312 \\\\\n",
      "\\bottomrule\n",
      "\\end{tabular}\n",
      "\n"
     ]
    }
   ],
   "source": [
    "print(data.to_latex(columns=['Model','Parameters']+[x for x in data.columns.tolist() if 'RMSE' in x]))"
   ]
  },
  {
   "cell_type": "code",
   "execution_count": 6,
   "metadata": {},
   "outputs": [
    {
     "name": "stdout",
     "output_type": "stream",
     "text": [
      "\\begin{tabular}{llrlrrrrrr}\n",
      "\\toprule\n",
      "{} &    Model &  Parameters &    Model &  Parameters &  CCV \\$R\\textasciicircum 2\\$ &  Fold0 \\$R\\textasciicircum 2\\$ &  Fold1 \\$R\\textasciicircum 2\\$ &  Fold2 \\$R\\textasciicircum 2\\$ &  Ind \\$R\\textasciicircum 2\\$ \\\\\n",
      "\\midrule\n",
      "0  &      MAT &    42049537 &      MAT &    42049537 &     0.5320 &       0.7510 &       0.3320 &       0.7150 &     0.3750 \\\\\n",
      "1  &        0 &    21061633 &        0 &    21061633 &     0.6700 &       0.7780 &       0.5200 &       0.7270 &     0.4718 \\\\\n",
      "2  &        1 &      502529 &        1 &      502529 &     0.6620 &       0.7690 &       0.4650 &       0.7330 &     0.4576 \\\\\n",
      "3  &        2 &      336385 &        2 &      336385 &     0.6930 &       0.7640 &       0.5630 &       0.7060 &     0.4890 \\\\\n",
      "4  &        3 &      336385 &        3 &      336385 &     0.6720 &       0.7640 &       0.5390 &       0.6850 &     0.4461 \\\\\n",
      "5  &        4 &       22657 &        4 &       22657 &     0.7240 &       0.7800 &       0.6260 &       0.7160 &     0.4831 \\\\\n",
      "6  &        5 &       11905 &        5 &       11905 &     0.7230 &       0.7930 &       0.5950 &       0.7440 &     0.4628 \\\\\n",
      "7  &        6 &       11905 &        6 &       11905 &     0.7130 &       0.7860 &       0.5820 &       0.7560 &     0.4517 \\\\\n",
      "8  &        7 &        3393 &        7 &        3393 &     0.6764 &       0.7914 &       0.5243 &       0.7424 &     0.5528 \\\\\n",
      "9  &        8 &        2609 &        8 &        2609 &     0.6950 &       0.7790 &       0.5450 &       0.7370 &     0.4580 \\\\\n",
      "10 &        9 &        2609 &        9 &        2609 &     0.6770 &       0.7670 &       0.5520 &       0.7200 &     0.4670 \\\\\n",
      "11 &  Elastic &        1463 &  Elastic &        1463 &     0.4140 &       0.4410 &       0.3940 &       0.4080 &     0.3770 \\\\\n",
      "12 &    Lasso &        1077 &    Lasso &        1077 &     0.3950 &       0.4090 &       0.3780 &       0.3920 &     0.3510 \\\\\n",
      "13 &      PLS &        2048 &      PLS &        2048 &     0.2280 &       0.2120 &       0.3330 &       0.0747 &     0.6760 \\\\\n",
      "14 &    Ridge &        2048 &    Ridge &        2048 &     0.3190 &       0.2890 &       0.3540 &       0.2910 &     0.2610 \\\\\n",
      "\\bottomrule\n",
      "\\end{tabular}\n",
      "\n"
     ]
    }
   ],
   "source": [
    "print(data.to_latex(columns=['Model','Parameters']+[x for x in data.columns.tolist() if 'RMSE' not in x]))"
   ]
  },
  {
   "cell_type": "markdown",
   "metadata": {},
   "source": [
    "## Generating the data for Table 2 and SFigXX"
   ]
  },
  {
   "cell_type": "code",
   "execution_count": 4,
   "metadata": {},
   "outputs": [],
   "source": [
    "#step 1 -- Generating the dictionary for the things\n",
    "data={}\n",
    "for dyn in range(1,21):\n",
    "    data[dyn]={'R2':[],'RMSE':[],'ensR2':0,'ensRMSE':0}\n",
    "    predfiles=glob.glob(f'data/predictions/final_model_ind_dyn{dyn}_*.predictions')\n",
    "    \n",
    "    preds=[]\n",
    "    \n",
    "    for f in predfiles:\n",
    "        tmp=pd.read_csv(f)\n",
    "        preds.append(tmp['pred'].to_list())\n",
    "        g=np.array(tmp['true'].to_list())\n",
    "        p=np.array(tmp['pred'].to_list())\n",
    "        ccvRMSE,ccvR2=get_stats(g,p)\n",
    "        data[dyn]['R2'].append(ccvR2)\n",
    "        data[dyn]['RMSE'].append(ccvRMSE)\n",
    "    \n",
    "    ensemble_preds=np.array([np.mean([a,b,c,d,e]) for a,b,c,d,e in zip(*preds)])\n",
    "    ensRMSE,ensR2=get_stats(g,ensemble_preds)\n",
    "    data[dyn]['ensR2']=ensR2\n",
    "    data[dyn]['ensRMSE']=ensRMSE"
   ]
  },
  {
   "cell_type": "code",
   "execution_count": 8,
   "metadata": {},
   "outputs": [
    {
     "data": {
      "image/png": "[encoded data removed]",
      "text/plain": [
       "<Figure size 432x288 with 1 Axes>"
      ]
     },
     "metadata": {
      "needs_background": "light"
     },
     "output_type": "display_data"
    },
    {
     "data": {
      "image/png": "[encoded data removed]",
      "text/plain": [
       "<Figure size 432x288 with 1 Axes>"
      ]
     },
     "metadata": {
      "needs_background": "light"
     },
     "output_type": "display_data"
    }
   ],
   "source": [
    "#step 2 -- Generating the Supplemental Figure\n",
    "for thing in ['R2','RMSE']:\n",
    "    xs=list(range(1,21))\n",
    "    toplot=[]\n",
    "    for x in xs:\n",
    "        toplot.append(data[x][thing])\n",
    "    \n",
    "    counter=1\n",
    "    xs2=[]\n",
    "    for item in toplot:\n",
    "        xs2.append([counter,counter,counter,counter,counter])\n",
    "        counter+=1\n",
    "    \n",
    "    ens_toplot=[]\n",
    "    for x in xs:\n",
    "        ens_toplot.append(data[x]['ens'+thing])\n",
    "    \n",
    "    fig=plt.figure()\n",
    "    plt.boxplot(toplot)\n",
    "    plt.scatter(xs,ens_toplot,s=15,label='Ensemble')\n",
    "    #plt.scatter(xs2,toplot,s=10,label='Individual',color='green')\n",
    "    plt.legend()\n",
    "    plt.ylabel(thing)\n",
    "    plt.xlabel('Dynamic Stopping')\n",
    "    plt.rc('axes',labelsize=13)\n",
    "    plt.rc('axes',titlesize=13)\n",
    "    plt.savefig(f'figures/final_model_ind_dyn_{thing}.pdf')"
   ]
  },
  {
   "cell_type": "code",
   "execution_count": 10,
   "metadata": {},
   "outputs": [
    {
     "name": "stdout",
     "output_type": "stream",
     "text": [
      "1.7298974639528197 data/predictions/final_model_ind_dyn4_s2.predictions\n",
      "0.5596704947566871 data/predictions/final_model_ind_dyn4_s2.predictions\n"
     ]
    }
   ],
   "source": [
    "#step 3 -- Generating the mean and standard deviation of the deployed model on the independent test set\n",
    "predfiles=glob.glob(\"data/predictions/final_model_ind_dyn4_*.predictions\")\n",
    "bestRMSEmodel=\"\"\n",
    "bestR2model=\"\"\n",
    "bRMSE=99999\n",
    "bR2=-1\n",
    "rmses=[]\n",
    "r2s=[]\n",
    "for f in predfiles:\n",
    "    tmp=pd.read_csv(f)\n",
    "    preds.append(tmp['pred'].to_list())\n",
    "    g=np.array(tmp['true'].to_list())\n",
    "    p=np.array(tmp['pred'].to_list())\n",
    "    ccvRMSE,ccvR2=get_stats(g,p)\n",
    "    rmses.append(ccvRMSE)\n",
    "    r2s.append(ccvR2)\n",
    "    if ccvRMSE < bRMSE:\n",
    "        bRMSE=ccvRMSE\n",
    "        bestRMSEmodel=f\n",
    "    if ccvR2 > bR2:\n",
    "        bR2=ccvR2\n",
    "        bestR2model=f\n",
    "print(bRMSE,bestRMSEmodel)\n",
    "print(bR2,bestR2model)"
   ]
  },
  {
   "cell_type": "code",
   "execution_count": 11,
   "metadata": {},
   "outputs": [
    {
     "name": "stdout",
     "output_type": "stream",
     "text": [
      "1.8360374383793598 0.07940531458138983\n",
      "0.5157489148948112 0.038228455128320564\n"
     ]
    }
   ],
   "source": [
    "print(np.mean(rmses),np.std(rmses))\n",
    "print(np.mean(r2s),np.std(r2s))"
   ]
  },
  {
   "cell_type": "code",
   "execution_count": 12,
   "metadata": {},
   "outputs": [
    {
     "data": {
      "text/plain": [
       "{'R2': [0.4947262470095967,\n",
       "  0.5332522416933896,\n",
       "  0.45188156560998505,\n",
       "  0.5596704947566871,\n",
       "  0.5392140254043978],\n",
       " 'RMSE': [1.9128052790850683,\n",
       "  1.812051724198106,\n",
       "  1.9413553473499459,\n",
       "  1.7298974639528197,\n",
       "  1.784077377310859],\n",
       " 'ensR2': 0.5237005102474375,\n",
       " 'ensRMSE': 1.7902392550016328}"
      ]
     },
     "execution_count": 12,
     "metadata": {},
     "output_type": "execute_result"
    }
   ],
   "source": [
    "data[4]"
   ]
  },
  {
   "cell_type": "code",
   "execution_count": 15,
   "metadata": {},
   "outputs": [
    {
     "name": "stdout",
     "output_type": "stream",
     "text": [
      "1.1649626215952023 0.7661957869888636\n"
     ]
    }
   ],
   "source": [
    "#step 4 -- Generating the data for the training set\n",
    "todo=glob.glob('data/training_data/final_model/*dyn4*testdic.pi')\n",
    "rmses=[]\n",
    "r2s=[]\n",
    "for fname in todo:\n",
    "    dic=pickle.load(open(fname,'rb'))\n",
    "    rmses.append(dic['RMSE'])\n",
    "    r2s.append(dic['R2'])\n",
    "    if 'seed2' in fname:\n",
    "        print(dic['RMSE'],dic['R2'])"
   ]
  },
  {
   "cell_type": "code",
   "execution_count": 16,
   "metadata": {},
   "outputs": [
    {
     "name": "stdout",
     "output_type": "stream",
     "text": [
      "1.2230811311183418 0.08687100425512048\n",
      "0.75032258868336 0.021170613525794735\n"
     ]
    }
   ],
   "source": [
    "print(np.mean(rmses),np.std(rmses))\n",
    "print(np.mean(r2s),np.std(r2s))"
   ]
  },
  {
   "cell_type": "markdown",
   "metadata": {},
   "source": [
    "## Generating the figures for 2D vs 3D embeddings of the molecule"
   ]
  },
  {
   "cell_type": "code",
   "execution_count": 17,
   "metadata": {},
   "outputs": [],
   "source": [
    "# need 2D vs 3D plots & t-test for significance for the first 10 models.\n",
    "def plotter(xlabel,ylabel,hue,dataframe,savename):\n",
    "    fig=plt.figure()\n",
    "    sns.boxplot(xlabel,ylabel,data=dataframe,color='w')\n",
    "    a=sns.swarmplot(xlabel,ylabel,hue=hue,data=df)\n",
    "    plt.legend(bbox_to_anchor=(1.05,1),loc=2)\n",
    "    plt.tight_layout()\n",
    "    plt.savefig(savename)"
   ]
  },
  {
   "cell_type": "code",
   "execution_count": 20,
   "metadata": {},
   "outputs": [],
   "source": [
    "df=pd.read_csv('data/model_selection.csv')"
   ]
  },
  {
   "cell_type": "code",
   "execution_count": 21,
   "metadata": {},
   "outputs": [
    {
     "data": {
      "image/png": "[encoded data removed]",
      "text/plain": [
       "<Figure size 432x288 with 1 Axes>"
      ]
     },
     "metadata": {
      "needs_background": "light"
     },
     "output_type": "display_data"
    }
   ],
   "source": [
    "plotter('2D','R2','model',df,'figures/2dv3d_r2.pdf')"
   ]
  },
  {
   "cell_type": "code",
   "execution_count": 22,
   "metadata": {},
   "outputs": [
    {
     "data": {
      "text/plain": [
       "Ttest_indResult(statistic=-1.6514130654734087, pvalue=0.11599231168237253)"
      ]
     },
     "execution_count": 22,
     "metadata": {},
     "output_type": "execute_result"
    }
   ],
   "source": [
    "#T-Test for the above plot\n",
    "ttest_ind(df[df['2D']==True]['R2'],df[df['2D']==False]['R2'])"
   ]
  },
  {
   "cell_type": "code",
   "execution_count": 23,
   "metadata": {},
   "outputs": [
    {
     "data": {
      "image/png": "[encoded data removed]",
      "text/plain": [
       "<Figure size 432x288 with 1 Axes>"
      ]
     },
     "metadata": {
      "needs_background": "light"
     },
     "output_type": "display_data"
    }
   ],
   "source": [
    "plotter('2D','RMSE','model',df,'figures/2dv3d_rmse.pdf')"
   ]
  },
  {
   "cell_type": "code",
   "execution_count": 24,
   "metadata": {},
   "outputs": [
    {
     "data": {
      "text/plain": [
       "Ttest_indResult(statistic=1.528668871470288, pvalue=0.14372944251741623)"
      ]
     },
     "execution_count": 24,
     "metadata": {},
     "output_type": "execute_result"
    }
   ],
   "source": [
    "#T-Test for the above plot\n",
    "ttest_ind(df[df['2D']==True]['RMSE'],df[df['2D']==False]['RMSE'])"
   ]
  },
  {
   "cell_type": "markdown",
   "metadata": {},
   "source": [
    "## Generating the figures for Fragmenting Salt analysis"
   ]
  },
  {
   "cell_type": "code",
   "execution_count": 25,
   "metadata": {},
   "outputs": [],
   "source": [
    "basedirs=['final_model_full_saltfragafter','final_model_noothers_saltfragafter','final_model_others2plus_saltfragafter','final_model_othersMW_saltfragafter']\n",
    "saltfrag_data={}\n",
    "for d in basedirs:\n",
    "    saltfrag_data[d]={}\n",
    "    for thing in ['train_test','trainsalt_test','train_testsalt','trainsalt_testsalt']:\n",
    "        saltfrag_data[d][thing]={'RMSEs':[],'R2s':[]}\n",
    "        for seed in ['0','1','2','3','4']:\n",
    "            preds=np.array([])\n",
    "            golds=np.array([])\n",
    "\n",
    "            #we are working with full ccv for training to predict the removed test set\n",
    "            predfiles=glob.glob(f'data/predictions/{d}/*{thing}_s{seed}f*.predictions')\n",
    "            for f in predfiles:\n",
    "                tmp=pd.read_csv(f)\n",
    "                g=np.array(tmp['true'].to_list())\n",
    "                p=np.array(tmp['pred'].to_list())\n",
    "                golds=np.append(golds,g)\n",
    "                preds=np.append(preds,p)\n",
    "            #now that we have the full preds and golds arrays we can calculate the R2 and RMSE\n",
    "            ccvRMSE,ccvR2=get_stats(preds,golds)\n",
    "            saltfrag_data[d][thing]['RMSEs'].append(ccvRMSE)\n",
    "            saltfrag_data[d][thing]['R2s'].append(ccvR2) "
   ]
  },
  {
   "cell_type": "code",
   "execution_count": 27,
   "metadata": {
    "scrolled": true
   },
   "outputs": [
    {
     "name": "stdout",
     "output_type": "stream",
     "text": [
      "Full Aqsol Data R2s Ttest_indResult(statistic=2.1934859709055674, pvalue=0.059596186794829656)\n",
      "Full Aqsol Data R2s Ttest_indResult(statistic=-1.4496020124670712, pvalue=0.1852121098547752)\n",
      "Full Aqsol Data RMSEs Ttest_indResult(statistic=0.39843371673204203, pvalue=0.7007329710106283)\n",
      "Full Aqsol Data RMSEs Ttest_indResult(statistic=1.0367278229758814, pvalue=0.3301805727392053)\n",
      "Aqsol Without Other typed molecules R2s Ttest_indResult(statistic=1.5682761197747412, pvalue=0.15545399812278501)\n",
      "Aqsol Without Other typed molecules R2s Ttest_indResult(statistic=-3.2559355988055563, pvalue=0.011597594438226016)\n",
      "Aqsol Without Other typed molecules RMSEs Ttest_indResult(statistic=-0.945887667575338, pvalue=0.371895084315655)\n",
      "Aqsol Without Other typed molecules RMSEs Ttest_indResult(statistic=1.9676839728315874, pvalue=0.08464632784846401)\n",
      "Aqsol Without 1 atom Other typed molecules R2s Ttest_indResult(statistic=2.7779296914994833, pvalue=0.02400111699633856)\n",
      "Aqsol Without 1 atom Other typed molecules R2s Ttest_indResult(statistic=-2.526138892389215, pvalue=0.035468051815582824)\n",
      "Aqsol Without 1 atom Other typed molecules RMSEs Ttest_indResult(statistic=-2.1644353901546602, pvalue=0.06235693598947449)\n",
      "Aqsol Without 1 atom Other typed molecules RMSEs Ttest_indResult(statistic=1.3135628828907588, pvalue=0.2254118120305322)\n",
      "Aqsol without Other typed molecules with < mean Molecular Weight R2s Ttest_indResult(statistic=0.7494238367657104, pvalue=0.4750594687862971)\n",
      "Aqsol without Other typed molecules with < mean Molecular Weight R2s Ttest_indResult(statistic=-1.793951157862187, pvalue=0.11057025335519352)\n",
      "Aqsol without Other typed molecules with < mean Molecular Weight RMSEs Ttest_indResult(statistic=-1.1642345090672754, pvalue=0.27787162722027625)\n",
      "Aqsol without Other typed molecules with < mean Molecular Weight RMSEs Ttest_indResult(statistic=-0.03706364869486496, pvalue=0.9713424278532778)\n"
     ]
    },
    {
     "data": {
      "image/png": "[encoded data removed]",
      "text/plain": [
       "<Figure size 432x288 with 1 Axes>"
      ]
     },
     "metadata": {
      "needs_background": "light"
     },
     "output_type": "display_data"
    },
    {
     "data": {
      "image/png": "[encoded data removed]",
      "text/plain": [
       "<Figure size 432x288 with 1 Axes>"
      ]
     },
     "metadata": {
      "needs_background": "light"
     },
     "output_type": "display_data"
    },
    {
     "data": {
      "image/png": "[encoded data removed]",
      "text/plain": [
       "<Figure size 432x288 with 1 Axes>"
      ]
     },
     "metadata": {
      "needs_background": "light"
     },
     "output_type": "display_data"
    },
    {
     "data": {
      "image/png": "[encoded data removed]",
      "text/plain": [
       "<Figure size 432x288 with 1 Axes>"
      ]
     },
     "metadata": {
      "needs_background": "light"
     },
     "output_type": "display_data"
    },
    {
     "data": {
      "image/png": "[encoded data removed]",
      "text/plain": [
       "<Figure size 432x288 with 1 Axes>"
      ]
     },
     "metadata": {
      "needs_background": "light"
     },
     "output_type": "display_data"
    },
    {
     "data": {
      "image/png": "[encoded data removed]",
      "text/plain": [
       "<Figure size 432x288 with 1 Axes>"
      ]
     },
     "metadata": {
      "needs_background": "light"
     },
     "output_type": "display_data"
    },
    {
     "data": {
      "image/png": "[encoded data removed]",
      "text/plain": [
       "<Figure size 432x288 with 1 Axes>"
      ]
     },
     "metadata": {
      "needs_background": "light"
     },
     "output_type": "display_data"
    },
    {
     "data": {
      "image/png": "[encoded data removed]",
      "text/plain": [
       "<Figure size 432x288 with 1 Axes>"
      ]
     },
     "metadata": {
      "needs_background": "light"
     },
     "output_type": "display_data"
    }
   ],
   "source": [
    "lookup_titles={\n",
    "    'final_model_full_saltfragafter':'Full Aqsol Data',\n",
    "    'final_model_noothers_saltfragafter':'Aqsol Without Other typed molecules',\n",
    "    'final_model_others2plus_saltfragafter':'Aqsol Without 1 atom Other typed molecules',\n",
    "    'final_model_othersMW_saltfragafter':'Aqsol without Other typed molecules with < mean Molecular Weight'\n",
    "}\n",
    "\n",
    "color_lookup={0:'purple',1:'green'}\n",
    "label_lookup={\n",
    "    0:'Train: Fragment Salt',\n",
    "    1:'Train: Normal',\n",
    "}\n",
    "for d in basedirs:\n",
    "    for thing in ['R2s','RMSEs']:\n",
    "        fig,ax=plt.subplots()\n",
    "        toplot=[]\n",
    "        labels=['train_test','trainSF_test','train_testSF','trainSF_testSF']\n",
    "        for x in labels:\n",
    "            toplot.append(saltfrag_data[d][x.replace('SF','salt')][thing])\n",
    "        ax.boxplot(toplot)\n",
    "        \n",
    "        x=1\n",
    "        for item in [[toplot[0],toplot[2]],[toplot[1],toplot[3]]]:\n",
    "            ax.scatter([[x,x,x,x,x],[x+2,x+2,x+2,x+2,x+2]],item,label=label_lookup[x%2],color=color_lookup[x%2])\n",
    "            x+=1\n",
    "        #plt.scatter([[1,1,1,1,1],[2,2,2,2,2],[3,3,3,3,3],[4,4,4,4,4]],toplot,label=['Train: Salts','Train: Fragmented Salt','Train: Salts','Train: Fragmented Salt'],color=plot_colors)\n",
    "        plt.xticks([1,2,3,4],['Normal','Normal','Fragment','Fragment'])\n",
    "        plt.title(lookup_titles[d])\n",
    "        if thing=='RMSEs':\n",
    "            plt.ylim((1.0,1.72))\n",
    "        else:\n",
    "            plt.ylim((0.55,0.80))\n",
    "        plt.ylabel(thing.replace('s',''))\n",
    "        plt.legend()\n",
    "        plt.xlabel('Test Set')\n",
    "        plt.savefig(f'figures/{d.split(\"_\")[-2]}_saltfragfirst_{thing}_boxplots.pdf')\n",
    "        \n",
    "        print(f'{lookup_titles[d]} {thing} {ttest_ind(toplot[0],toplot[1])}')\n",
    "        print(f'{lookup_titles[d]} {thing} {ttest_ind(toplot[2],toplot[3])}')"
   ]
  },
  {
   "cell_type": "markdown",
   "metadata": {},
   "source": [
    "## Generating the timing analysis here"
   ]
  },
  {
   "cell_type": "code",
   "execution_count": 4,
   "metadata": {},
   "outputs": [],
   "source": [
    "os.chdir('src')\n",
    "from data_utils import load_data_from_df as load_df_gpu\n",
    "from data_utils import construct_loader as construct_loader_gpu\n",
    "from data_utils import load_data_from_smiles as load_smiles_gpu\n",
    "\n",
    "from cpu_data_utils import load_data_from_df as load_df_cpu\n",
    "from cpu_data_utils import construct_loader as construct_loader_cpu\n",
    "from cpu_data_utils import load_data_from_smiles as load_smiles_cpu\n",
    "\n",
    "from transformer import make_model\n",
    "import time"
   ]
  },
  {
   "cell_type": "code",
   "execution_count": 5,
   "metadata": {},
   "outputs": [],
   "source": [
    "def complex_measure(model,list_of_smiles,two_d=False,model_cpu=False):\n",
    "    '''\n",
    "    A more complicated measure of the forward-pass.\n",
    "    \n",
    "    This function takes in a list of smile strings, then will create the needed molecular graphs & run the forward-pass\n",
    "    \n",
    "    Assumes the model is in evaluate mode\n",
    "    '''\n",
    "    t0=time.time()\n",
    "    ls=[0.0 for x in list_of_smiles]\n",
    "    t1=time.time()\n",
    "    if model_cpu:\n",
    "        X,y=load_smiles_cpu(list_of_smiles,ls,add_dummy_node=True,one_hot_formal_charge=True,two_d_only=two_d)\n",
    "    else:\n",
    "        X,y=load_smiles_gpu(list_of_smiles,ls,add_dummy_node=True,one_hot_formal_charge=True,two_d_only=two_d)\n",
    "    tload=time.time()-t1\n",
    "    if model_cpu:\n",
    "        data_loader=construct_loader_cpu(X,y,1)\n",
    "    else:\n",
    "        data_loader=construct_loader_gpu(X,y,1)\n",
    "    for batch in data_loader:\n",
    "        adjacency_matrix, node_features, distance_matrix, y = batch\n",
    "        batch_mask = torch.sum(torch.abs(node_features), dim=-1) != 0\n",
    "        y_pred = model(node_features, batch_mask, adjacency_matrix, distance_matrix, None)\n",
    "    elapsed_fp=time.time()-t0\n",
    "    return elapsed_fp,tload"
   ]
  },
  {
   "cell_type": "code",
   "execution_count": 6,
   "metadata": {
    "collapsed": true
   },
   "outputs": [
    {
     "data": {
      "text/plain": [
       "GraphTransformer(\n",
       "  (encoder): Encoder(\n",
       "    (layers): ModuleList(\n",
       "      (0): EncoderLayer(\n",
       "        (self_attn): MultiHeadedAttention(\n",
       "          (linears): ModuleList(\n",
       "            (0): Linear(in_features=1024, out_features=1024, bias=True)\n",
       "            (1): Linear(in_features=1024, out_features=1024, bias=True)\n",
       "            (2): Linear(in_features=1024, out_features=1024, bias=True)\n",
       "            (3): Linear(in_features=1024, out_features=1024, bias=True)\n",
       "          )\n",
       "          (dropout): Dropout(p=0.0, inplace=False)\n",
       "        )\n",
       "        (feed_forward): PositionwiseFeedForward(\n",
       "          (linears): ModuleList(\n",
       "            (0): Linear(in_features=1024, out_features=1024, bias=True)\n",
       "          )\n",
       "          (dropout): ModuleList(\n",
       "            (0): Dropout(p=0.0, inplace=False)\n",
       "          )\n",
       "        )\n",
       "        (sublayer): ModuleList(\n",
       "          (0): SublayerConnection(\n",
       "            (norm): LayerNorm()\n",
       "            (dropout): Dropout(p=0.0, inplace=False)\n",
       "          )\n",
       "          (1): SublayerConnection(\n",
       "            (norm): LayerNorm()\n",
       "            (dropout): Dropout(p=0.0, inplace=False)\n",
       "          )\n",
       "        )\n",
       "      )\n",
       "      (1): EncoderLayer(\n",
       "        (self_attn): MultiHeadedAttention(\n",
       "          (linears): ModuleList(\n",
       "            (0): Linear(in_features=1024, out_features=1024, bias=True)\n",
       "            (1): Linear(in_features=1024, out_features=1024, bias=True)\n",
       "            (2): Linear(in_features=1024, out_features=1024, bias=True)\n",
       "            (3): Linear(in_features=1024, out_features=1024, bias=True)\n",
       "          )\n",
       "          (dropout): Dropout(p=0.0, inplace=False)\n",
       "        )\n",
       "        (feed_forward): PositionwiseFeedForward(\n",
       "          (linears): ModuleList(\n",
       "            (0): Linear(in_features=1024, out_features=1024, bias=True)\n",
       "          )\n",
       "          (dropout): ModuleList(\n",
       "            (0): Dropout(p=0.0, inplace=False)\n",
       "          )\n",
       "        )\n",
       "        (sublayer): ModuleList(\n",
       "          (0): SublayerConnection(\n",
       "            (norm): LayerNorm()\n",
       "            (dropout): Dropout(p=0.0, inplace=False)\n",
       "          )\n",
       "          (1): SublayerConnection(\n",
       "            (norm): LayerNorm()\n",
       "            (dropout): Dropout(p=0.0, inplace=False)\n",
       "          )\n",
       "        )\n",
       "      )\n",
       "      (2): EncoderLayer(\n",
       "        (self_attn): MultiHeadedAttention(\n",
       "          (linears): ModuleList(\n",
       "            (0): Linear(in_features=1024, out_features=1024, bias=True)\n",
       "            (1): Linear(in_features=1024, out_features=1024, bias=True)\n",
       "            (2): Linear(in_features=1024, out_features=1024, bias=True)\n",
       "            (3): Linear(in_features=1024, out_features=1024, bias=True)\n",
       "          )\n",
       "          (dropout): Dropout(p=0.0, inplace=False)\n",
       "        )\n",
       "        (feed_forward): PositionwiseFeedForward(\n",
       "          (linears): ModuleList(\n",
       "            (0): Linear(in_features=1024, out_features=1024, bias=True)\n",
       "          )\n",
       "          (dropout): ModuleList(\n",
       "            (0): Dropout(p=0.0, inplace=False)\n",
       "          )\n",
       "        )\n",
       "        (sublayer): ModuleList(\n",
       "          (0): SublayerConnection(\n",
       "            (norm): LayerNorm()\n",
       "            (dropout): Dropout(p=0.0, inplace=False)\n",
       "          )\n",
       "          (1): SublayerConnection(\n",
       "            (norm): LayerNorm()\n",
       "            (dropout): Dropout(p=0.0, inplace=False)\n",
       "          )\n",
       "        )\n",
       "      )\n",
       "      (3): EncoderLayer(\n",
       "        (self_attn): MultiHeadedAttention(\n",
       "          (linears): ModuleList(\n",
       "            (0): Linear(in_features=1024, out_features=1024, bias=True)\n",
       "            (1): Linear(in_features=1024, out_features=1024, bias=True)\n",
       "            (2): Linear(in_features=1024, out_features=1024, bias=True)\n",
       "            (3): Linear(in_features=1024, out_features=1024, bias=True)\n",
       "          )\n",
       "          (dropout): Dropout(p=0.0, inplace=False)\n",
       "        )\n",
       "        (feed_forward): PositionwiseFeedForward(\n",
       "          (linears): ModuleList(\n",
       "            (0): Linear(in_features=1024, out_features=1024, bias=True)\n",
       "          )\n",
       "          (dropout): ModuleList(\n",
       "            (0): Dropout(p=0.0, inplace=False)\n",
       "          )\n",
       "        )\n",
       "        (sublayer): ModuleList(\n",
       "          (0): SublayerConnection(\n",
       "            (norm): LayerNorm()\n",
       "            (dropout): Dropout(p=0.0, inplace=False)\n",
       "          )\n",
       "          (1): SublayerConnection(\n",
       "            (norm): LayerNorm()\n",
       "            (dropout): Dropout(p=0.0, inplace=False)\n",
       "          )\n",
       "        )\n",
       "      )\n",
       "      (4): EncoderLayer(\n",
       "        (self_attn): MultiHeadedAttention(\n",
       "          (linears): ModuleList(\n",
       "            (0): Linear(in_features=1024, out_features=1024, bias=True)\n",
       "            (1): Linear(in_features=1024, out_features=1024, bias=True)\n",
       "            (2): Linear(in_features=1024, out_features=1024, bias=True)\n",
       "            (3): Linear(in_features=1024, out_features=1024, bias=True)\n",
       "          )\n",
       "          (dropout): Dropout(p=0.0, inplace=False)\n",
       "        )\n",
       "        (feed_forward): PositionwiseFeedForward(\n",
       "          (linears): ModuleList(\n",
       "            (0): Linear(in_features=1024, out_features=1024, bias=True)\n",
       "          )\n",
       "          (dropout): ModuleList(\n",
       "            (0): Dropout(p=0.0, inplace=False)\n",
       "          )\n",
       "        )\n",
       "        (sublayer): ModuleList(\n",
       "          (0): SublayerConnection(\n",
       "            (norm): LayerNorm()\n",
       "            (dropout): Dropout(p=0.0, inplace=False)\n",
       "          )\n",
       "          (1): SublayerConnection(\n",
       "            (norm): LayerNorm()\n",
       "            (dropout): Dropout(p=0.0, inplace=False)\n",
       "          )\n",
       "        )\n",
       "      )\n",
       "      (5): EncoderLayer(\n",
       "        (self_attn): MultiHeadedAttention(\n",
       "          (linears): ModuleList(\n",
       "            (0): Linear(in_features=1024, out_features=1024, bias=True)\n",
       "            (1): Linear(in_features=1024, out_features=1024, bias=True)\n",
       "            (2): Linear(in_features=1024, out_features=1024, bias=True)\n",
       "            (3): Linear(in_features=1024, out_features=1024, bias=True)\n",
       "          )\n",
       "          (dropout): Dropout(p=0.0, inplace=False)\n",
       "        )\n",
       "        (feed_forward): PositionwiseFeedForward(\n",
       "          (linears): ModuleList(\n",
       "            (0): Linear(in_features=1024, out_features=1024, bias=True)\n",
       "          )\n",
       "          (dropout): ModuleList(\n",
       "            (0): Dropout(p=0.0, inplace=False)\n",
       "          )\n",
       "        )\n",
       "        (sublayer): ModuleList(\n",
       "          (0): SublayerConnection(\n",
       "            (norm): LayerNorm()\n",
       "            (dropout): Dropout(p=0.0, inplace=False)\n",
       "          )\n",
       "          (1): SublayerConnection(\n",
       "            (norm): LayerNorm()\n",
       "            (dropout): Dropout(p=0.0, inplace=False)\n",
       "          )\n",
       "        )\n",
       "      )\n",
       "      (6): EncoderLayer(\n",
       "        (self_attn): MultiHeadedAttention(\n",
       "          (linears): ModuleList(\n",
       "            (0): Linear(in_features=1024, out_features=1024, bias=True)\n",
       "            (1): Linear(in_features=1024, out_features=1024, bias=True)\n",
       "            (2): Linear(in_features=1024, out_features=1024, bias=True)\n",
       "            (3): Linear(in_features=1024, out_features=1024, bias=True)\n",
       "          )\n",
       "          (dropout): Dropout(p=0.0, inplace=False)\n",
       "        )\n",
       "        (feed_forward): PositionwiseFeedForward(\n",
       "          (linears): ModuleList(\n",
       "            (0): Linear(in_features=1024, out_features=1024, bias=True)\n",
       "          )\n",
       "          (dropout): ModuleList(\n",
       "            (0): Dropout(p=0.0, inplace=False)\n",
       "          )\n",
       "        )\n",
       "        (sublayer): ModuleList(\n",
       "          (0): SublayerConnection(\n",
       "            (norm): LayerNorm()\n",
       "            (dropout): Dropout(p=0.0, inplace=False)\n",
       "          )\n",
       "          (1): SublayerConnection(\n",
       "            (norm): LayerNorm()\n",
       "            (dropout): Dropout(p=0.0, inplace=False)\n",
       "          )\n",
       "        )\n",
       "      )\n",
       "      (7): EncoderLayer(\n",
       "        (self_attn): MultiHeadedAttention(\n",
       "          (linears): ModuleList(\n",
       "            (0): Linear(in_features=1024, out_features=1024, bias=True)\n",
       "            (1): Linear(in_features=1024, out_features=1024, bias=True)\n",
       "            (2): Linear(in_features=1024, out_features=1024, bias=True)\n",
       "            (3): Linear(in_features=1024, out_features=1024, bias=True)\n",
       "          )\n",
       "          (dropout): Dropout(p=0.0, inplace=False)\n",
       "        )\n",
       "        (feed_forward): PositionwiseFeedForward(\n",
       "          (linears): ModuleList(\n",
       "            (0): Linear(in_features=1024, out_features=1024, bias=True)\n",
       "          )\n",
       "          (dropout): ModuleList(\n",
       "            (0): Dropout(p=0.0, inplace=False)\n",
       "          )\n",
       "        )\n",
       "        (sublayer): ModuleList(\n",
       "          (0): SublayerConnection(\n",
       "            (norm): LayerNorm()\n",
       "            (dropout): Dropout(p=0.0, inplace=False)\n",
       "          )\n",
       "          (1): SublayerConnection(\n",
       "            (norm): LayerNorm()\n",
       "            (dropout): Dropout(p=0.0, inplace=False)\n",
       "          )\n",
       "        )\n",
       "      )\n",
       "    )\n",
       "    (norm): LayerNorm()\n",
       "  )\n",
       "  (src_embed): Embeddings(\n",
       "    (lut): Linear(in_features=28, out_features=1024, bias=True)\n",
       "    (dropout): Dropout(p=0.0, inplace=False)\n",
       "  )\n",
       "  (generator): Generator(\n",
       "    (proj): Linear(in_features=1024, out_features=1, bias=True)\n",
       "  )\n",
       ")"
      ]
     },
     "execution_count": 6,
     "metadata": {},
     "output_type": "execute_result"
    }
   ],
   "source": [
    "#making the original MAT implementation -- GPU\n",
    "d_atom=28\n",
    "mat_model_params = {\n",
    "    'd_atom': d_atom,\n",
    "    'd_model': 1024,\n",
    "    'N': 8,\n",
    "    'h': 16,\n",
    "    'N_dense': 1,\n",
    "    'lambda_attention': 0.33, \n",
    "    'lambda_distance': 0.33,\n",
    "    'leaky_relu_slope': 0.1, \n",
    "    'dense_output_nonlinearity': 'relu', \n",
    "    'distance_matrix_kernel': 'exp', \n",
    "    'dropout': 0.0,\n",
    "    'aggregation_type': 'mean'\n",
    "}\n",
    "\n",
    "stn_model_params = {\n",
    "    'd_atom': d_atom,\n",
    "    'd_model': 8,\n",
    "    'N': 8,\n",
    "    'h': 2,\n",
    "    'N_dense': 1,\n",
    "    'lambda_attention': 0.5, \n",
    "    'lambda_distance': 0.0,\n",
    "    'leaky_relu_slope': 0.1, \n",
    "    'dense_output_nonlinearity': 'relu', \n",
    "    'distance_matrix_kernel': 'exp', \n",
    "    'dropout': 0.1,\n",
    "    'aggregation_type': 'mean'\n",
    "}\n",
    "\n",
    "mat_gpu=make_model(**mat_model_params)\n",
    "\n",
    "mat_gpu.to('cuda')"
   ]
  },
  {
   "cell_type": "code",
   "execution_count": 7,
   "metadata": {
    "collapsed": true
   },
   "outputs": [
    {
     "data": {
      "text/plain": [
       "GraphTransformer(\n",
       "  (encoder): Encoder(\n",
       "    (layers): ModuleList(\n",
       "      (0): EncoderLayer(\n",
       "        (self_attn): MultiHeadedAttention(\n",
       "          (linears): ModuleList(\n",
       "            (0): Linear(in_features=8, out_features=8, bias=True)\n",
       "            (1): Linear(in_features=8, out_features=8, bias=True)\n",
       "            (2): Linear(in_features=8, out_features=8, bias=True)\n",
       "            (3): Linear(in_features=8, out_features=8, bias=True)\n",
       "          )\n",
       "          (dropout): Dropout(p=0.1, inplace=False)\n",
       "        )\n",
       "        (feed_forward): PositionwiseFeedForward(\n",
       "          (linears): ModuleList(\n",
       "            (0): Linear(in_features=8, out_features=8, bias=True)\n",
       "          )\n",
       "          (dropout): ModuleList(\n",
       "            (0): Dropout(p=0.1, inplace=False)\n",
       "          )\n",
       "        )\n",
       "        (sublayer): ModuleList(\n",
       "          (0): SublayerConnection(\n",
       "            (norm): LayerNorm()\n",
       "            (dropout): Dropout(p=0.1, inplace=False)\n",
       "          )\n",
       "          (1): SublayerConnection(\n",
       "            (norm): LayerNorm()\n",
       "            (dropout): Dropout(p=0.1, inplace=False)\n",
       "          )\n",
       "        )\n",
       "      )\n",
       "      (1): EncoderLayer(\n",
       "        (self_attn): MultiHeadedAttention(\n",
       "          (linears): ModuleList(\n",
       "            (0): Linear(in_features=8, out_features=8, bias=True)\n",
       "            (1): Linear(in_features=8, out_features=8, bias=True)\n",
       "            (2): Linear(in_features=8, out_features=8, bias=True)\n",
       "            (3): Linear(in_features=8, out_features=8, bias=True)\n",
       "          )\n",
       "          (dropout): Dropout(p=0.1, inplace=False)\n",
       "        )\n",
       "        (feed_forward): PositionwiseFeedForward(\n",
       "          (linears): ModuleList(\n",
       "            (0): Linear(in_features=8, out_features=8, bias=True)\n",
       "          )\n",
       "          (dropout): ModuleList(\n",
       "            (0): Dropout(p=0.1, inplace=False)\n",
       "          )\n",
       "        )\n",
       "        (sublayer): ModuleList(\n",
       "          (0): SublayerConnection(\n",
       "            (norm): LayerNorm()\n",
       "            (dropout): Dropout(p=0.1, inplace=False)\n",
       "          )\n",
       "          (1): SublayerConnection(\n",
       "            (norm): LayerNorm()\n",
       "            (dropout): Dropout(p=0.1, inplace=False)\n",
       "          )\n",
       "        )\n",
       "      )\n",
       "      (2): EncoderLayer(\n",
       "        (self_attn): MultiHeadedAttention(\n",
       "          (linears): ModuleList(\n",
       "            (0): Linear(in_features=8, out_features=8, bias=True)\n",
       "            (1): Linear(in_features=8, out_features=8, bias=True)\n",
       "            (2): Linear(in_features=8, out_features=8, bias=True)\n",
       "            (3): Linear(in_features=8, out_features=8, bias=True)\n",
       "          )\n",
       "          (dropout): Dropout(p=0.1, inplace=False)\n",
       "        )\n",
       "        (feed_forward): PositionwiseFeedForward(\n",
       "          (linears): ModuleList(\n",
       "            (0): Linear(in_features=8, out_features=8, bias=True)\n",
       "          )\n",
       "          (dropout): ModuleList(\n",
       "            (0): Dropout(p=0.1, inplace=False)\n",
       "          )\n",
       "        )\n",
       "        (sublayer): ModuleList(\n",
       "          (0): SublayerConnection(\n",
       "            (norm): LayerNorm()\n",
       "            (dropout): Dropout(p=0.1, inplace=False)\n",
       "          )\n",
       "          (1): SublayerConnection(\n",
       "            (norm): LayerNorm()\n",
       "            (dropout): Dropout(p=0.1, inplace=False)\n",
       "          )\n",
       "        )\n",
       "      )\n",
       "      (3): EncoderLayer(\n",
       "        (self_attn): MultiHeadedAttention(\n",
       "          (linears): ModuleList(\n",
       "            (0): Linear(in_features=8, out_features=8, bias=True)\n",
       "            (1): Linear(in_features=8, out_features=8, bias=True)\n",
       "            (2): Linear(in_features=8, out_features=8, bias=True)\n",
       "            (3): Linear(in_features=8, out_features=8, bias=True)\n",
       "          )\n",
       "          (dropout): Dropout(p=0.1, inplace=False)\n",
       "        )\n",
       "        (feed_forward): PositionwiseFeedForward(\n",
       "          (linears): ModuleList(\n",
       "            (0): Linear(in_features=8, out_features=8, bias=True)\n",
       "          )\n",
       "          (dropout): ModuleList(\n",
       "            (0): Dropout(p=0.1, inplace=False)\n",
       "          )\n",
       "        )\n",
       "        (sublayer): ModuleList(\n",
       "          (0): SublayerConnection(\n",
       "            (norm): LayerNorm()\n",
       "            (dropout): Dropout(p=0.1, inplace=False)\n",
       "          )\n",
       "          (1): SublayerConnection(\n",
       "            (norm): LayerNorm()\n",
       "            (dropout): Dropout(p=0.1, inplace=False)\n",
       "          )\n",
       "        )\n",
       "      )\n",
       "      (4): EncoderLayer(\n",
       "        (self_attn): MultiHeadedAttention(\n",
       "          (linears): ModuleList(\n",
       "            (0): Linear(in_features=8, out_features=8, bias=True)\n",
       "            (1): Linear(in_features=8, out_features=8, bias=True)\n",
       "            (2): Linear(in_features=8, out_features=8, bias=True)\n",
       "            (3): Linear(in_features=8, out_features=8, bias=True)\n",
       "          )\n",
       "          (dropout): Dropout(p=0.1, inplace=False)\n",
       "        )\n",
       "        (feed_forward): PositionwiseFeedForward(\n",
       "          (linears): ModuleList(\n",
       "            (0): Linear(in_features=8, out_features=8, bias=True)\n",
       "          )\n",
       "          (dropout): ModuleList(\n",
       "            (0): Dropout(p=0.1, inplace=False)\n",
       "          )\n",
       "        )\n",
       "        (sublayer): ModuleList(\n",
       "          (0): SublayerConnection(\n",
       "            (norm): LayerNorm()\n",
       "            (dropout): Dropout(p=0.1, inplace=False)\n",
       "          )\n",
       "          (1): SublayerConnection(\n",
       "            (norm): LayerNorm()\n",
       "            (dropout): Dropout(p=0.1, inplace=False)\n",
       "          )\n",
       "        )\n",
       "      )\n",
       "      (5): EncoderLayer(\n",
       "        (self_attn): MultiHeadedAttention(\n",
       "          (linears): ModuleList(\n",
       "            (0): Linear(in_features=8, out_features=8, bias=True)\n",
       "            (1): Linear(in_features=8, out_features=8, bias=True)\n",
       "            (2): Linear(in_features=8, out_features=8, bias=True)\n",
       "            (3): Linear(in_features=8, out_features=8, bias=True)\n",
       "          )\n",
       "          (dropout): Dropout(p=0.1, inplace=False)\n",
       "        )\n",
       "        (feed_forward): PositionwiseFeedForward(\n",
       "          (linears): ModuleList(\n",
       "            (0): Linear(in_features=8, out_features=8, bias=True)\n",
       "          )\n",
       "          (dropout): ModuleList(\n",
       "            (0): Dropout(p=0.1, inplace=False)\n",
       "          )\n",
       "        )\n",
       "        (sublayer): ModuleList(\n",
       "          (0): SublayerConnection(\n",
       "            (norm): LayerNorm()\n",
       "            (dropout): Dropout(p=0.1, inplace=False)\n",
       "          )\n",
       "          (1): SublayerConnection(\n",
       "            (norm): LayerNorm()\n",
       "            (dropout): Dropout(p=0.1, inplace=False)\n",
       "          )\n",
       "        )\n",
       "      )\n",
       "      (6): EncoderLayer(\n",
       "        (self_attn): MultiHeadedAttention(\n",
       "          (linears): ModuleList(\n",
       "            (0): Linear(in_features=8, out_features=8, bias=True)\n",
       "            (1): Linear(in_features=8, out_features=8, bias=True)\n",
       "            (2): Linear(in_features=8, out_features=8, bias=True)\n",
       "            (3): Linear(in_features=8, out_features=8, bias=True)\n",
       "          )\n",
       "          (dropout): Dropout(p=0.1, inplace=False)\n",
       "        )\n",
       "        (feed_forward): PositionwiseFeedForward(\n",
       "          (linears): ModuleList(\n",
       "            (0): Linear(in_features=8, out_features=8, bias=True)\n",
       "          )\n",
       "          (dropout): ModuleList(\n",
       "            (0): Dropout(p=0.1, inplace=False)\n",
       "          )\n",
       "        )\n",
       "        (sublayer): ModuleList(\n",
       "          (0): SublayerConnection(\n",
       "            (norm): LayerNorm()\n",
       "            (dropout): Dropout(p=0.1, inplace=False)\n",
       "          )\n",
       "          (1): SublayerConnection(\n",
       "            (norm): LayerNorm()\n",
       "            (dropout): Dropout(p=0.1, inplace=False)\n",
       "          )\n",
       "        )\n",
       "      )\n",
       "      (7): EncoderLayer(\n",
       "        (self_attn): MultiHeadedAttention(\n",
       "          (linears): ModuleList(\n",
       "            (0): Linear(in_features=8, out_features=8, bias=True)\n",
       "            (1): Linear(in_features=8, out_features=8, bias=True)\n",
       "            (2): Linear(in_features=8, out_features=8, bias=True)\n",
       "            (3): Linear(in_features=8, out_features=8, bias=True)\n",
       "          )\n",
       "          (dropout): Dropout(p=0.1, inplace=False)\n",
       "        )\n",
       "        (feed_forward): PositionwiseFeedForward(\n",
       "          (linears): ModuleList(\n",
       "            (0): Linear(in_features=8, out_features=8, bias=True)\n",
       "          )\n",
       "          (dropout): ModuleList(\n",
       "            (0): Dropout(p=0.1, inplace=False)\n",
       "          )\n",
       "        )\n",
       "        (sublayer): ModuleList(\n",
       "          (0): SublayerConnection(\n",
       "            (norm): LayerNorm()\n",
       "            (dropout): Dropout(p=0.1, inplace=False)\n",
       "          )\n",
       "          (1): SublayerConnection(\n",
       "            (norm): LayerNorm()\n",
       "            (dropout): Dropout(p=0.1, inplace=False)\n",
       "          )\n",
       "        )\n",
       "      )\n",
       "    )\n",
       "    (norm): LayerNorm()\n",
       "  )\n",
       "  (src_embed): Embeddings(\n",
       "    (lut): Linear(in_features=28, out_features=8, bias=True)\n",
       "    (dropout): Dropout(p=0.1, inplace=False)\n",
       "  )\n",
       "  (generator): Generator(\n",
       "    (proj): Linear(in_features=8, out_features=1, bias=True)\n",
       "  )\n",
       ")"
      ]
     },
     "execution_count": 7,
     "metadata": {},
     "output_type": "execute_result"
    }
   ],
   "source": [
    "stn_gpu=make_model(**stn_model_params)\n",
    "stn_gpu.to('cuda')"
   ]
  },
  {
   "cell_type": "code",
   "execution_count": 8,
   "metadata": {},
   "outputs": [],
   "source": [
    "smis=open('../data/llinas2020/llinas2020_raw.csv').readlines()\n",
    "smis=[x.split(',')[-1].rstrip() for x in smis[1:]]"
   ]
  },
  {
   "cell_type": "code",
   "execution_count": 10,
   "metadata": {
    "scrolled": true
   },
   "outputs": [],
   "source": [
    "mat_gpu_times_2d=[]\n",
    "mat_gpu_times_3d=[]\n",
    "stn_gpu_times_2d=[]\n",
    "stn_gpu_times_3d=[]\n",
    "for s in smis:\n",
    "    mat_gpu_times_2d.append(complex_measure(mat_gpu,[s],two_d=True))\n",
    "    mat_gpu_times_3d.append(complex_measure(mat_gpu,[s],two_d=False))\n",
    "    stn_gpu_times_2d.append(complex_measure(stn_gpu,[s],two_d=True))\n",
    "    stn_gpu_times_3d.append(complex_measure(stn_gpu,[s],two_d=False))"
   ]
  },
  {
   "cell_type": "code",
   "execution_count": 11,
   "metadata": {},
   "outputs": [
    {
     "name": "stdout",
     "output_type": "stream",
     "text": [
      "MAT GPU - 2D 0.02151161071025964 s per molecule\n",
      "MAT GPU - 3D 0.139426897872578 s per molecule\n",
      "STN GPU - 2D 0.022470958305127693 s per molecule\n",
      "STN GPU - 3D 0.1367122603185249 s per molecule\n"
     ]
    }
   ],
   "source": [
    "#plotting the length sorted version of the one we did.\n",
    "print(f'MAT GPU - 2D {np.mean([x[0] for x in mat_gpu_times_2d])} s per molecule')\n",
    "print(f'MAT GPU - 3D {np.mean([x[0] for x in mat_gpu_times_3d])} s per molecule')\n",
    "print(f'STN GPU - 2D {np.mean([x[0] for x in stn_gpu_times_2d])} s per molecule')\n",
    "print(f'STN GPU - 3D {np.mean([x[0] for x in stn_gpu_times_3d])} s per molecule')"
   ]
  },
  {
   "cell_type": "code",
   "execution_count": 12,
   "metadata": {
    "collapsed": true
   },
   "outputs": [
    {
     "data": {
      "text/plain": [
       "GraphTransformer(\n",
       "  (encoder): Encoder(\n",
       "    (layers): ModuleList(\n",
       "      (0): EncoderLayer(\n",
       "        (self_attn): MultiHeadedAttention(\n",
       "          (linears): ModuleList(\n",
       "            (0): Linear(in_features=1024, out_features=1024, bias=True)\n",
       "            (1): Linear(in_features=1024, out_features=1024, bias=True)\n",
       "            (2): Linear(in_features=1024, out_features=1024, bias=True)\n",
       "            (3): Linear(in_features=1024, out_features=1024, bias=True)\n",
       "          )\n",
       "          (dropout): Dropout(p=0.0, inplace=False)\n",
       "        )\n",
       "        (feed_forward): PositionwiseFeedForward(\n",
       "          (linears): ModuleList(\n",
       "            (0): Linear(in_features=1024, out_features=1024, bias=True)\n",
       "          )\n",
       "          (dropout): ModuleList(\n",
       "            (0): Dropout(p=0.0, inplace=False)\n",
       "          )\n",
       "        )\n",
       "        (sublayer): ModuleList(\n",
       "          (0): SublayerConnection(\n",
       "            (norm): LayerNorm()\n",
       "            (dropout): Dropout(p=0.0, inplace=False)\n",
       "          )\n",
       "          (1): SublayerConnection(\n",
       "            (norm): LayerNorm()\n",
       "            (dropout): Dropout(p=0.0, inplace=False)\n",
       "          )\n",
       "        )\n",
       "      )\n",
       "      (1): EncoderLayer(\n",
       "        (self_attn): MultiHeadedAttention(\n",
       "          (linears): ModuleList(\n",
       "            (0): Linear(in_features=1024, out_features=1024, bias=True)\n",
       "            (1): Linear(in_features=1024, out_features=1024, bias=True)\n",
       "            (2): Linear(in_features=1024, out_features=1024, bias=True)\n",
       "            (3): Linear(in_features=1024, out_features=1024, bias=True)\n",
       "          )\n",
       "          (dropout): Dropout(p=0.0, inplace=False)\n",
       "        )\n",
       "        (feed_forward): PositionwiseFeedForward(\n",
       "          (linears): ModuleList(\n",
       "            (0): Linear(in_features=1024, out_features=1024, bias=True)\n",
       "          )\n",
       "          (dropout): ModuleList(\n",
       "            (0): Dropout(p=0.0, inplace=False)\n",
       "          )\n",
       "        )\n",
       "        (sublayer): ModuleList(\n",
       "          (0): SublayerConnection(\n",
       "            (norm): LayerNorm()\n",
       "            (dropout): Dropout(p=0.0, inplace=False)\n",
       "          )\n",
       "          (1): SublayerConnection(\n",
       "            (norm): LayerNorm()\n",
       "            (dropout): Dropout(p=0.0, inplace=False)\n",
       "          )\n",
       "        )\n",
       "      )\n",
       "      (2): EncoderLayer(\n",
       "        (self_attn): MultiHeadedAttention(\n",
       "          (linears): ModuleList(\n",
       "            (0): Linear(in_features=1024, out_features=1024, bias=True)\n",
       "            (1): Linear(in_features=1024, out_features=1024, bias=True)\n",
       "            (2): Linear(in_features=1024, out_features=1024, bias=True)\n",
       "            (3): Linear(in_features=1024, out_features=1024, bias=True)\n",
       "          )\n",
       "          (dropout): Dropout(p=0.0, inplace=False)\n",
       "        )\n",
       "        (feed_forward): PositionwiseFeedForward(\n",
       "          (linears): ModuleList(\n",
       "            (0): Linear(in_features=1024, out_features=1024, bias=True)\n",
       "          )\n",
       "          (dropout): ModuleList(\n",
       "            (0): Dropout(p=0.0, inplace=False)\n",
       "          )\n",
       "        )\n",
       "        (sublayer): ModuleList(\n",
       "          (0): SublayerConnection(\n",
       "            (norm): LayerNorm()\n",
       "            (dropout): Dropout(p=0.0, inplace=False)\n",
       "          )\n",
       "          (1): SublayerConnection(\n",
       "            (norm): LayerNorm()\n",
       "            (dropout): Dropout(p=0.0, inplace=False)\n",
       "          )\n",
       "        )\n",
       "      )\n",
       "      (3): EncoderLayer(\n",
       "        (self_attn): MultiHeadedAttention(\n",
       "          (linears): ModuleList(\n",
       "            (0): Linear(in_features=1024, out_features=1024, bias=True)\n",
       "            (1): Linear(in_features=1024, out_features=1024, bias=True)\n",
       "            (2): Linear(in_features=1024, out_features=1024, bias=True)\n",
       "            (3): Linear(in_features=1024, out_features=1024, bias=True)\n",
       "          )\n",
       "          (dropout): Dropout(p=0.0, inplace=False)\n",
       "        )\n",
       "        (feed_forward): PositionwiseFeedForward(\n",
       "          (linears): ModuleList(\n",
       "            (0): Linear(in_features=1024, out_features=1024, bias=True)\n",
       "          )\n",
       "          (dropout): ModuleList(\n",
       "            (0): Dropout(p=0.0, inplace=False)\n",
       "          )\n",
       "        )\n",
       "        (sublayer): ModuleList(\n",
       "          (0): SublayerConnection(\n",
       "            (norm): LayerNorm()\n",
       "            (dropout): Dropout(p=0.0, inplace=False)\n",
       "          )\n",
       "          (1): SublayerConnection(\n",
       "            (norm): LayerNorm()\n",
       "            (dropout): Dropout(p=0.0, inplace=False)\n",
       "          )\n",
       "        )\n",
       "      )\n",
       "      (4): EncoderLayer(\n",
       "        (self_attn): MultiHeadedAttention(\n",
       "          (linears): ModuleList(\n",
       "            (0): Linear(in_features=1024, out_features=1024, bias=True)\n",
       "            (1): Linear(in_features=1024, out_features=1024, bias=True)\n",
       "            (2): Linear(in_features=1024, out_features=1024, bias=True)\n",
       "            (3): Linear(in_features=1024, out_features=1024, bias=True)\n",
       "          )\n",
       "          (dropout): Dropout(p=0.0, inplace=False)\n",
       "        )\n",
       "        (feed_forward): PositionwiseFeedForward(\n",
       "          (linears): ModuleList(\n",
       "            (0): Linear(in_features=1024, out_features=1024, bias=True)\n",
       "          )\n",
       "          (dropout): ModuleList(\n",
       "            (0): Dropout(p=0.0, inplace=False)\n",
       "          )\n",
       "        )\n",
       "        (sublayer): ModuleList(\n",
       "          (0): SublayerConnection(\n",
       "            (norm): LayerNorm()\n",
       "            (dropout): Dropout(p=0.0, inplace=False)\n",
       "          )\n",
       "          (1): SublayerConnection(\n",
       "            (norm): LayerNorm()\n",
       "            (dropout): Dropout(p=0.0, inplace=False)\n",
       "          )\n",
       "        )\n",
       "      )\n",
       "      (5): EncoderLayer(\n",
       "        (self_attn): MultiHeadedAttention(\n",
       "          (linears): ModuleList(\n",
       "            (0): Linear(in_features=1024, out_features=1024, bias=True)\n",
       "            (1): Linear(in_features=1024, out_features=1024, bias=True)\n",
       "            (2): Linear(in_features=1024, out_features=1024, bias=True)\n",
       "            (3): Linear(in_features=1024, out_features=1024, bias=True)\n",
       "          )\n",
       "          (dropout): Dropout(p=0.0, inplace=False)\n",
       "        )\n",
       "        (feed_forward): PositionwiseFeedForward(\n",
       "          (linears): ModuleList(\n",
       "            (0): Linear(in_features=1024, out_features=1024, bias=True)\n",
       "          )\n",
       "          (dropout): ModuleList(\n",
       "            (0): Dropout(p=0.0, inplace=False)\n",
       "          )\n",
       "        )\n",
       "        (sublayer): ModuleList(\n",
       "          (0): SublayerConnection(\n",
       "            (norm): LayerNorm()\n",
       "            (dropout): Dropout(p=0.0, inplace=False)\n",
       "          )\n",
       "          (1): SublayerConnection(\n",
       "            (norm): LayerNorm()\n",
       "            (dropout): Dropout(p=0.0, inplace=False)\n",
       "          )\n",
       "        )\n",
       "      )\n",
       "      (6): EncoderLayer(\n",
       "        (self_attn): MultiHeadedAttention(\n",
       "          (linears): ModuleList(\n",
       "            (0): Linear(in_features=1024, out_features=1024, bias=True)\n",
       "            (1): Linear(in_features=1024, out_features=1024, bias=True)\n",
       "            (2): Linear(in_features=1024, out_features=1024, bias=True)\n",
       "            (3): Linear(in_features=1024, out_features=1024, bias=True)\n",
       "          )\n",
       "          (dropout): Dropout(p=0.0, inplace=False)\n",
       "        )\n",
       "        (feed_forward): PositionwiseFeedForward(\n",
       "          (linears): ModuleList(\n",
       "            (0): Linear(in_features=1024, out_features=1024, bias=True)\n",
       "          )\n",
       "          (dropout): ModuleList(\n",
       "            (0): Dropout(p=0.0, inplace=False)\n",
       "          )\n",
       "        )\n",
       "        (sublayer): ModuleList(\n",
       "          (0): SublayerConnection(\n",
       "            (norm): LayerNorm()\n",
       "            (dropout): Dropout(p=0.0, inplace=False)\n",
       "          )\n",
       "          (1): SublayerConnection(\n",
       "            (norm): LayerNorm()\n",
       "            (dropout): Dropout(p=0.0, inplace=False)\n",
       "          )\n",
       "        )\n",
       "      )\n",
       "      (7): EncoderLayer(\n",
       "        (self_attn): MultiHeadedAttention(\n",
       "          (linears): ModuleList(\n",
       "            (0): Linear(in_features=1024, out_features=1024, bias=True)\n",
       "            (1): Linear(in_features=1024, out_features=1024, bias=True)\n",
       "            (2): Linear(in_features=1024, out_features=1024, bias=True)\n",
       "            (3): Linear(in_features=1024, out_features=1024, bias=True)\n",
       "          )\n",
       "          (dropout): Dropout(p=0.0, inplace=False)\n",
       "        )\n",
       "        (feed_forward): PositionwiseFeedForward(\n",
       "          (linears): ModuleList(\n",
       "            (0): Linear(in_features=1024, out_features=1024, bias=True)\n",
       "          )\n",
       "          (dropout): ModuleList(\n",
       "            (0): Dropout(p=0.0, inplace=False)\n",
       "          )\n",
       "        )\n",
       "        (sublayer): ModuleList(\n",
       "          (0): SublayerConnection(\n",
       "            (norm): LayerNorm()\n",
       "            (dropout): Dropout(p=0.0, inplace=False)\n",
       "          )\n",
       "          (1): SublayerConnection(\n",
       "            (norm): LayerNorm()\n",
       "            (dropout): Dropout(p=0.0, inplace=False)\n",
       "          )\n",
       "        )\n",
       "      )\n",
       "    )\n",
       "    (norm): LayerNorm()\n",
       "  )\n",
       "  (src_embed): Embeddings(\n",
       "    (lut): Linear(in_features=28, out_features=1024, bias=True)\n",
       "    (dropout): Dropout(p=0.0, inplace=False)\n",
       "  )\n",
       "  (generator): Generator(\n",
       "    (proj): Linear(in_features=1024, out_features=1, bias=True)\n",
       "  )\n",
       ")"
      ]
     },
     "execution_count": 12,
     "metadata": {},
     "output_type": "execute_result"
    }
   ],
   "source": [
    "#doing the same analysis as above, but on CPU\n",
    "mat_cpu=make_model(**mat_model_params)\n",
    "mat_cpu.to('cpu')"
   ]
  },
  {
   "cell_type": "code",
   "execution_count": 13,
   "metadata": {
    "collapsed": true
   },
   "outputs": [
    {
     "data": {
      "text/plain": [
       "GraphTransformer(\n",
       "  (encoder): Encoder(\n",
       "    (layers): ModuleList(\n",
       "      (0): EncoderLayer(\n",
       "        (self_attn): MultiHeadedAttention(\n",
       "          (linears): ModuleList(\n",
       "            (0): Linear(in_features=8, out_features=8, bias=True)\n",
       "            (1): Linear(in_features=8, out_features=8, bias=True)\n",
       "            (2): Linear(in_features=8, out_features=8, bias=True)\n",
       "            (3): Linear(in_features=8, out_features=8, bias=True)\n",
       "          )\n",
       "          (dropout): Dropout(p=0.1, inplace=False)\n",
       "        )\n",
       "        (feed_forward): PositionwiseFeedForward(\n",
       "          (linears): ModuleList(\n",
       "            (0): Linear(in_features=8, out_features=8, bias=True)\n",
       "          )\n",
       "          (dropout): ModuleList(\n",
       "            (0): Dropout(p=0.1, inplace=False)\n",
       "          )\n",
       "        )\n",
       "        (sublayer): ModuleList(\n",
       "          (0): SublayerConnection(\n",
       "            (norm): LayerNorm()\n",
       "            (dropout): Dropout(p=0.1, inplace=False)\n",
       "          )\n",
       "          (1): SublayerConnection(\n",
       "            (norm): LayerNorm()\n",
       "            (dropout): Dropout(p=0.1, inplace=False)\n",
       "          )\n",
       "        )\n",
       "      )\n",
       "      (1): EncoderLayer(\n",
       "        (self_attn): MultiHeadedAttention(\n",
       "          (linears): ModuleList(\n",
       "            (0): Linear(in_features=8, out_features=8, bias=True)\n",
       "            (1): Linear(in_features=8, out_features=8, bias=True)\n",
       "            (2): Linear(in_features=8, out_features=8, bias=True)\n",
       "            (3): Linear(in_features=8, out_features=8, bias=True)\n",
       "          )\n",
       "          (dropout): Dropout(p=0.1, inplace=False)\n",
       "        )\n",
       "        (feed_forward): PositionwiseFeedForward(\n",
       "          (linears): ModuleList(\n",
       "            (0): Linear(in_features=8, out_features=8, bias=True)\n",
       "          )\n",
       "          (dropout): ModuleList(\n",
       "            (0): Dropout(p=0.1, inplace=False)\n",
       "          )\n",
       "        )\n",
       "        (sublayer): ModuleList(\n",
       "          (0): SublayerConnection(\n",
       "            (norm): LayerNorm()\n",
       "            (dropout): Dropout(p=0.1, inplace=False)\n",
       "          )\n",
       "          (1): SublayerConnection(\n",
       "            (norm): LayerNorm()\n",
       "            (dropout): Dropout(p=0.1, inplace=False)\n",
       "          )\n",
       "        )\n",
       "      )\n",
       "      (2): EncoderLayer(\n",
       "        (self_attn): MultiHeadedAttention(\n",
       "          (linears): ModuleList(\n",
       "            (0): Linear(in_features=8, out_features=8, bias=True)\n",
       "            (1): Linear(in_features=8, out_features=8, bias=True)\n",
       "            (2): Linear(in_features=8, out_features=8, bias=True)\n",
       "            (3): Linear(in_features=8, out_features=8, bias=True)\n",
       "          )\n",
       "          (dropout): Dropout(p=0.1, inplace=False)\n",
       "        )\n",
       "        (feed_forward): PositionwiseFeedForward(\n",
       "          (linears): ModuleList(\n",
       "            (0): Linear(in_features=8, out_features=8, bias=True)\n",
       "          )\n",
       "          (dropout): ModuleList(\n",
       "            (0): Dropout(p=0.1, inplace=False)\n",
       "          )\n",
       "        )\n",
       "        (sublayer): ModuleList(\n",
       "          (0): SublayerConnection(\n",
       "            (norm): LayerNorm()\n",
       "            (dropout): Dropout(p=0.1, inplace=False)\n",
       "          )\n",
       "          (1): SublayerConnection(\n",
       "            (norm): LayerNorm()\n",
       "            (dropout): Dropout(p=0.1, inplace=False)\n",
       "          )\n",
       "        )\n",
       "      )\n",
       "      (3): EncoderLayer(\n",
       "        (self_attn): MultiHeadedAttention(\n",
       "          (linears): ModuleList(\n",
       "            (0): Linear(in_features=8, out_features=8, bias=True)\n",
       "            (1): Linear(in_features=8, out_features=8, bias=True)\n",
       "            (2): Linear(in_features=8, out_features=8, bias=True)\n",
       "            (3): Linear(in_features=8, out_features=8, bias=True)\n",
       "          )\n",
       "          (dropout): Dropout(p=0.1, inplace=False)\n",
       "        )\n",
       "        (feed_forward): PositionwiseFeedForward(\n",
       "          (linears): ModuleList(\n",
       "            (0): Linear(in_features=8, out_features=8, bias=True)\n",
       "          )\n",
       "          (dropout): ModuleList(\n",
       "            (0): Dropout(p=0.1, inplace=False)\n",
       "          )\n",
       "        )\n",
       "        (sublayer): ModuleList(\n",
       "          (0): SublayerConnection(\n",
       "            (norm): LayerNorm()\n",
       "            (dropout): Dropout(p=0.1, inplace=False)\n",
       "          )\n",
       "          (1): SublayerConnection(\n",
       "            (norm): LayerNorm()\n",
       "            (dropout): Dropout(p=0.1, inplace=False)\n",
       "          )\n",
       "        )\n",
       "      )\n",
       "      (4): EncoderLayer(\n",
       "        (self_attn): MultiHeadedAttention(\n",
       "          (linears): ModuleList(\n",
       "            (0): Linear(in_features=8, out_features=8, bias=True)\n",
       "            (1): Linear(in_features=8, out_features=8, bias=True)\n",
       "            (2): Linear(in_features=8, out_features=8, bias=True)\n",
       "            (3): Linear(in_features=8, out_features=8, bias=True)\n",
       "          )\n",
       "          (dropout): Dropout(p=0.1, inplace=False)\n",
       "        )\n",
       "        (feed_forward): PositionwiseFeedForward(\n",
       "          (linears): ModuleList(\n",
       "            (0): Linear(in_features=8, out_features=8, bias=True)\n",
       "          )\n",
       "          (dropout): ModuleList(\n",
       "            (0): Dropout(p=0.1, inplace=False)\n",
       "          )\n",
       "        )\n",
       "        (sublayer): ModuleList(\n",
       "          (0): SublayerConnection(\n",
       "            (norm): LayerNorm()\n",
       "            (dropout): Dropout(p=0.1, inplace=False)\n",
       "          )\n",
       "          (1): SublayerConnection(\n",
       "            (norm): LayerNorm()\n",
       "            (dropout): Dropout(p=0.1, inplace=False)\n",
       "          )\n",
       "        )\n",
       "      )\n",
       "      (5): EncoderLayer(\n",
       "        (self_attn): MultiHeadedAttention(\n",
       "          (linears): ModuleList(\n",
       "            (0): Linear(in_features=8, out_features=8, bias=True)\n",
       "            (1): Linear(in_features=8, out_features=8, bias=True)\n",
       "            (2): Linear(in_features=8, out_features=8, bias=True)\n",
       "            (3): Linear(in_features=8, out_features=8, bias=True)\n",
       "          )\n",
       "          (dropout): Dropout(p=0.1, inplace=False)\n",
       "        )\n",
       "        (feed_forward): PositionwiseFeedForward(\n",
       "          (linears): ModuleList(\n",
       "            (0): Linear(in_features=8, out_features=8, bias=True)\n",
       "          )\n",
       "          (dropout): ModuleList(\n",
       "            (0): Dropout(p=0.1, inplace=False)\n",
       "          )\n",
       "        )\n",
       "        (sublayer): ModuleList(\n",
       "          (0): SublayerConnection(\n",
       "            (norm): LayerNorm()\n",
       "            (dropout): Dropout(p=0.1, inplace=False)\n",
       "          )\n",
       "          (1): SublayerConnection(\n",
       "            (norm): LayerNorm()\n",
       "            (dropout): Dropout(p=0.1, inplace=False)\n",
       "          )\n",
       "        )\n",
       "      )\n",
       "      (6): EncoderLayer(\n",
       "        (self_attn): MultiHeadedAttention(\n",
       "          (linears): ModuleList(\n",
       "            (0): Linear(in_features=8, out_features=8, bias=True)\n",
       "            (1): Linear(in_features=8, out_features=8, bias=True)\n",
       "            (2): Linear(in_features=8, out_features=8, bias=True)\n",
       "            (3): Linear(in_features=8, out_features=8, bias=True)\n",
       "          )\n",
       "          (dropout): Dropout(p=0.1, inplace=False)\n",
       "        )\n",
       "        (feed_forward): PositionwiseFeedForward(\n",
       "          (linears): ModuleList(\n",
       "            (0): Linear(in_features=8, out_features=8, bias=True)\n",
       "          )\n",
       "          (dropout): ModuleList(\n",
       "            (0): Dropout(p=0.1, inplace=False)\n",
       "          )\n",
       "        )\n",
       "        (sublayer): ModuleList(\n",
       "          (0): SublayerConnection(\n",
       "            (norm): LayerNorm()\n",
       "            (dropout): Dropout(p=0.1, inplace=False)\n",
       "          )\n",
       "          (1): SublayerConnection(\n",
       "            (norm): LayerNorm()\n",
       "            (dropout): Dropout(p=0.1, inplace=False)\n",
       "          )\n",
       "        )\n",
       "      )\n",
       "      (7): EncoderLayer(\n",
       "        (self_attn): MultiHeadedAttention(\n",
       "          (linears): ModuleList(\n",
       "            (0): Linear(in_features=8, out_features=8, bias=True)\n",
       "            (1): Linear(in_features=8, out_features=8, bias=True)\n",
       "            (2): Linear(in_features=8, out_features=8, bias=True)\n",
       "            (3): Linear(in_features=8, out_features=8, bias=True)\n",
       "          )\n",
       "          (dropout): Dropout(p=0.1, inplace=False)\n",
       "        )\n",
       "        (feed_forward): PositionwiseFeedForward(\n",
       "          (linears): ModuleList(\n",
       "            (0): Linear(in_features=8, out_features=8, bias=True)\n",
       "          )\n",
       "          (dropout): ModuleList(\n",
       "            (0): Dropout(p=0.1, inplace=False)\n",
       "          )\n",
       "        )\n",
       "        (sublayer): ModuleList(\n",
       "          (0): SublayerConnection(\n",
       "            (norm): LayerNorm()\n",
       "            (dropout): Dropout(p=0.1, inplace=False)\n",
       "          )\n",
       "          (1): SublayerConnection(\n",
       "            (norm): LayerNorm()\n",
       "            (dropout): Dropout(p=0.1, inplace=False)\n",
       "          )\n",
       "        )\n",
       "      )\n",
       "    )\n",
       "    (norm): LayerNorm()\n",
       "  )\n",
       "  (src_embed): Embeddings(\n",
       "    (lut): Linear(in_features=28, out_features=8, bias=True)\n",
       "    (dropout): Dropout(p=0.1, inplace=False)\n",
       "  )\n",
       "  (generator): Generator(\n",
       "    (proj): Linear(in_features=8, out_features=1, bias=True)\n",
       "  )\n",
       ")"
      ]
     },
     "execution_count": 13,
     "metadata": {},
     "output_type": "execute_result"
    }
   ],
   "source": [
    "stn_cpu=make_model(**stn_model_params)\n",
    "stn_cpu.to('cpu')"
   ]
  },
  {
   "cell_type": "code",
   "execution_count": 14,
   "metadata": {},
   "outputs": [],
   "source": [
    "mat_cpu_times_2d=[]\n",
    "mat_cpu_times_3d=[]\n",
    "stn_cpu_times_2d=[]\n",
    "stn_cpu_times_3d=[]\n",
    "for s in smis:\n",
    "    mat_cpu_times_2d.append(complex_measure(mat_cpu,[s],two_d=True,model_cpu=True))\n",
    "    mat_cpu_times_3d.append(complex_measure(mat_cpu,[s],two_d=False,model_cpu=True))\n",
    "    stn_cpu_times_2d.append(complex_measure(stn_cpu,[s],two_d=True,model_cpu=True))\n",
    "    stn_cpu_times_3d.append(complex_measure(stn_cpu,[s],two_d=False,model_cpu=True))"
   ]
  },
  {
   "cell_type": "code",
   "execution_count": 15,
   "metadata": {},
   "outputs": [
    {
     "name": "stdout",
     "output_type": "stream",
     "text": [
      "MAT CPU - 2D 0.03947355169238466 s per molecule\n",
      "MAT CPU - 3D 0.15999577262184836 s per molecule\n",
      "STN CPU - 2D 0.017622631607633648 s per molecule\n",
      "STN CPU - 3D 0.13685045278433597 s per molecule\n"
     ]
    }
   ],
   "source": [
    "#plotting the length sorted version of the one we did.\n",
    "print(f'MAT CPU - 2D {np.mean([x[0] for x in mat_cpu_times_2d])} s per molecule')\n",
    "print(f'MAT CPU - 3D {np.mean([x[0] for x in mat_cpu_times_3d])} s per molecule')\n",
    "print(f'STN CPU - 2D {np.mean([x[0] for x in stn_cpu_times_2d])} s per molecule')\n",
    "print(f'STN CPU - 3D {np.mean([x[0] for x in stn_cpu_times_3d])} s per molecule')"
   ]
  },
  {
   "cell_type": "markdown",
   "metadata": {},
   "source": [
    "## Generating the Latex for the performance on multiple test sets"
   ]
  },
  {
   "cell_type": "code",
   "execution_count": 12,
   "metadata": {},
   "outputs": [
    {
     "name": "stdout",
     "output_type": "stream",
     "text": [
      "Cui2020 Training R2:0.5601740099806233,0.03128221942074987  RMSE:0.7493463709134435,0.12960915284753105\n",
      "Boobier2017 R2:0.5432285946421288,0.1424843888425703  RMSE:1.2739101709030884,0.1775665240747097\n",
      "Louvric2020 Training 1000epochs Training R2:0.709438949167738,0.053656809968186156  RMSE:0.8979027406547612,0.10091079505030429\n",
      "Louvric2020 Training final_aq_model Training R2:0.7117037654597491,0.032691719047060315  RMSE:1.0314371940305525,0.06931176030697704\n",
      "LLinas2020 llinas_set1 Training R2:0.45372183414693534,0.019808754714666296  RMSE:1.4208055173003435,0.2041449451263055\n",
      "LLinas2020 llinas_set2 Training R2:0.7395709358690792,0.0172558025187511  RMSE:1.619194489094643,0.38049062764873726\n"
     ]
    }
   ],
   "source": [
    "#calculating the means and standard deviations for the table\n",
    "def helper(filename):\n",
    "    tmp=pickle.load(open(filename,'rb'))\n",
    "    return tmp['R2'],tmp['RMSE']\n",
    "\n",
    "def helper2(filename):\n",
    "    tmp=pd.read_csv(filename)\n",
    "    gold=np.array(tmp['true'].to_list())\n",
    "    pred=np.array(tmp['pred'].to_list())\n",
    "    ccvRMSE,ccvR2=get_stats(gold,pred)\n",
    "    return ccvR2, ccvRMSE\n",
    "\n",
    "#Cui et all 2020\n",
    "todo=glob.glob('data/cui2020/*testdic.pi')\n",
    "r2s=[]\n",
    "rmses=[]\n",
    "for fname in todo:\n",
    "    r2,rmse=helper(fname)\n",
    "    r2s.append(r2)\n",
    "    rmses.append(rmse)\n",
    "print(f'Cui2020 Training R2:{np.mean(r2s)},{np.std(r2s)}  RMSE:{np.mean(rmses)},{np.std(rmses)}')\n",
    "\n",
    "#Boobier et al 2017\n",
    "todo=glob.glob('data/boobier2017/*testdic.pi')\n",
    "r2s=[]\n",
    "rmses=[]\n",
    "for fname in todo:\n",
    "    r2,rmse=helper(fname)\n",
    "    r2s.append(r2)\n",
    "    rmses.append(rmse)\n",
    "print(f'Boobier2017 R2:{np.mean(r2s)},{np.std(r2s)}  RMSE:{np.mean(rmses)},{np.std(rmses)}')\n",
    "\n",
    "#Louvric et al 2020\n",
    "for key in ['1000epochs','final_aq_model']:\n",
    "    todo=glob.glob('data/louvric2020/*'+key+'*.predictions')\n",
    "    r2s=[]\n",
    "    rmses=[]\n",
    "    for fname in todo:\n",
    "        r2,rmse=helper2(fname)\n",
    "        r2s.append(r2)\n",
    "        rmses.append(rmse)\n",
    "    print(f'Louvric2020 Training {key} Training R2:{np.mean(r2s)},{np.std(r2s)}  RMSE:{np.mean(rmses)},{np.std(rmses)}')\n",
    "\n",
    "#LLinas et al 2020\n",
    "for key in ['llinas_set1','llinas_set2']:\n",
    "    todo=glob.glob(f'data/llinas2020/soltrannet/{key}*testdic.pi')\n",
    "    r2s=[]\n",
    "    rmses=[]\n",
    "    for fname in todo:\n",
    "        r2,rmse=helper(fname)\n",
    "        r2s.append(r2)\n",
    "        rmses.append(rmse)\n",
    "    print(f'LLinas2020 {key} Training R2:{np.mean(r2s)},{np.std(r2s)}  RMSE:{np.mean(rmses)},{np.std(rmses)}')"
   ]
  },
  {
   "cell_type": "code",
   "execution_count": null,
   "metadata": {},
   "outputs": [],
   "source": [
    "'''\n",
    "TODO\n",
    "\n",
    "1) add in print statement using helper function to above for the final selected AQ model\n",
    "2) add in code to print out the best model from above\n",
    "3) add in code to count overlap & add to above\n",
    "'''"
   ]
  },
  {
   "cell_type": "code",
   "execution_count": 13,
   "metadata": {},
   "outputs": [
    {
     "data": {
      "text/plain": [
       "Index(['Dataset', 'Reported R2', 'Reported RMSE', 'SolTranNet Training R2',\n",
       "       'SolTranNet Best R2', 'SolTranNet Deployed R2',\n",
       "       'SolTranNet Training RMSE', 'SolTranNet Best RMSE',\n",
       "       'SolTranNet Deployed RMSE', 'Deployed Training Overlap'],\n",
       "      dtype='object')"
      ]
     },
     "execution_count": 13,
     "metadata": {},
     "output_type": "execute_result"
    }
   ],
   "source": [
    "data=pd.read_csv('data/soltrannet_othersets.csv')\n",
    "data.columns"
   ]
  },
  {
   "cell_type": "code",
   "execution_count": 17,
   "metadata": {},
   "outputs": [
    {
     "name": "stdout",
     "output_type": "stream",
     "text": [
      "\\begin{tabular}{llllrll}\n",
      "\\toprule\n",
      "{} &                 Dataset & Reported RMSE & SolTranNet Training RMSE &  SolTranNet Best RMSE & SolTranNet Deployed RMSE & Deployed Training Overlap \\\\\n",
      "\\midrule\n",
      "0 &          Cui et al 2020 &         0.681 &             0.749(0.130) &                 0.634 &                    0.704 &                      0/62 \\\\\n",
      "1 &      Boobier et al 2017 &  0.543(0.142) &                     1.01 &                 1.119 &                    23/25 &                       NaN \\\\\n",
      "2 &      Louvric et al 2020 &          0.72 &             0.898(0.101) &                 0.720 &            1.031(0.0693) &          151.4(3.382)/166 \\\\\n",
      "3 &  Llinas et al 2020 set1 &          0.78 &             1.421(0.204) &                 1.055 &                    1.301 &                    79/100 \\\\\n",
      "4 &  LLinas et al 2020 set2 &          1.06 &             1.619(0.380) &                 1.229 &                    1.729 &                     18/32 \\\\\n",
      "\\bottomrule\n",
      "\\end{tabular}\n",
      "\n"
     ]
    }
   ],
   "source": [
    "print(data.to_latex(columns=['Dataset']+[x for x in data.columns.tolist() if 'RMSE' in x]+['Deployed Training Overlap']))"
   ]
  },
  {
   "cell_type": "code",
   "execution_count": 18,
   "metadata": {},
   "outputs": [
    {
     "name": "stdout",
     "output_type": "stream",
     "text": [
      "\\begin{tabular}{llllrll}\n",
      "\\toprule\n",
      "{} &                 Dataset &  Reported R2 & SolTranNet Training R2 &  SolTranNet Best R2 & SolTranNet Deployed R2 & Deployed Training Overlap \\\\\n",
      "\\midrule\n",
      "0 &          Cui et al 2020 &        0.412 &          0.560(0.0313) &               0.604 &                  0.650 &                      0/62 \\\\\n",
      "1 &      Boobier et al 2017 &  0.706.0.985 &                  0.724 &               0.672 &           1.274(0.178) &                       NaN \\\\\n",
      "2 &      Louvric et al 2020 &           -- &          0.709(0.0537) &               0.783 &          0.712(0.0327) &          151.4(3.382)/166 \\\\\n",
      "3 &  Llinas et al 2020 set1 &         0.62 &          0.454(0.0198) &               0.478 &                  0.511 &                    79/100 \\\\\n",
      "4 &  LLinas et al 2020 set2 &         0.75 &          0.740(0.0172) &               0.770 &                  0.720 &                     18/32 \\\\\n",
      "\\bottomrule\n",
      "\\end{tabular}\n",
      "\n"
     ]
    }
   ],
   "source": [
    "print(data.to_latex(columns=['Dataset']+[x for x in data.columns.tolist() if 'R2' in x]+['Deployed Training Overlap']))"
   ]
  },
  {
   "cell_type": "markdown",
   "metadata": {},
   "source": [
    "## Generating the plots for the \"slicing analysis\"?"
   ]
  },
  {
   "cell_type": "code",
   "execution_count": 38,
   "metadata": {},
   "outputs": [],
   "source": [
    "def calc_stats(pred_array, true_array, insol_thresh=-6, lower_sol_thresh=-4, upper_sol_thresh=100000):\n",
    "    '''\n",
    "    This function will calculate the following on the predicted array:\n",
    "        Hit% = #correct(lower_sol_thresh,upper_sol_thresh) / #(lower_sol_thresh,upper_sol_thresh)\n",
    "        Fail% = #true(insol_thresh)pred(lower_sol_thresh,upper_sol_thresh) / #pred(lower_sol_thresh,upper_sol_thresh)\n",
    "    \n",
    "    Assumptions: pred_array,true_array are paired numpy arrays.\n",
    "    '''\n",
    "    \n",
    "    #first we need to access the examples which have true in (lower_sol_thresh, upper_sol_thresh)\n",
    "    true_mask=(true_array > lower_sol_thresh)&(true_array<upper_sol_thresh)\n",
    "    \n",
    "    #calculating the Hit%\n",
    "    num_true=len(true_array[true_mask])\n",
    "    poss_hits=pred_array[true_mask]\n",
    "    num_hits=np.sum((poss_hits>lower_sol_thresh)&(poss_hits<upper_sol_thresh))\n",
    "    hit=num_hits/float(num_true)\n",
    "    \n",
    "    #calculating the Fail%\n",
    "    pred_mask=(pred_array > lower_sol_thresh)&(pred_array<upper_sol_thresh)\n",
    "    insol_mask=true_array <= insol_thresh\n",
    "    fail=np.sum(insol_mask & pred_mask) / float(np.sum(pred_mask))\n",
    "    \n",
    "    return hit,fail,np.sum(true_mask),np.sum(pred_mask)"
   ]
  },
  {
   "cell_type": "code",
   "execution_count": 39,
   "metadata": {
    "scrolled": false
   },
   "outputs": [],
   "source": [
    "data={'hit':[],'fail':[]}\n",
    "\n",
    "#adding the SolTranNet data\n",
    "truths=np.array([])\n",
    "preds=np.array([])\n",
    "for s in ['set1','set2']:\n",
    "    tmp=pd.read_csv(f'data/llinas2020/soltrannet/llinas_{s}_final_aq_model.predictions')\n",
    "    t=tmp['true']\n",
    "    truths=np.append(truths,t)\n",
    "    p=tmp['pred']\n",
    "    preds=np.append(preds,p)\n",
    "hit,fail,nt,npred=calc_stats(preds,truths)\n",
    "data['hit'].append(('SolTranNet',hit))\n",
    "data['fail'].append(('SolTranNet',fail))"
   ]
  },
  {
   "cell_type": "code",
   "execution_count": 35,
   "metadata": {},
   "outputs": [
    {
     "data": {
      "text/plain": [
       "{'hit': [('SolTranNet', 0.9655172413793104)],\n",
       " 'fail': [('SolTranNet', 0.052083333333333336)]}"
      ]
     },
     "execution_count": 35,
     "metadata": {},
     "output_type": "execute_result"
    }
   ],
   "source": [
    "data"
   ]
  },
  {
   "cell_type": "code",
   "execution_count": 32,
   "metadata": {
    "scrolled": true
   },
   "outputs": [
    {
     "data": {
      "text/plain": [
       "-4.321439393939395"
      ]
     },
     "execution_count": 32,
     "metadata": {},
     "output_type": "execute_result"
    }
   ],
   "source": [
    "np.mean(truths)"
   ]
  },
  {
   "cell_type": "code",
   "execution_count": 34,
   "metadata": {},
   "outputs": [
    {
     "data": {
      "image/png": "[encoded data removed]",
      "text/plain": [
       "<Figure size 432x288 with 1 Axes>"
      ]
     },
     "metadata": {
      "needs_background": "light"
     },
     "output_type": "display_data"
    }
   ],
   "source": [
    "plt.hist(truths)\n",
    "plt.xlabel('log(S)')\n",
    "plt.ylabel('Count')\n",
    "plt.savefig('figures/histogram_solchal2_true_logs.pdf')"
   ]
  },
  {
   "cell_type": "code",
   "execution_count": 42,
   "metadata": {},
   "outputs": [],
   "source": [
    "all_files=glob.glob('data/llinas2020/submitted/*.csv')\n",
    "keys=set([x.split('/')[-1].split('_set')[0] for x in all_files])\n",
    "for k in keys:\n",
    "    truths=np.array([])\n",
    "    preds=np.array([])\n",
    "    todo=glob.glob(f'data/llinas2020/submitted/{k}*.csv')\n",
    "    for fname in todo:\n",
    "        tmp=pd.read_csv(fname)\n",
    "        t=tmp['TRUE']\n",
    "        truths=np.append(truths,t)\n",
    "        p=tmp['PREDICTED']\n",
    "        preds=np.append(preds,p)\n",
    "    hit,fail,nt,npred=calc_stats(preds,truths)\n",
    "    if np.isnan(hit):\n",
    "        print(f'{k} hit is nan')\n",
    "    else:\n",
    "        data['hit'].append((k,hit))\n",
    "    \n",
    "    if np.isnan(fail):\n",
    "        print(f'{k} fail is nan')\n",
    "    else:\n",
    "        data['fail'].append((k,fail))"
   ]
  },
  {
   "cell_type": "code",
   "execution_count": 48,
   "metadata": {},
   "outputs": [
    {
     "data": {
      "image/png": "[encoded data removed]",
      "text/plain": [
       "<Figure size 684x360 with 1 Axes>"
      ]
     },
     "metadata": {
      "needs_background": "light"
     },
     "output_type": "display_data"
    },
    {
     "data": {
      "image/png": "[encoded data removed]",
      "text/plain": [
       "<Figure size 684x360 with 1 Axes>"
      ]
     },
     "metadata": {
      "needs_background": "light"
     },
     "output_type": "display_data"
    }
   ],
   "source": [
    "for k in data:\n",
    "    fig=plt.figure(figsize=(9.5,5))\n",
    "    if k=='hit':\n",
    "        all_data=sorted(data[k],key=lambda x:x[1],reverse=True)\n",
    "        plt.ylabel('Sensitivity')\n",
    "    else:\n",
    "        all_data=sorted(data[k],key=lambda x:x[1])\n",
    "        plt.ylabel('False Discovery Rate')\n",
    "    \n",
    "    labels=[x[0] for x in all_data]\n",
    "    ys=[x[1] for x in all_data]\n",
    "    x_pos=[i for i,_ in enumerate(all_data)]\n",
    "    colors=['purple' if x[0]=='SolTranNet' else 'green' for x in all_data]\n",
    "    plt.bar(x_pos,ys,color=colors)\n",
    "    plt.xlabel('Group')\n",
    "    plt.xticks(x_pos,labels,rotation='vertical')\n",
    "    plt.savefig(f'figures/{k}_solchal2.pdf')"
   ]
  },
  {
   "cell_type": "markdown",
   "metadata": {},
   "source": [
    "## Making Supp Figs XXX"
   ]
  },
  {
   "cell_type": "code",
   "execution_count": 17,
   "metadata": {},
   "outputs": [],
   "source": [
    "#Distribution of train/test solubilities for the scaffold split.\n",
    "files=glob.glob('data/training_data/aqsol_scaf_2d_t*.csv')\n",
    "sol_dic={'train':{},'test':{}}\n",
    "\n",
    "for f in files:\n",
    "    data=pd.read_csv(f)\n",
    "    if '_train' in f:\n",
    "        key1='train'\n",
    "    else:\n",
    "        key1='test'\n",
    "\n",
    "    fold=f.split(key1)[-1][0]\n",
    "    sol_dic[key1][fold]=data['y'].tolist()"
   ]
  },
  {
   "cell_type": "code",
   "execution_count": 18,
   "metadata": {
    "scrolled": true
   },
   "outputs": [
    {
     "name": "stdout",
     "output_type": "stream",
     "text": [
      "61\n"
     ]
    },
    {
     "data": {
      "image/png": "[encoded data removed]",
      "text/plain": [
       "<Figure size 432x288 with 1 Axes>"
      ]
     },
     "metadata": {
      "needs_background": "light"
     },
     "output_type": "display_data"
    },
    {
     "name": "stdout",
     "output_type": "stream",
     "text": [
      "61\n"
     ]
    },
    {
     "data": {
      "image/png": "[encoded data removed]",
      "text/plain": [
       "<Figure size 432x288 with 1 Axes>"
      ]
     },
     "metadata": {
      "needs_background": "light"
     },
     "output_type": "display_data"
    },
    {
     "name": "stdout",
     "output_type": "stream",
     "text": [
      "62\n"
     ]
    },
    {
     "data": {
      "image/png": "[encoded data removed]",
      "text/plain": [
       "<Figure size 432x288 with 1 Axes>"
      ]
     },
     "metadata": {
      "needs_background": "light"
     },
     "output_type": "display_data"
    }
   ],
   "source": [
    "for fold in ['0','1','2']:\n",
    "    w=0.25\n",
    "    n=math.ceil((max(sol_dic['train'][fold])-min(sol_dic['train'][fold]))/w)\n",
    "    print(n)\n",
    "    plt.rc('axes',labelsize=13)\n",
    "    plt.rc('axes',titlesize=13)\n",
    "    plt.figure()\n",
    "    plt.hist(sol_dic['train'][fold],label='Train',alpha=0.6,bins=n)\n",
    "    plt.hist(sol_dic['test'][fold],label='Test',alpha=0.6,bins=n)\n",
    "    plt.ylabel('Count')\n",
    "    plt.xlabel('Solubility')\n",
    "    plt.title('Aqsol Scaffold Split Fold '+fold+' Solubility Distribution')\n",
    "    plt.ylim((0,375))\n",
    "    plt.legend()\n",
    "    plt.savefig('figures/aqsol_scaf'+fold+'_soldist.pdf')\n",
    "    plt.show()"
   ]
  },
  {
   "cell_type": "code",
   "execution_count": 19,
   "metadata": {},
   "outputs": [
    {
     "name": "stdout",
     "output_type": "stream",
     "text": [
      "62\n",
      "47\n"
     ]
    },
    {
     "data": {
      "image/png": "[encoded data removed]",
      "text/plain": [
       "<Figure size 432x288 with 1 Axes>"
      ]
     },
     "metadata": {
      "needs_background": "light"
     },
     "output_type": "display_data"
    },
    {
     "data": {
      "image/png": "[encoded data removed]",
      "text/plain": [
       "<Figure size 432x288 with 1 Axes>"
      ]
     },
     "metadata": {
      "needs_background": "light"
     },
     "output_type": "display_data"
    }
   ],
   "source": [
    "#doing the same for the full Aqsol set and our independent set\n",
    "for fname in ['data/training_data/aqsol.csv','data/training_data/independent_sol.csv']:\n",
    "    plt.figure()\n",
    "    plt.rc('axes',labelsize=13)\n",
    "    plt.rc('axes',titlesize=13)\n",
    "    data=pd.read_csv(fname)\n",
    "    if 'aqsol' in fname:\n",
    "        l='AqSolDB'\n",
    "        c='#1f77b4'\n",
    "    else:\n",
    "        l='Independent'\n",
    "        c='#ff7f0e'\n",
    "    w=0.25\n",
    "    n=math.ceil((max(data['y'])-min(data['y']))/w)\n",
    "    print(n)\n",
    "    plt.hist(data['y'],label=l,color=c,alpha=0.6)\n",
    "    plt.legend()\n",
    "    plt.ylabel('Solubility')\n",
    "    plt.xlabel('Count')\n",
    "    plt.title(f'{l} Solubility Distribution')\n",
    "    plt.savefig(f'figures/{l}_solhist.pdf')"
   ]
  },
  {
   "cell_type": "code",
   "execution_count": null,
   "metadata": {},
   "outputs": [],
   "source": []
  }
 ],
 "metadata": {
  "kernelspec": {
   "display_name": "Python 3",
   "language": "python",
   "name": "python3"
  },
  "language_info": {
   "codemirror_mode": {
    "name": "ipython",
    "version": 3
   },
   "file_extension": ".py",
   "mimetype": "text/x-python",
   "name": "python",
   "nbconvert_exporter": "python",
   "pygments_lexer": "ipython3",
   "version": "3.6.9"
  }
 },
 "nbformat": 4,
 "nbformat_minor": 2
}
